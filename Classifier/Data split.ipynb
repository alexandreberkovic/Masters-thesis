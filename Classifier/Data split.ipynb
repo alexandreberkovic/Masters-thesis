{
 "cells": [
  {
   "cell_type": "markdown",
   "id": "ffe4d538",
   "metadata": {},
   "source": [
    "# Deep Convolutional Neural Network for Art Classification with PyTorch\n",
    "# Part 2: Dataset (ETL)"
   ]
  },
  {
   "cell_type": "markdown",
   "id": "529a6952",
   "metadata": {},
   "source": [
    "## Imports"
   ]
  },
  {
   "cell_type": "code",
   "execution_count": 1,
   "id": "28266271",
   "metadata": {},
   "outputs": [],
   "source": [
    "import os\n",
    "import shutil\n",
    "import torch\n",
    "import torchvision\n",
    "import tarfile\n",
    "from torchvision.datasets.utils import download_url\n",
    "from torch.utils.data import random_split\n",
    "from torchvision.datasets import ImageFolder\n",
    "from torchvision.transforms import ToTensor\n",
    "import PIL\n",
    "from PIL import Image\n",
    "import cv2\n",
    "import pathlib\n",
    "import glob\n",
    "from pathlib import Path\n",
    "import numpy as np\n",
    "import shutil\n",
    "import random\n",
    "import pandas as pd\n",
    "import argparse\n",
    "import matplotlib\n",
    "import matplotlib.pyplot as plt\n",
    "from tqdm import tqdm"
   ]
  },
  {
   "cell_type": "code",
   "execution_count": 2,
   "id": "61e22507",
   "metadata": {},
   "outputs": [
    {
     "data": {
      "text/plain": [
       "'cuda'"
      ]
     },
     "execution_count": 2,
     "metadata": {},
     "output_type": "execute_result"
    }
   ],
   "source": [
    "# import PyTorch and its related packages\n",
    "import torch as T\n",
    "import torch.nn as nn\n",
    "import torch.optim as optim\n",
    "import torch.nn.functional as F\n",
    "\n",
    "import torchvision\n",
    "import torchvision.transforms as transforms\n",
    "\n",
    "# set default device based on CUDA's availability\n",
    "device = 'cuda' if T.cuda.is_available() else 'cpu'\n",
    "device"
   ]
  },
  {
   "cell_type": "code",
   "execution_count": 4,
   "id": "4824551f",
   "metadata": {},
   "outputs": [],
   "source": [
    "project_name='CNN_classifier'"
   ]
  },
  {
   "cell_type": "code",
   "execution_count": 9,
   "id": "63af596f",
   "metadata": {},
   "outputs": [],
   "source": [
    "# path_str = '/Users/alexandreberkovic/Desktop/Year_4/Masters'\n",
    "path_str = '/home/ec2-user/SageMaker/wikiart_binary'"
   ]
  },
  {
   "cell_type": "code",
   "execution_count": 10,
   "id": "d6e65e03",
   "metadata": {},
   "outputs": [],
   "source": [
    "path = Path(path_str)"
   ]
  },
  {
   "cell_type": "code",
   "execution_count": 11,
   "id": "9e9edabc",
   "metadata": {},
   "outputs": [],
   "source": [
    "# directory of image folders per mouvement\n",
    "# img_folders = Path(path_str+'/'+'Dataset/wikiart')\n",
    "img_folders = path"
   ]
  },
  {
   "cell_type": "code",
   "execution_count": 12,
   "id": "2e825ee7",
   "metadata": {},
   "outputs": [],
   "source": [
    "# remove DS_Store file\n",
    "folders = list(os.listdir(img_folders))\n",
    "# folders.remove('.DS_Store')"
   ]
  },
  {
   "cell_type": "code",
   "execution_count": 13,
   "id": "ebe733be",
   "metadata": {},
   "outputs": [
    {
     "data": {
      "text/plain": [
       "['.ipynb_checkpoints', 'test', 'train']"
      ]
     },
     "execution_count": 13,
     "metadata": {},
     "output_type": "execute_result"
    }
   ],
   "source": [
    "folders"
   ]
  },
  {
   "cell_type": "markdown",
   "id": "99f30d13",
   "metadata": {},
   "source": [
    "## Training and validation sets"
   ]
  },
  {
   "cell_type": "code",
   "execution_count": 26,
   "id": "a8b083af",
   "metadata": {},
   "outputs": [],
   "source": [
    "def get_files_from_folder(path):\n",
    "\n",
    "    files = os.listdir(path)\n",
    "    return np.asarray(files)"
   ]
  },
  {
   "cell_type": "code",
   "execution_count": 27,
   "id": "fbe79c28",
   "metadata": {},
   "outputs": [],
   "source": [
    "def split_data(path_to_data, path_to_test_data, train_ratio):\n",
    "    # get dirs\n",
    "    _, dirs, _ = next(os.walk(path_to_data))\n",
    "\n",
    "    # calculates how many train data per class\n",
    "    data_counter_per_class = np.zeros((len(dirs)))\n",
    "    for i in range(len(dirs)):\n",
    "        path = os.path.join(path_to_data, dirs[i])\n",
    "        files = get_files_from_folder(path)\n",
    "        data_counter_per_class[i] = len(files)\n",
    "    test_counter = np.round(data_counter_per_class * (1 - train_ratio))\n",
    "\n",
    "    # transfers files\n",
    "    for i in range(len(dirs)):\n",
    "        path_to_original = os.path.join(path_to_data, dirs[i])\n",
    "        path_to_save = os.path.join(path_to_test_data, dirs[i])\n",
    "\n",
    "        #creates dir\n",
    "        if not os.path.exists(path_to_save):\n",
    "            os.makedirs(path_to_save)\n",
    "        files = get_files_from_folder(path_to_original)\n",
    "        # moves data\n",
    "        for j in range(int(test_counter[i])):\n",
    "            dst = os.path.join(path_to_save, files[j])\n",
    "            src = os.path.join(path_to_original, files[j])\n",
    "            shutil.move(src, dst)"
   ]
  },
  {
   "cell_type": "code",
   "execution_count": 28,
   "id": "396a9f49",
   "metadata": {},
   "outputs": [],
   "source": [
    "def parse_args():\n",
    "    '''\n",
    "    Parser for command line\n",
    "    '''\n",
    "    parser = argparse.ArgumentParser(description=\"Dataset divider\")\n",
    "    parser.add_argument(\"--data_path\", required=True, help=\"Path to data\")\n",
    "    parser.add_argument(\"--test_data_path_to_save\", required=True, help=\"Path to test data where to save\")\n",
    "    parser.add_argument(\"--train_ratio\", required=True, help=\"Train ratio - 0.7 means splitting data in 70 % train and 30 % test\")\n",
    "    return parser.parse_args()"
   ]
  },
  {
   "cell_type": "code",
   "execution_count": 29,
   "id": "2fdc13e6",
   "metadata": {},
   "outputs": [],
   "source": [
    "def clc_function(data_path,test_data_path_to_save,train_ratio):\n",
    "    '''\n",
    "    Function for command line\n",
    "    '''\n",
    "    args = parse_args()\n",
    "    split_data(args.data_path, args.test_data_path_to_save, float(args.train_ratio))"
   ]
  },
  {
   "cell_type": "code",
   "execution_count": 32,
   "id": "e381cec2",
   "metadata": {},
   "outputs": [],
   "source": [
    "# data_path = os.path.join(path_str,'Resized_cropped_224')\n",
    "# test_data_path_to_save = os.path.join(path_str,'Resized_cropped_224_data')\n",
    "data_path = os.path.join(path_str)\n",
    "test_data_path_to_save = os.path.join('Resized_cropped_224_test')\n",
    "train_ratio = 0.33"
   ]
  },
  {
   "cell_type": "code",
   "execution_count": 33,
   "id": "478c3360",
   "metadata": {},
   "outputs": [],
   "source": [
    "# split_data(data_path,test_data_path_to_save,train_ratio)\n",
    "\n"
   ]
  },
  {
   "cell_type": "markdown",
   "id": "9fad65d3",
   "metadata": {},
   "source": [
    "## Data Exploration"
   ]
  },
  {
   "cell_type": "code",
   "execution_count": 34,
   "id": "f0ee4d0b",
   "metadata": {},
   "outputs": [
    {
     "name": "stdout",
     "output_type": "stream",
     "text": [
      "['test', 'train']\n",
      "['Pointillism', 'Contemporary_Realism', 'High_Renaissance', 'Cubism', 'Post_Impressionism', 'Impressionism', 'Fauvism', 'Minimalism', 'Pop_Art', 'Expressionism', 'Baroque', 'Abstract_Expressionism', 'Realism', 'Naive_Art_Primitivism']\n"
     ]
    }
   ],
   "source": [
    "# strating with blank resized images\n",
    "data_dir = os.path.join('/home/ec2-user/SageMaker/Resized_cropped_224')\n",
    "\n",
    "print(os.listdir(data_dir))\n",
    "classes = os.listdir(data_dir + \"/train\")\n",
    "print(classes)"
   ]
  },
  {
   "cell_type": "markdown",
   "id": "0c519dff",
   "metadata": {},
   "source": [
    "# 7-class folder"
   ]
  },
  {
   "cell_type": "code",
   "execution_count": 30,
   "id": "0e04ef99",
   "metadata": {},
   "outputs": [],
   "source": [
    "# define the two subclasses for the binary cnn\n",
    "class1 = ['Pointillism', 'High_Renaissance', 'Post_Impressionism', 'Impressionism', 'Baroque', 'Realism']\n",
    "class2 = ['Contemporary_Realism', 'Cubism', 'Fauvism', 'Minimalism', 'Pop_Art', 'Expressionism', 'Abstract_Expressionism', 'Naive_Art_Primitivism']"
   ]
  },
  {
   "cell_type": "code",
   "execution_count": 4,
   "id": "445d9ea1",
   "metadata": {},
   "outputs": [],
   "source": [
    "def new_folder(folders, path_in, path_out,name):\n",
    "    test_train = ['test', 'train']\n",
    "    for i in range(len(test_train)):    \n",
    "        for j in range(len(folders)):\n",
    "            \n",
    "#             if str(folders) == 'class1':\n",
    "#                 dirclass = 'class1'\n",
    "#             elif str(folders) == 'class2' :\n",
    "#                 dirclass = 'class2'\n",
    "            # need to define loop for test and train\n",
    "            dirpath = os.path.join(path_in, test_train[i], folders[j])\n",
    "            images = [file for file in os.listdir(dirpath) if file.endswith(('jpeg', 'png', 'jpg'))]\n",
    "            saving_dir = os.path.join(path_out, name, test_train[i], folders[j])\n",
    "\n",
    "            if not os.path.exists(saving_dir):\n",
    "                os.makedirs(saving_dir)\n",
    "\n",
    "            else:\n",
    "                for f in os.listdir(saving_dir):\n",
    "                    os.remove(os.path.join(saving_dir, f))\n",
    "                    \n",
    "            for image in images:\n",
    "                img = Image.open(os.path.join(dirpath,image))\n",
    "                img.save(os.path.join(saving_dir,image), optimize=True, quality=100)"
   ]
  },
  {
   "cell_type": "code",
   "execution_count": 10,
   "id": "0646ae38",
   "metadata": {},
   "outputs": [],
   "source": [
    "new_folder(class2, 'wikiart_cropped', 'wikiart_binary','post_1910s')"
   ]
  },
  {
   "cell_type": "code",
   "execution_count": 3,
   "id": "71ce48a6",
   "metadata": {},
   "outputs": [],
   "source": [
    "def delete_dir(path):\n",
    "    shutil.rmtree(path)"
   ]
  },
  {
   "cell_type": "code",
   "execution_count": 28,
   "id": "37dce39b",
   "metadata": {},
   "outputs": [],
   "source": [
    "def move(path_in, path_out, delete):\n",
    "    images = [file for file in os.listdir(path_in) if file.endswith(('jpeg', 'png', 'jpg'))]\n",
    "    for image in images:\n",
    "        shutil.move(os.path.join(path_in,image), os.path.join(path_out,image))\n",
    "    if delete == 'yes':\n",
    "        delete_dir(path_in)\n",
    "    else:\n",
    "        pass"
   ]
  },
  {
   "cell_type": "code",
   "execution_count": 4,
   "id": "a7a74c00",
   "metadata": {},
   "outputs": [],
   "source": [
    "# delete_dir('checkpoints')"
   ]
  },
  {
   "cell_type": "markdown",
   "id": "79ccec00",
   "metadata": {},
   "source": [
    "# Binary classifier"
   ]
  },
  {
   "cell_type": "code",
   "execution_count": 26,
   "id": "56c3053d",
   "metadata": {},
   "outputs": [],
   "source": [
    "path1 = 'wikiart_cropped/pre_1910s/train/Post_Impressionism'\n",
    "path2 = 'wikiart_cropped/pre_1910s/train'"
   ]
  },
  {
   "cell_type": "code",
   "execution_count": 31,
   "id": "ffda6a1d",
   "metadata": {},
   "outputs": [],
   "source": [
    "for i in range(len(class1)):\n",
    "    path1 = 'wikiart_cropped/pre_1910s/train/'+str(class1[i])\n",
    "    path2 = 'wikiart_cropped/pre_1910s/train'\n",
    "#     move(path1, path2, 'yes')"
   ]
  },
  {
   "cell_type": "code",
   "execution_count": 37,
   "id": "e1644239",
   "metadata": {},
   "outputs": [],
   "source": [
    "def copy_files(path_in, path_out):\n",
    "\n",
    "    images = [file for file in os.listdir(path_in) if file.endswith(('jpeg', 'png', 'jpg'))]\n",
    "    for image in images:\n",
    "\n",
    "        # copying the files to the\n",
    "        # destination directory\n",
    "        shutil.copy2(os.path.join(path_in,image), os.path.join(path_out,image))\n"
   ]
  },
  {
   "cell_type": "code",
   "execution_count": 44,
   "id": "c9ad40af",
   "metadata": {},
   "outputs": [],
   "source": [
    "for i in range(len(class2)):\n",
    "    path1 = 'wikiart_binary/post_1910s/test/'+str(class2[i])\n",
    "    path2 = 'wikiart_cropped/post_1910s/test'\n",
    "    copy_files(path1, path2)"
   ]
  },
  {
   "cell_type": "code",
   "execution_count": 45,
   "id": "26e4bcf0",
   "metadata": {},
   "outputs": [],
   "source": [
    "# delete_dir('Cropped_models')"
   ]
  },
  {
   "cell_type": "code",
   "execution_count": null,
   "id": "907bf3d9",
   "metadata": {},
   "outputs": [],
   "source": []
  }
 ],
 "metadata": {
  "kernelspec": {
   "display_name": "conda_pytorch_p36",
   "language": "python",
   "name": "conda_pytorch_p36"
  },
  "language_info": {
   "codemirror_mode": {
    "name": "ipython",
    "version": 3
   },
   "file_extension": ".py",
   "mimetype": "text/x-python",
   "name": "python",
   "nbconvert_exporter": "python",
   "pygments_lexer": "ipython3",
   "version": "3.6.13"
  }
 },
 "nbformat": 4,
 "nbformat_minor": 5
}
