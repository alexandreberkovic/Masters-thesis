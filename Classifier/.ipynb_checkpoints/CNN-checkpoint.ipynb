{
 "cells": [
  {
   "cell_type": "markdown",
   "id": "c73759e8",
   "metadata": {},
   "source": [
    "# Deep Convolutional Neural Network for Art Classification with PyTorch"
   ]
  },
  {
   "cell_type": "markdown",
   "id": "438713bb",
   "metadata": {},
   "source": [
    "## Imports"
   ]
  },
  {
   "cell_type": "code",
   "execution_count": 3,
   "id": "23a3248f",
   "metadata": {},
   "outputs": [],
   "source": [
    "import os\n",
    "import torch\n",
    "import torchvision\n",
    "import tarfile\n",
    "from torchvision.datasets.utils import download_url\n",
    "from torch.utils.data import random_split\n",
    "import PIL\n",
    "from PIL import Image\n",
    "import cv2\n",
    "import pathlib\n",
    "import glob\n",
    "from pathlib import Path\n",
    "import numpy as np\n",
    "import shutil\n",
    "import random"
   ]
  },
  {
   "cell_type": "code",
   "execution_count": 4,
   "id": "d368b7b9",
   "metadata": {},
   "outputs": [],
   "source": [
    "project_name='CNN_classifier'"
   ]
  },
  {
   "cell_type": "code",
   "execution_count": 5,
   "id": "bb277777",
   "metadata": {},
   "outputs": [],
   "source": [
    "path_str = '/Users/alexandreberkovic/Desktop/Year_4/Masters'"
   ]
  },
  {
   "cell_type": "code",
   "execution_count": 6,
   "id": "04454573",
   "metadata": {},
   "outputs": [],
   "source": [
    "path = Path(path_str)"
   ]
  },
  {
   "cell_type": "code",
   "execution_count": 7,
   "id": "5bdf1eda",
   "metadata": {
    "scrolled": true
   },
   "outputs": [
    {
     "data": {
      "text/plain": [
       "['Research',\n",
       " '.DS_Store',\n",
       " 'classifier for art.pdf',\n",
       " 'Dataset',\n",
       " 'Master projects.xlsx',\n",
       " 'Interim',\n",
       " 'Repo']"
      ]
     },
     "execution_count": 7,
     "metadata": {},
     "output_type": "execute_result"
    }
   ],
   "source": [
    "os.listdir(path)"
   ]
  },
  {
   "cell_type": "code",
   "execution_count": 8,
   "id": "8987b592",
   "metadata": {},
   "outputs": [],
   "source": [
    "# directory of image folders per mouvement\n",
    "img_folders = Path(path_str+'/'+'Dataset/wikiart')"
   ]
  },
  {
   "cell_type": "code",
   "execution_count": 9,
   "id": "13a8f745",
   "metadata": {},
   "outputs": [],
   "source": [
    "# remove DS_Store file\n",
    "folders = list(os.listdir(img_folders))\n",
    "folders.remove('.DS_Store')"
   ]
  },
  {
   "cell_type": "markdown",
   "id": "f8d307a6",
   "metadata": {},
   "source": [
    "## Create a subset of the dataset to play with during the CNN"
   ]
  },
  {
   "cell_type": "code",
   "execution_count": 96,
   "id": "3bfd8eaa",
   "metadata": {},
   "outputs": [],
   "source": [
    "def subset(path):\n",
    "    for i in range(len(folders)):\n",
    "        dirpath = os.path.join(path,folders[i])\n",
    "        directory_length = int(0.1*len(list(os.listdir(dirpath))))\n",
    "        filenames = random.sample(os.listdir(dirpath),directory_length)\n",
    "        print('{} has {} images'.format(folders[i], directory_length))\n",
    "#         print('Mouvement' + folders[i] \"has\" + str(directory_length) + 'images') \n",
    "        \n",
    "        destDirectory = 'Dataset_subset/' + str(folders[i])\n",
    "        if not os.path.exists(destDirectory):\n",
    "            os.makedirs(destDirectory)\n",
    "            \n",
    "        else:\n",
    "            for f in os.listdir(destDirectory):\n",
    "                os.remove(os.path.join(destDirectory, f))\n",
    "       \n",
    "        for fname in filenames:\n",
    "            srcpath = os.path.join(dirpath, fname)\n",
    "            shutil.copy(srcpath, destDirectory)"
   ]
  },
  {
   "cell_type": "code",
   "execution_count": 95,
   "id": "f23a5933",
   "metadata": {},
   "outputs": [
    {
     "name": "stdout",
     "output_type": "stream",
     "text": [
      "Mouvement Early_Renaissance has 139 images\n",
      "Mouvement Analytical_Cubism has 11 images\n",
      "Mouvement Mannerism_Late_Renaissance has 127 images\n",
      "Mouvement Expressionism has 673 images\n",
      "Mouvement Contemporary_Realism has 48 images\n",
      "Mouvement Fauvism has 93 images\n",
      "Mouvement Trial has 0 images\n",
      "Mouvement Northern_Renaissance has 255 images\n",
      "Mouvement Rococo has 208 images\n",
      "Mouvement Ukiyo_e has 116 images\n",
      "Mouvement Pop_Art has 148 images\n",
      "Mouvement High_Renaissance has 134 images\n",
      "Mouvement Minimalism has 133 images\n",
      "Mouvement Art_Nouveau_Modern has 433 images\n",
      "Mouvement Action_painting has 9 images\n",
      "Mouvement Color_Field_Painting has 161 images\n",
      "Mouvement Symbolism has 452 images\n",
      "Mouvement Realism has 1073 images\n",
      "Mouvement Romanticism has 701 images\n",
      "Mouvement Cubism has 223 images\n",
      "Mouvement Impressionism has 1306 images\n",
      "Mouvement New_Realism has 31 images\n",
      "Mouvement Baroque has 424 images\n",
      "Mouvement Post_Impressionism has 645 images\n",
      "Mouvement Abstract_Expressionism has 278 images\n",
      "Mouvement Pointillism has 51 images\n",
      "Mouvement Synthetic_Cubism has 21 images\n",
      "Mouvement Naive_Art_Primitivism has 240 images\n"
     ]
    }
   ],
   "source": [
    "subset(img_folders)"
   ]
  },
  {
   "cell_type": "markdown",
   "id": "36114575",
   "metadata": {},
   "source": [
    "## Data exploration"
   ]
  },
  {
   "cell_type": "markdown",
   "id": "0890da5c",
   "metadata": {},
   "source": [
    "### Image resizing functions"
   ]
  },
  {
   "cell_type": "code",
   "execution_count": 103,
   "id": "f38448e6",
   "metadata": {},
   "outputs": [],
   "source": [
    "# directory of image folders per mouvement\n",
    "subset_folders = Path(path_str+'/'+'Repo/Classifier/Dataset_subset')"
   ]
  },
  {
   "cell_type": "code",
   "execution_count": 106,
   "id": "8d095763",
   "metadata": {},
   "outputs": [],
   "source": [
    "def resize_upper(path,cnn_size):\n",
    "    '''\n",
    "    Resizes the images so that one side is 256 and the other is larger\n",
    "    Crops it so that the output is 256x256\n",
    "    '''\n",
    "    for i in range(len(folders)):\n",
    "        dirpath = os.path.join(path,folders[i])\n",
    "        \n",
    "        images = [file for file in os.listdir(dirpath) if file.endswith(('jpeg', 'png', 'jpg'))]\n",
    "        name = folders[i]\n",
    "\n",
    "        if not os.path.exists(os.path.join('Resized',name)):\n",
    "            os.makedirs(os.path.join('Resized',name))\n",
    "\n",
    "        for image in images:\n",
    "            img = Image.open(Path(str(subset_folders)+'/'+name+'/'+image))\n",
    "\n",
    "            if img.size[0] >= img.size[1] and img.size[1] > cnn_size:\n",
    "\n",
    "                fixed_height = cnn_size\n",
    "                height_percent = (fixed_height / float(img.size[1]))\n",
    "                width_size = int((float(img.size[0]) * float(height_percent)))\n",
    "                img = img.resize((width_size, fixed_height), PIL.Image.NEAREST)\n",
    "                cropped = crop(img)\n",
    "                cropped.save(\"Resized/\"+name+\"/\"+image, optimize=True, quality=100)\n",
    "\n",
    "            elif img.size[0] < img.size[1] and img.size[0] > cnn_size:\n",
    "                fixed_width = cnn_size\n",
    "                width_percent = (fixed_width / float(img.size[0]))\n",
    "                height_size = int((float(img.size[1]) * float(width_percent)))\n",
    "                img = img.resize((fixed_width, height_size), PIL.Image.NEAREST)\n",
    "                cropped = crop(img)\n",
    "                cropped.save(\"Resized/\"+name+\"/\"+image, optimize=True, quality=100)\n",
    "\n"
   ]
  },
  {
   "cell_type": "code",
   "execution_count": 100,
   "id": "0b1bdadf",
   "metadata": {},
   "outputs": [],
   "source": [
    "def resize_upper(path,cnn_size):\n",
    "    '''\n",
    "    Resizes the images so that one side is 256 and the other is larger\n",
    "    Crops it so that the output is 256x256\n",
    "    '''\n",
    "    images = [file for file in os.listdir(path) if file.endswith(('jpeg', 'png', 'jpg'))]\n",
    "    name = str(path).split('/')[-1]\n",
    "    \n",
    "    if not os.path.exists(name):\n",
    "        os.makedirs(name)\n",
    "    \n",
    "    for image in images:\n",
    "        img = Image.open(Path(str(img_folders)+'/'+image))\n",
    "        \n",
    "        if img.size[0] >= img.size[1] and img.size[1] > cnn_size:\n",
    "\n",
    "            fixed_height = cnn_size\n",
    "            height_percent = (fixed_height / float(img.size[1]))\n",
    "            width_size = int((float(img.size[0]) * float(height_percent)))\n",
    "            img = img.resize((width_size, fixed_height), PIL.Image.NEAREST)\n",
    "            cropped = crop(img)\n",
    "            cropped.save(\"Resized/\"+name+\"/\"+image, optimize=True, quality=100)\n",
    "    \n",
    "        elif img.size[0] < img.size[1] and img.size[0] > cnn_size:\n",
    "            fixed_width = cnn_size\n",
    "            width_percent = (fixed_width / float(img.size[0]))\n",
    "            height_size = int((float(img.size[1]) * float(width_percent)))\n",
    "            img = img.resize((fixed_width, height_size), PIL.Image.NEAREST)\n",
    "            cropped = crop(img)\n",
    "            cropped.save(\"Resized/\"+name+\"/\"+image, optimize=True, quality=100)\n"
   ]
  },
  {
   "cell_type": "code",
   "execution_count": 101,
   "id": "6ac28869",
   "metadata": {},
   "outputs": [],
   "source": [
    "def resize_lower(path,cnn_size):\n",
    "    '''\n",
    "    Resizes the images so that one side is 256 and the other is smaller\n",
    "    Fills blank space with 0s so that the output is 256x256\n",
    "    ''' \n",
    "    images = [file for file in os.listdir(path) if file.endswith(('jpeg', 'png', 'jpg'))]\n",
    "    name = str(path).split('/')[-1]\n",
    "    \n",
    "    if not os.path.exists(name):\n",
    "        os.makedirs(name)\n",
    "    \n",
    "    for image in images:\n",
    "        img = Image.open(Path(str(img_folders)+'/'+image))\n",
    "        \n",
    "        if img.size[1] >= img.size[0] and img.size[0] > cnn_size:\n",
    "\n",
    "            fixed_height = cnn_size\n",
    "            height_percent = (fixed_height / float(img.size[1]))\n",
    "            width_size = int((float(img.size[0]) * float(height_percent)))\n",
    "            img = img.resize((width_size, fixed_height), PIL.Image.NEAREST)\n",
    "            filled = fill(img,(0, 0, 0))\n",
    "            filled.save(\"Resized/\"+name+\"/\"+image, optimize=True, quality=100)\n",
    "    \n",
    "        elif img.size[1] < img.size[0] and img.size[1] > cnn_size:\n",
    "            fixed_width = cnn_size\n",
    "            width_percent = (fixed_width / float(img.size[0]))\n",
    "            height_size = int((float(img.size[1]) * float(width_percent)))\n",
    "            img = img.resize((fixed_width, height_size), PIL.Image.NEAREST)\n",
    "            filled = fill(img,(0, 0, 0))\n",
    "            filled.save(\"Resized/\"+name+\"/\"+image, optimize=True, quality=100)\n",
    "\n"
   ]
  },
  {
   "cell_type": "code",
   "execution_count": 102,
   "id": "b48b05c6",
   "metadata": {},
   "outputs": [],
   "source": [
    "def resize_compress(path,cnn_size):\n",
    "    '''\n",
    "    Resizes the images by compressing them\n",
    "    Output is 256x256\n",
    "    ''' \n",
    "    images = [file for file in os.listdir(path) if file.endswith(('jpeg', 'png', 'jpg'))]\n",
    "    name = str(path).split('/')[-1]\n",
    "    \n",
    "    if not os.path.exists(name):\n",
    "        os.makedirs(name)\n",
    "    for image in images:\n",
    "        img = Image.open(Path(str(img_folders)+'/'+image))\n",
    "        if img.size[0] > cnn_size and img.size[1] > cnn_size:\n",
    "            resized_image = img.resize((256,256))\n",
    "            resized_image.save(\"Resized/\"+name+\"/\"+image, optimize=True, quality=100)\n",
    "        else:\n",
    "            pass"
   ]
  },
  {
   "cell_type": "markdown",
   "id": "5311143d",
   "metadata": {},
   "source": [
    "### Helper functions used after resizing to uniform image dimensions"
   ]
  },
  {
   "cell_type": "code",
   "execution_count": 14,
   "id": "9ab9b9ce",
   "metadata": {},
   "outputs": [],
   "source": [
    "def crop(im):\n",
    "    '''\n",
    "    Crops the image when one side is 256 and the other is bigger\n",
    "    Outputs a 256x256 centred image\n",
    "    '''\n",
    "    # Opens a image in RGB mode\n",
    "#     im = Image.open(r\"C:\\Users\\Admin\\Pictures\\network.png\")\n",
    " \n",
    "    # Setting the points for cropped image\n",
    "    width, height = im.size\n",
    "    if width == 256:\n",
    "        left = 0\n",
    "        right = 256\n",
    "        top = height//2 - 128\n",
    "        bottom = height//2 + 128\n",
    "\n",
    "    elif height == 256:\n",
    "        left = width//2 - 128\n",
    "        right = width//2 + 128\n",
    "        top = 0\n",
    "        bottom = 256\n",
    "        \n",
    "    # Cropped image of above dimension\n",
    "    # (It will not change original image)\n",
    "    im1 = im.crop((left, top, right, bottom))\n",
    "    return im1"
   ]
  },
  {
   "cell_type": "code",
   "execution_count": 15,
   "id": "4ca96541",
   "metadata": {},
   "outputs": [],
   "source": [
    "def fill(pil_img, background_color):\n",
    "    '''\n",
    "    Fills the image with 0s when one side is 256 and the other is smaller\n",
    "    Outputs a 256x256 centred image\n",
    "    '''\n",
    "    width, height = pil_img.size\n",
    "    if width == height:\n",
    "        return pil_img\n",
    "    elif width > height:\n",
    "        result = Image.new(pil_img.mode, (width, width), background_color)\n",
    "        result.paste(pil_img, (0, (width - height) // 2))\n",
    "        return result\n",
    "    else:\n",
    "        result = Image.new(pil_img.mode, (height, height), background_color)\n",
    "        result.paste(pil_img, ((height - width) // 2, 0))\n",
    "        return result"
   ]
  },
  {
   "cell_type": "markdown",
   "id": "f1ef9408",
   "metadata": {},
   "source": [
    "### Creating the usable dataset"
   ]
  },
  {
   "cell_type": "code",
   "execution_count": 107,
   "id": "62549699",
   "metadata": {},
   "outputs": [
    {
     "ename": "FileNotFoundError",
     "evalue": "[Errno 2] No such file or directory: 'Analytical_Cubism/georges-braque_the-bottle-of-rum-1912.jpg'",
     "output_type": "error",
     "traceback": [
      "\u001b[0;31m---------------------------------------------------------------------------\u001b[0m",
      "\u001b[0;31mFileNotFoundError\u001b[0m                         Traceback (most recent call last)",
      "\u001b[0;32m/var/folders/34/kt2mvxyx0lx0f3th233kk1200000gn/T/ipykernel_90836/4281650443.py\u001b[0m in \u001b[0;36m<module>\u001b[0;34m\u001b[0m\n\u001b[0;32m----> 1\u001b[0;31m \u001b[0mresize_upper\u001b[0m\u001b[0;34m(\u001b[0m\u001b[0msubset_folders\u001b[0m\u001b[0;34m,\u001b[0m\u001b[0;36m256\u001b[0m\u001b[0;34m)\u001b[0m\u001b[0;34m\u001b[0m\u001b[0;34m\u001b[0m\u001b[0m\n\u001b[0m",
      "\u001b[0;32m/var/folders/34/kt2mvxyx0lx0f3th233kk1200000gn/T/ipykernel_90836/675762030.py\u001b[0m in \u001b[0;36mresize_upper\u001b[0;34m(path, cnn_size)\u001b[0m\n\u001b[1;32m     31\u001b[0m                 \u001b[0mimg\u001b[0m \u001b[0;34m=\u001b[0m \u001b[0mimg\u001b[0m\u001b[0;34m.\u001b[0m\u001b[0mresize\u001b[0m\u001b[0;34m(\u001b[0m\u001b[0;34m(\u001b[0m\u001b[0mfixed_width\u001b[0m\u001b[0;34m,\u001b[0m \u001b[0mheight_size\u001b[0m\u001b[0;34m)\u001b[0m\u001b[0;34m,\u001b[0m \u001b[0mPIL\u001b[0m\u001b[0;34m.\u001b[0m\u001b[0mImage\u001b[0m\u001b[0;34m.\u001b[0m\u001b[0mNEAREST\u001b[0m\u001b[0;34m)\u001b[0m\u001b[0;34m\u001b[0m\u001b[0;34m\u001b[0m\u001b[0m\n\u001b[1;32m     32\u001b[0m                 \u001b[0mcropped\u001b[0m \u001b[0;34m=\u001b[0m \u001b[0mcrop\u001b[0m\u001b[0;34m(\u001b[0m\u001b[0mimg\u001b[0m\u001b[0;34m)\u001b[0m\u001b[0;34m\u001b[0m\u001b[0;34m\u001b[0m\u001b[0m\n\u001b[0;32m---> 33\u001b[0;31m                 \u001b[0mcropped\u001b[0m\u001b[0;34m.\u001b[0m\u001b[0msave\u001b[0m\u001b[0;34m(\u001b[0m\u001b[0mname\u001b[0m\u001b[0;34m+\u001b[0m\u001b[0;34m\"/\"\u001b[0m\u001b[0;34m+\u001b[0m\u001b[0mimage\u001b[0m\u001b[0;34m,\u001b[0m \u001b[0moptimize\u001b[0m\u001b[0;34m=\u001b[0m\u001b[0;32mTrue\u001b[0m\u001b[0;34m,\u001b[0m \u001b[0mquality\u001b[0m\u001b[0;34m=\u001b[0m\u001b[0;36m100\u001b[0m\u001b[0;34m)\u001b[0m\u001b[0;34m\u001b[0m\u001b[0;34m\u001b[0m\u001b[0m\n\u001b[0m\u001b[1;32m     34\u001b[0m \u001b[0;34m\u001b[0m\u001b[0m\n",
      "\u001b[0;32m~/opt/miniconda3/lib/python3.9/site-packages/PIL/Image.py\u001b[0m in \u001b[0;36msave\u001b[0;34m(self, fp, format, **params)\u001b[0m\n\u001b[1;32m   2235\u001b[0m                 \u001b[0mfp\u001b[0m \u001b[0;34m=\u001b[0m \u001b[0mbuiltins\u001b[0m\u001b[0;34m.\u001b[0m\u001b[0mopen\u001b[0m\u001b[0;34m(\u001b[0m\u001b[0mfilename\u001b[0m\u001b[0;34m,\u001b[0m \u001b[0;34m\"r+b\"\u001b[0m\u001b[0;34m)\u001b[0m\u001b[0;34m\u001b[0m\u001b[0;34m\u001b[0m\u001b[0m\n\u001b[1;32m   2236\u001b[0m             \u001b[0;32melse\u001b[0m\u001b[0;34m:\u001b[0m\u001b[0;34m\u001b[0m\u001b[0;34m\u001b[0m\u001b[0m\n\u001b[0;32m-> 2237\u001b[0;31m                 \u001b[0mfp\u001b[0m \u001b[0;34m=\u001b[0m \u001b[0mbuiltins\u001b[0m\u001b[0;34m.\u001b[0m\u001b[0mopen\u001b[0m\u001b[0;34m(\u001b[0m\u001b[0mfilename\u001b[0m\u001b[0;34m,\u001b[0m \u001b[0;34m\"w+b\"\u001b[0m\u001b[0;34m)\u001b[0m\u001b[0;34m\u001b[0m\u001b[0;34m\u001b[0m\u001b[0m\n\u001b[0m\u001b[1;32m   2238\u001b[0m \u001b[0;34m\u001b[0m\u001b[0m\n\u001b[1;32m   2239\u001b[0m         \u001b[0;32mtry\u001b[0m\u001b[0;34m:\u001b[0m\u001b[0;34m\u001b[0m\u001b[0;34m\u001b[0m\u001b[0m\n",
      "\u001b[0;31mFileNotFoundError\u001b[0m: [Errno 2] No such file or directory: 'Analytical_Cubism/georges-braque_the-bottle-of-rum-1912.jpg'"
     ]
    }
   ],
   "source": [
    "resize_upper(subset_folders,256)"
   ]
  },
  {
   "cell_type": "code",
   "execution_count": null,
   "id": "f542a85f",
   "metadata": {},
   "outputs": [],
   "source": []
  }
 ],
 "metadata": {
  "kernelspec": {
   "display_name": "Python 3 (ipykernel)",
   "language": "python",
   "name": "python3"
  },
  "language_info": {
   "codemirror_mode": {
    "name": "ipython",
    "version": 3
   },
   "file_extension": ".py",
   "mimetype": "text/x-python",
   "name": "python",
   "nbconvert_exporter": "python",
   "pygments_lexer": "ipython3",
   "version": "3.9.7"
  }
 },
 "nbformat": 4,
 "nbformat_minor": 5
}
