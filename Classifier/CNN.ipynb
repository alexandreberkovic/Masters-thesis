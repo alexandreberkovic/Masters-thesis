{
 "cells": [
  {
   "cell_type": "markdown",
   "id": "78f82f58",
   "metadata": {},
   "source": [
    "# Deep Convolutional Neural Network for Art Classification with PyTorch\n",
    "# Part 2: CNN"
   ]
  },
  {
   "cell_type": "markdown",
   "id": "a5a52e72",
   "metadata": {},
   "source": [
    "## Imports"
   ]
  },
  {
   "cell_type": "code",
   "execution_count": 1,
   "id": "64619dda",
   "metadata": {},
   "outputs": [],
   "source": [
    "import os\n",
    "import torch\n",
    "import torchvision\n",
    "import tarfile\n",
    "from torchvision.datasets.utils import download_url\n",
    "from torch.utils.data import random_split\n",
    "import PIL\n",
    "from PIL import Image\n",
    "import cv2\n",
    "import pathlib\n",
    "import glob\n",
    "from pathlib import Path\n",
    "import numpy as np\n",
    "import shutil\n",
    "import random"
   ]
  },
  {
   "cell_type": "code",
   "execution_count": 2,
   "id": "f1fad571",
   "metadata": {},
   "outputs": [],
   "source": [
    "project_name='CNN_classifier'"
   ]
  },
  {
   "cell_type": "code",
   "execution_count": 3,
   "id": "f81c0ca0",
   "metadata": {},
   "outputs": [],
   "source": [
    "path_str = '/Users/alexandreberkovic/Desktop/Year_4/Masters'"
   ]
  },
  {
   "cell_type": "code",
   "execution_count": 4,
   "id": "fe082303",
   "metadata": {},
   "outputs": [],
   "source": [
    "path = Path(path_str)"
   ]
  },
  {
   "cell_type": "code",
   "execution_count": 5,
   "id": "1c8187c2",
   "metadata": {},
   "outputs": [],
   "source": [
    "# directory of image folders per mouvement\n",
    "img_folders = Path(path_str+'/'+'Dataset/wikiart')"
   ]
  },
  {
   "cell_type": "code",
   "execution_count": null,
   "id": "26d1f470",
   "metadata": {},
   "outputs": [],
   "source": []
  }
 ],
 "metadata": {
  "kernelspec": {
   "display_name": "Python 3 (ipykernel)",
   "language": "python",
   "name": "python3"
  },
  "language_info": {
   "codemirror_mode": {
    "name": "ipython",
    "version": 3
   },
   "file_extension": ".py",
   "mimetype": "text/x-python",
   "name": "python",
   "nbconvert_exporter": "python",
   "pygments_lexer": "ipython3",
   "version": "3.9.7"
  }
 },
 "nbformat": 4,
 "nbformat_minor": 5
}
