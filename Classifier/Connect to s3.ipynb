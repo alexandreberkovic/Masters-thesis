{
 "cells": [
  {
   "cell_type": "markdown",
   "id": "783b5a45",
   "metadata": {},
   "source": [
    "# Deep Convolutional Neural Network for Art Classification with PyTorch\n",
    "# Part 1: connecting to AWS S3 & servers"
   ]
  },
  {
   "cell_type": "code",
   "execution_count": 1,
   "id": "0d510a52",
   "metadata": {},
   "outputs": [],
   "source": [
    "import boto3 \n",
    "from botocore.exceptions import ClientError # Not necessary\n",
    "import os \n",
    "from sagemaker import get_execution_role"
   ]
  },
  {
   "cell_type": "code",
   "execution_count": 2,
   "id": "dfc4c9f4",
   "metadata": {},
   "outputs": [],
   "source": [
    "role = get_execution_role()"
   ]
  },
  {
   "cell_type": "code",
   "execution_count": 3,
   "id": "eb64241e",
   "metadata": {},
   "outputs": [
    {
     "name": "stdout",
     "output_type": "stream",
     "text": [
      "1000 wikiart_cropped/test/Baroque/agostino-carracci_angelica-and-medor.jpg\n",
      "2000 wikiart_cropped/test/Baroque/peter-paul-rubens_venus-and-adonis.jpg\n",
      "3000 wikiart_cropped/test/Cubism/kazimir-malevich_laundress.jpg\n",
      "4000 wikiart_cropped/test/Expressionism/ernst-ludwig-kirchner_gateway-to-the-freight-depot-in-altstadt.jpg\n",
      "5000 wikiart_cropped/test/Expressionism/nicolae-tonitza_sad-day-in-balchik.jpg\n",
      "6000 wikiart_cropped/test/High_Renaissance/andrea-solario_the-virgin-of-the-green-cushion-1510.jpg\n",
      "7000 wikiart_cropped/test/Impressionism/camille-pissarro_peasant-and-child.jpg\n",
      "8000 wikiart_cropped/test/Impressionism/edgar-degas_the-bath-woman-from-behind-1895.jpg\n",
      "9000 wikiart_cropped/test/Impressionism/john-lavery_japanese-switzerland-1913.jpg\n",
      "10000 wikiart_cropped/test/Impressionism/pierre-auguste-renoir_portrait-of-a-woman-1.jpg\n",
      "11000 wikiart_cropped/test/Minimalism/frank-stella_referendum-70-1970.jpg\n",
      "12000 wikiart_cropped/test/Naive_Art_Primitivism/marc-chagall_a-big-peasant-1968.jpg\n",
      "13000 wikiart_cropped/test/Pop_Art/robert-indiana_chosen-love-1995.jpg\n",
      "14000 wikiart_cropped/test/Post_Impressionism/maurice-prendergast_boston-also-known-as-park-st-boston.jpg\n",
      "15000 wikiart_cropped/test/Post_Impressionism/vincent-van-gogh_portrait-of-postman-roulin-1888.jpg\n",
      "16000 wikiart_cropped/test/Realism/giovanni-boldini_the-actress-rejane-and-her-dog.jpg\n",
      "17000 wikiart_cropped/test/Realism/john-singer-sargent_a-mountain-stream-tyrol-1914.jpg\n",
      "18000 wikiart_cropped/test/Realism/vasily-perov_seller-singers-sketch-1863.jpg\n",
      "19000 wikiart_cropped/train/Abstract_Expressionism/cy-twombly_hero-and-leandro-a-painting-in-four-parts-part-i.jpg\n",
      "20000 wikiart_cropped/train/Abstract_Expressionism/paul-reed_20-1962.jpg\n",
      "21000 wikiart_cropped/train/Baroque/anthony-van-dyck_portrait-of-cardinal-guido-bentivoglio.jpg\n",
      "22000 wikiart_cropped/train/Baroque/gian-lorenzo-bernini_portrait-of-a-young-man-self-portrait(1).jpg\n",
      "23000 wikiart_cropped/train/Baroque/rembrandt_bathsheba-bathing-1654.jpg\n",
      "24000 wikiart_cropped/train/Contemporary_Realism/william-james-glackens_caf-de-la-paix-1906.jpg\n",
      "25000 wikiart_cropped/train/Cubism/marc-chagall_lovers-with-flowers-1927.jpg\n",
      "26000 wikiart_cropped/train/Expressionism/amedeo-modigliani_reclining-nude.jpg\n",
      "27000 wikiart_cropped/train/Expressionism/ernst-ludwig-kirchner_self-portrait-1.jpg\n",
      "28000 wikiart_cropped/train/Expressionism/laszlo-mednyanszky_mugging-1913.jpg\n",
      "29000 wikiart_cropped/train/Expressionism/ossip-zadkine_the-guitar-player.jpg\n",
      "30000 wikiart_cropped/train/Expressionism/wassily-kandinsky_night-1907.jpg\n",
      "31000 wikiart_cropped/train/High_Renaissance/dosso-dossi_the-rest-on-the-flight-into-egypt.jpg\n",
      "32000 wikiart_cropped/train/Impressionism/alfred-sisley_street-in-veneux-1883.jpg\n",
      "33000 wikiart_cropped/train/Impressionism/camille-pissarro_self-portrait.jpg\n",
      "34000 wikiart_cropped/train/Impressionism/claude-monet_san-giorgio-maggiore.jpg\n",
      "35000 wikiart_cropped/train/Impressionism/edouard-manet_mother-in-the-garden-at-bellevue-1880.jpg\n",
      "36000 wikiart_cropped/train/Impressionism/guy-rose_rocks-point-reamer.jpg\n",
      "37000 wikiart_cropped/train/Impressionism/john-singer-sargent_street-in-arras-1918.jpg\n",
      "38000 wikiart_cropped/train/Impressionism/nikolay-bogdanov-belsky_in-the-shade.jpg\n",
      "39000 wikiart_cropped/train/Impressionism/pierre-auguste-renoir_still-life-with-apples-and-pomegranates-1901.jpg\n",
      "40000 wikiart_cropped/train/Impressionism/walter-sickert_off-to-the-pub.jpg\n",
      "41000 wikiart_cropped/train/Minimalism/fernando-calhau_untitled-61-1970.jpg\n",
      "42000 wikiart_cropped/train/Minimalism/richard-serra_fulcrum-1987.jpg\n",
      "43000 wikiart_cropped/train/Naive_Art_Primitivism/kateryna-bilokur_in-bogdanovka-by-the-dam-1955.jpg\n",
      "44000 wikiart_cropped/train/Pointillism/andre-derain_boats-at-collioure-1905.jpg\n",
      "45000 wikiart_cropped/train/Pop_Art/pauline-boty_big-jim-colosimo-1963.jpg\n",
      "46000 wikiart_cropped/train/Post_Impressionism/ferdynand-ruszczyc_astronomical-observatory-of-vilnius-university-1910.jpg\n",
      "47000 wikiart_cropped/train/Post_Impressionism/marsden-hartley_landscape-new-mexico-1920.jpg\n",
      "48000 wikiart_cropped/train/Post_Impressionism/paul-gauguin_brittany-landscape-with-women-carrying-sack-1889.jpg\n",
      "49000 wikiart_cropped/train/Post_Impressionism/vincent-van-gogh_fountain-in-the-garden-of-saint-paul-hospital-1889(1).jpg\n",
      "50000 wikiart_cropped/train/Realism/antã³nio-de-carvalho-da-silva-porto_pequena-fiandeira-napolitana-1877.jpg\n",
      "51000 wikiart_cropped/train/Realism/eugene-boudin_beach-scene-trouville-1864-1.jpg\n",
      "52000 wikiart_cropped/train/Realism/ilya-repin_portrait-of-the-composer-anton-rubinstein-1887.jpg\n",
      "53000 wikiart_cropped/train/Realism/james-tissot_louise.jpg\n",
      "54000 wikiart_cropped/train/Realism/mikhail-lebedev_in-giji-park-1837.jpg\n",
      "55000 wikiart_cropped/train/Realism/thomas-eakins_mending-the-net-1881.jpg\n",
      "56000 wikiart_cropped/train/Realism/vincent-van-gogh_five-men-and-a-child-in-the-snow-1883(1).jpg\n"
     ]
    }
   ],
   "source": [
    "# Remember to enter the cirrect bucket region below\n",
    "s3 = boto3.resource('s3', region_name='us-east-2') \n",
    "# Replace the place holder with your correct bucket name\n",
    "bucket = s3.Bucket('wikiart-all-cropped') \n",
    "i=0\n",
    "for my_bucket_object in bucket.objects.all():    \n",
    "    key = my_bucket_object.key    \n",
    "    i+=1\n",
    "#     print(key)\n",
    "    if i%1000 == 0:\n",
    "        print(i,key)\n",
    "    if not os.path.exists(os.path.dirname(key)):           \n",
    "        os.makedirs(os.path.dirname(key))\n",
    "\n",
    "# The following is basically for exception handling and not necessary to include     \n",
    "    try:         \n",
    "        bucket.download_file(key, key)     \n",
    "    except ClientError as e:         \n",
    "        if e.response['Error']['Code'] == \"404\":             \n",
    "            print(\"No object with this key.\")        \n",
    "        else:             \n",
    "            raise"
   ]
  },
  {
   "cell_type": "code",
   "execution_count": null,
   "id": "8bec75dd",
   "metadata": {},
   "outputs": [],
   "source": []
  }
 ],
 "metadata": {
  "kernelspec": {
   "display_name": "conda_amazonei_pytorch_latest_p36",
   "language": "python",
   "name": "conda_amazonei_pytorch_latest_p36"
  },
  "language_info": {
   "codemirror_mode": {
    "name": "ipython",
    "version": 3
   },
   "file_extension": ".py",
   "mimetype": "text/x-python",
   "name": "python",
   "nbconvert_exporter": "python",
   "pygments_lexer": "ipython3",
   "version": "3.6.13"
  }
 },
 "nbformat": 4,
 "nbformat_minor": 5
}
