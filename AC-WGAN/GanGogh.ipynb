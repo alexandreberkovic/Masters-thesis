{
 "cells": [
  {
   "cell_type": "code",
   "execution_count": 1,
   "id": "c04d8335",
   "metadata": {},
   "outputs": [
    {
     "data": {
      "text/plain": [
       "' Creates batches of images to feed into the training network conditioned by genre, uses upsampling when creating batches to account for uneven distributions '"
      ]
     },
     "execution_count": 1,
     "metadata": {},
     "output_type": "execute_result"
    }
   ],
   "source": [
    "\"\"\" Creates batches of images to feed into the training network conditioned by genre, uses upsampling when creating batches to account for uneven distributions \"\"\"\n",
    "\n"
   ]
  },
  {
   "cell_type": "code",
   "execution_count": 2,
   "id": "d5a81c02",
   "metadata": {},
   "outputs": [],
   "source": [
    "# pip install tensorflow-gpu==1.2.1"
   ]
  },
  {
   "cell_type": "code",
   "execution_count": 3,
   "id": "1f9278a6",
   "metadata": {},
   "outputs": [],
   "source": [
    "import numpy as np\n",
    "import imageio\n",
    "import time\n",
    "import random\n",
    "import os\n",
    "from pathlib import Path\n",
    "from PIL import Image\n",
    "\n",
    "import sys"
   ]
  },
  {
   "cell_type": "code",
   "execution_count": 4,
   "id": "9065f1ab",
   "metadata": {},
   "outputs": [],
   "source": [
    "# Set the dimension of images you want to be passed in to the network\n",
    "DIM = 64"
   ]
  },
  {
   "cell_type": "code",
   "execution_count": 5,
   "id": "525719f8",
   "metadata": {},
   "outputs": [],
   "source": [
    "# Set your own path to images\n",
    "src_img_path  = Path('/home/ec2-user/SageMaker/portrait_landscape')"
   ]
  },
  {
   "cell_type": "code",
   "execution_count": 6,
   "id": "a85de079",
   "metadata": {},
   "outputs": [],
   "source": [
    "# This dictionary should be updated to hold the absolute number of images associated with each genre used during training\n",
    "styles = {\n",
    "    \"portraits\": 14980,\n",
    "    \"landscapes\": 14971\n",
    "}\n",
    "\n",
    "styleNum = {\n",
    "    \"portraits\": 0,\n",
    "    \"landscapes\": 1\n",
    "}\n",
    "    \n",
    "curPos = {\n",
    "    \"portraits\": 0,\n",
    "    \"landscapes\": 0\n",
    "}"
   ]
  },
  {
   "cell_type": "code",
   "execution_count": 7,
   "id": "13238c42",
   "metadata": {},
   "outputs": [],
   "source": [
    "testNums = {}\n",
    "trainNums = {}"
   ]
  },
  {
   "cell_type": "code",
   "execution_count": 8,
   "id": "b651bf1d",
   "metadata": {},
   "outputs": [],
   "source": [
    "# Generate test set of images made up of 1/20 of the images (per genre)\n",
    "for k, v in styles.items():\n",
    "    # put a twentieth of paintings in here\n",
    "    nums = range(v)\n",
    "    random.shuffle(list(nums))\n",
    "    testNums[k] = nums[0 : v // 20]\n",
    "    trainNums[k] = nums[v // 20 :]"
   ]
  },
  {
   "cell_type": "code",
   "execution_count": 9,
   "id": "088ed437",
   "metadata": {},
   "outputs": [],
   "source": [
    "def inf_gen(gen):\n",
    "    while True:\n",
    "        for (images, labels) in gen():\n",
    "            yield images, labels"
   ]
  },
  {
   "cell_type": "code",
   "execution_count": 10,
   "id": "fa1ad3f3",
   "metadata": {},
   "outputs": [],
   "source": [
    "def make_generator(files, batch_size, n_classes): # add genre parameter\n",
    "    if batch_size % n_classes != 0:\n",
    "        raise ValueError(\n",
    "            \"Batch size {} must be divisible by num classes {}\".format(batch_size, n_classes)\n",
    "        )\n",
    "\n",
    "    class_batch = batch_size // n_classes\n",
    "\n",
    "    generators = []\n",
    "\n",
    "    def get_epoch():\n",
    "\n",
    "        while True:\n",
    "\n",
    "            images = np.zeros((batch_size, 3, DIM, DIM), dtype=\"int32\")\n",
    "            labels = np.zeros((batch_size, n_classes))\n",
    "            n = 0\n",
    "            for style in styles:\n",
    "#             for style in genre:\n",
    "                styleLabel = styleNum[style]\n",
    "                curr = curPos[style]\n",
    "                for _ in range(class_batch):\n",
    "                    if curr == styles[style]:\n",
    "                        curr = 0\n",
    "                        random.shuffle(list(files[style]))\n",
    "                    img_path = str(Path(src_img_path, str(styleLabel), str(curr) + \".png\"))\n",
    "                    image = Image.open(img_path).convert(mode=\"RGB\")\n",
    "                    image = np.asarray(image)\n",
    "\n",
    "                    images[n % batch_size] = image.transpose(2, 0, 1)\n",
    "                    labels[n % batch_size, int(styleLabel)] = 1\n",
    "                    n += 1\n",
    "                    curr += 1\n",
    "                curPos[style] = curr\n",
    "\n",
    "            # randomize things but keep relationship between a conditioning vector and its associated image\n",
    "            rng_state = np.random.get_state()\n",
    "            np.random.shuffle(images)\n",
    "            np.random.set_state(rng_state)\n",
    "            np.random.shuffle(labels)\n",
    "            yield (images, labels)\n",
    "\n",
    "    return get_epoch"
   ]
  },
  {
   "cell_type": "code",
   "execution_count": 11,
   "id": "49383e15",
   "metadata": {},
   "outputs": [],
   "source": [
    "def load(batch_size):\n",
    "    return (\n",
    "        make_generator(trainNums, batch_size, len(styles)),\n",
    "        make_generator(testNums, batch_size, len(styles)),\n",
    "    )"
   ]
  },
  {
   "cell_type": "code",
   "execution_count": 12,
   "id": "26ea8958",
   "metadata": {},
   "outputs": [
    {
     "name": "stdout",
     "output_type": "stream",
     "text": [
      "WARNING:tensorflow:From /home/ec2-user/anaconda3/envs/tensorflow_p36/gpu_cuda10.0/lib/python3.6/site-packages/tensorflow_core/__init__.py:1473: The name tf.estimator.inputs is deprecated. Please use tf.compat.v1.estimator.inputs instead.\n",
      "\n"
     ]
    }
   ],
   "source": [
    "import os, sys\n",
    "from pathlib import Path\n",
    "\n",
    "sys.path.append(os.getcwd())\n",
    "\n",
    "from random import randint\n",
    "\n",
    "import time\n",
    "import functools\n",
    "import math\n",
    "\n",
    "import numpy as np\n",
    "import tensorflow as tf\n",
    "\n",
    "import tflib as lib\n",
    "import tflib.ops.linear\n",
    "import tflib.ops.conv2d\n",
    "import tflib.ops.batchnorm\n",
    "import tflib.ops.deconv2d\n",
    "import tflib.save_images\n",
    "# import tflib.wikiart_genre\n",
    "import tflib.ops.layernorm\n",
    "import tflib.plot"
   ]
  },
  {
   "cell_type": "code",
   "execution_count": 13,
   "id": "9fca4374",
   "metadata": {},
   "outputs": [],
   "source": [
    "# pip install --upgrade tensorflow-gpu==1.2.1"
   ]
  },
  {
   "cell_type": "code",
   "execution_count": 14,
   "id": "6ab9b49d",
   "metadata": {},
   "outputs": [],
   "source": [
    "# pip install --upgrade tensorflow-gpu"
   ]
  },
  {
   "cell_type": "code",
   "execution_count": 15,
   "id": "c304280b",
   "metadata": {},
   "outputs": [
    {
     "name": "stdout",
     "output_type": "stream",
     "text": [
      "/device:GPU:0\n",
      "1.15.5\n"
     ]
    }
   ],
   "source": [
    "print(tf.test.gpu_device_name())\n",
    "print(tf.__version__)"
   ]
  },
  {
   "cell_type": "code",
   "execution_count": 16,
   "id": "df82c561",
   "metadata": {},
   "outputs": [
    {
     "data": {
      "text/plain": [
       "True"
      ]
     },
     "execution_count": 16,
     "metadata": {},
     "output_type": "execute_result"
    }
   ],
   "source": [
    "tf.test.is_gpu_available()"
   ]
  },
  {
   "cell_type": "code",
   "execution_count": 17,
   "id": "8c702079",
   "metadata": {},
   "outputs": [
    {
     "name": "stdout",
     "output_type": "stream",
     "text": [
      "Uppercase local vars:\n",
      "\tBATCH_SIZE: 84\n",
      "\tCLASSES: 2\n",
      "\tCRITIC_ITERS: 5\n",
      "\tDIM: 64\n",
      "\tITERS: 200000\n",
      "\tLAMBDA: 10\n",
      "\tMODE: acwgan\n",
      "\tN_GPUS: 1\n",
      "\tOUTPUT_DIM: 12288\n",
      "\tPREITERATIONS: 2000\n"
     ]
    }
   ],
   "source": [
    "MODE = \"acwgan\"  # dcgan, wgan, wgan-gp, lsgan\n",
    "genre = ['portraits','landscapes']\n",
    "DIM = 64  # Model dimensionality\n",
    "CRITIC_ITERS = 5  # How many iterations to train the critic for\n",
    "N_GPUS = 1  # Number of GPUs\n",
    "BATCH_SIZE = 84  # Batch size. Must be a multiple of CLASSES and N_GPUS\n",
    "ITERS = 200000  # How many iterations to train for\n",
    "LAMBDA = 10  # Gradient penalty lambda hyperparameter\n",
    "OUTPUT_DIM = DIM * DIM * 3  # Number of pixels in each image\n",
    "CLASSES = len(genre)  # Number of classes, for genres probably 14\n",
    "PREITERATIONS = 2000  # Number of preiteration training cycles to run\n",
    "lib.print_model_settings(locals().copy())"
   ]
  },
  {
   "cell_type": "code",
   "execution_count": 18,
   "id": "78192194",
   "metadata": {},
   "outputs": [
    {
     "name": "stdout",
     "output_type": "stream",
     "text": [
      "Uppercase local vars:\n",
      "\tBATCH_SIZE: 84\n",
      "\tCLASSES: 2\n",
      "\tCRITIC_ITERS: 5\n",
      "\tDIM: 64\n",
      "\tITERS: 200000\n",
      "\tLAMBDA: 10\n",
      "\tMODE: acwgan\n",
      "\tN_GPUS: 1\n",
      "\tOUTPUT_DIM: 12288\n",
      "\tPREITERATIONS: 2000\n"
     ]
    }
   ],
   "source": [
    "MODE = \"acwgan\"  # dcgan, wgan, wgan-gp, lsgan\n",
    "DIM = 64  # Model dimensionality\n",
    "CRITIC_ITERS = 5  # How many iterations to train the critic for\n",
    "N_GPUS = 1  # Number of GPUs\n",
    "BATCH_SIZE = 84  # Batch size. Must be a multiple of CLASSES and N_GPUS\n",
    "ITERS = 200000  # How many iterations to train for\n",
    "LAMBDA = 10  # Gradient penalty lambda hyperparameter\n",
    "OUTPUT_DIM = DIM * DIM * 3  # Number of pixels in each image\n",
    "CLASSES = 2  # Number of classes, for genres probably 14\n",
    "PREITERATIONS = 2000  # Number of preiteration training cycles to run\n",
    "lib.print_model_settings(locals().copy())"
   ]
  },
  {
   "cell_type": "code",
   "execution_count": 19,
   "id": "5891649b",
   "metadata": {},
   "outputs": [],
   "source": [
    "# Ensure that directory exists where ground truth and plots will be saved to.\n",
    "Path('generated').mkdir(parents=True, exist_ok=True)\n",
    "Path('models').mkdir(parents=True, exist_ok=True)"
   ]
  },
  {
   "cell_type": "code",
   "execution_count": 20,
   "id": "d390e735",
   "metadata": {},
   "outputs": [],
   "source": [
    "def GeneratorAndDiscriminator():\n",
    "    return kACGANGenerator, kACGANDiscriminator"
   ]
  },
  {
   "cell_type": "code",
   "execution_count": 21,
   "id": "7b60fd0a",
   "metadata": {},
   "outputs": [],
   "source": [
    "DEVICES = [\"/gpu:{}\".format(i) for i in range(N_GPUS)]"
   ]
  },
  {
   "cell_type": "code",
   "execution_count": 22,
   "id": "6aa7cb44",
   "metadata": {},
   "outputs": [],
   "source": [
    "def LeakyReLU(x, alpha=0.2):\n",
    "    return tf.maximum(alpha * x, x)\n",
    "\n",
    "\n",
    "def ReLULayer(name, n_in, n_out, inputs):\n",
    "    output = lib.ops.linear.Linear(\n",
    "        name + \".Linear\", n_in, n_out, inputs, initialization=\"he\"\n",
    "    )\n",
    "    return tf.nn.relu(output)\n",
    "\n",
    "\n",
    "def LeakyReLULayer(name, n_in, n_out, inputs):\n",
    "    output = lib.ops.linear.Linear(\n",
    "        name + \".Linear\", n_in, n_out, inputs, initialization=\"he\"\n",
    "    )\n",
    "    return LeakyReLU(output)"
   ]
  },
  {
   "cell_type": "code",
   "execution_count": 23,
   "id": "21c6c407",
   "metadata": {},
   "outputs": [],
   "source": [
    "def Batchnorm(name, axes, inputs):\n",
    "\n",
    "    if (\"Discriminator\" in name) and (MODE == \"wgan-gp\" or MODE == \"acwgan\"):\n",
    "        if axes != [0, 2, 3]:\n",
    "            raise Exception(\"Layernorm over non-standard axes is unsupported\")\n",
    "        return lib.ops.layernorm.Layernorm(name, [1, 2, 3], inputs)\n",
    "    else:\n",
    "        return lib.ops.batchnorm.Batchnorm(name, axes, inputs, fused=True)"
   ]
  },
  {
   "cell_type": "code",
   "execution_count": 24,
   "id": "485d8826",
   "metadata": {},
   "outputs": [],
   "source": [
    "def pixcnn_gated_nonlinearity(name, output_dim, a, b, c=None, d=None):\n",
    "    if c is not None and d is not None:\n",
    "        a = a + c\n",
    "        b = b + d\n",
    "\n",
    "    result = tf.sigmoid(a) * tf.tanh(b)\n",
    "    return result"
   ]
  },
  {
   "cell_type": "code",
   "execution_count": 25,
   "id": "1af7559a",
   "metadata": {},
   "outputs": [],
   "source": [
    "def SubpixelConv2D(*args, **kwargs):\n",
    "    kwargs[\"output_dim\"] = 4 * kwargs[\"output_dim\"]\n",
    "    output = lib.ops.conv2d.Conv2D(*args, **kwargs)\n",
    "    output = tf.transpose(output, [0, 2, 3, 1])\n",
    "    output = tf.depth_to_space(output, 2)\n",
    "    output = tf.transpose(output, [0, 3, 1, 2])\n",
    "    return output"
   ]
  },
  {
   "cell_type": "code",
   "execution_count": 26,
   "id": "8ab19a79",
   "metadata": {},
   "outputs": [],
   "source": [
    "def ResidualBlock(\n",
    "    name, input_dim, output_dim, filter_size, inputs, resample=None, he_init=True\n",
    "):\n",
    "    \"\"\"\n",
    "    resample: None, 'down', or 'up'\n",
    "    \"\"\"\n",
    "    if resample == \"down\":\n",
    "        conv_shortcut = functools.partial(lib.ops.conv2d.Conv2D, stride=2)\n",
    "        conv_1 = functools.partial(\n",
    "            lib.ops.conv2d.Conv2D, input_dim=input_dim, output_dim=input_dim // 2\n",
    "        )\n",
    "        conv_1b = functools.partial(\n",
    "            lib.ops.conv2d.Conv2D,\n",
    "            input_dim=input_dim // 2,\n",
    "            output_dim=output_dim // 2,\n",
    "            stride=2,\n",
    "        )\n",
    "        conv_2 = functools.partial(\n",
    "            lib.ops.conv2d.Conv2D, input_dim=output_dim // 2, output_dim=output_dim\n",
    "        )\n",
    "    elif resample == \"up\":\n",
    "        conv_shortcut = SubpixelConv2D\n",
    "        conv_1 = functools.partial(\n",
    "            lib.ops.conv2d.Conv2D, input_dim=input_dim, output_dim=input_dim // 2\n",
    "        )\n",
    "        conv_1b = functools.partial(\n",
    "            lib.ops.deconv2d.Deconv2D,\n",
    "            input_dim=input_dim // 2,\n",
    "            output_dim=output_dim // 2,\n",
    "        )\n",
    "        conv_2 = functools.partial(\n",
    "            lib.ops.conv2d.Conv2D, input_dim=output_dim // 2, output_dim=output_dim\n",
    "        )\n",
    "    elif resample == None:\n",
    "        conv_shortcut = lib.ops.conv2d.Conv2D\n",
    "        conv_1 = functools.partial(\n",
    "            lib.ops.conv2d.Conv2D, input_dim=input_dim, output_dim=input_dim // 2\n",
    "        )\n",
    "        conv_1b = functools.partial(\n",
    "            lib.ops.conv2d.Conv2D, input_dim=input_dim // 2, output_dim=output_dim // 2\n",
    "        )\n",
    "        conv_2 = functools.partial(\n",
    "            lib.ops.conv2d.Conv2D, input_dim=input_dim // 2, output_dim=output_dim\n",
    "        )\n",
    "\n",
    "    else:\n",
    "        raise Exception(\"invalid resample value\")\n",
    "\n",
    "    if output_dim == input_dim and resample == None:\n",
    "        shortcut = inputs  # Identity skip-connection\n",
    "    else:\n",
    "        shortcut = conv_shortcut(\n",
    "            name + \".Shortcut\",\n",
    "            input_dim=input_dim,\n",
    "            output_dim=output_dim,\n",
    "            filter_size=1,\n",
    "            he_init=False,\n",
    "            biases=True,\n",
    "            inputs=inputs,\n",
    "        )\n",
    "\n",
    "    output = inputs\n",
    "    output = tf.nn.relu(output)\n",
    "    output = conv_1(\n",
    "        name + \".Conv1\", filter_size=1, inputs=output, he_init=he_init, weightnorm=False\n",
    "    )\n",
    "    output = tf.nn.relu(output)\n",
    "    output = conv_1b(\n",
    "        name + \".Conv1B\",\n",
    "        filter_size=filter_size,\n",
    "        inputs=output,\n",
    "        he_init=he_init,\n",
    "        weightnorm=False,\n",
    "    )\n",
    "    output = tf.nn.relu(output)\n",
    "    output = conv_2(\n",
    "        name + \".Conv2\",\n",
    "        filter_size=1,\n",
    "        inputs=output,\n",
    "        he_init=he_init,\n",
    "        weightnorm=False,\n",
    "        biases=False,\n",
    "    )\n",
    "    output = Batchnorm(name + \".BN\", [0, 2, 3], output)\n",
    "\n",
    "    return shortcut + (0.3 * output)"
   ]
  },
  {
   "cell_type": "code",
   "execution_count": 27,
   "id": "badc0576",
   "metadata": {},
   "outputs": [],
   "source": [
    "def kACGANGenerator(\n",
    "    n_samples,\n",
    "    numClasses,\n",
    "    labels,\n",
    "    noise=None,\n",
    "    dim=DIM,\n",
    "    bn=True,\n",
    "    nonlinearity=tf.nn.relu,\n",
    "    condition=None,\n",
    "):\n",
    "    lib.ops.conv2d.set_weights_stdev(0.02)\n",
    "    lib.ops.deconv2d.set_weights_stdev(0.02)\n",
    "    lib.ops.linear.set_weights_stdev(0.02)\n",
    "    if noise is None:\n",
    "        noise = tf.random_normal([n_samples, 128])\n",
    "\n",
    "    labels = tf.cast(labels, tf.float32)\n",
    "    noise = tf.concat([noise, labels], 1)\n",
    "\n",
    "    output = lib.ops.linear.Linear(\n",
    "        \"Generator.Input\", 128 + numClasses, 8 * 4 * 4 * dim * 2, noise\n",
    "    )  # probs need to recalculate dimensions\n",
    "    output = tf.reshape(output, [-1, 8 * dim * 2, 4, 4])\n",
    "    if bn:\n",
    "        output = Batchnorm(\"Generator.BN1\", [0, 2, 3], output)\n",
    "    condition = lib.ops.linear.Linear(\n",
    "        \"Generator.cond1\", numClasses, 8 * 4 * 4 * dim * 2, labels, biases=False\n",
    "    )\n",
    "    condition = tf.reshape(condition, [-1, 8 * dim * 2, 4, 4])\n",
    "    output = pixcnn_gated_nonlinearity(\n",
    "        \"Generator.nl1\",\n",
    "        8 * dim,\n",
    "        output[:, ::2],\n",
    "        output[:, 1::2],\n",
    "        condition[:, ::2],\n",
    "        condition[:, 1::2],\n",
    "    )\n",
    "\n",
    "    output = lib.ops.deconv2d.Deconv2D(\"Generator.2\", 8 * dim, 4 * dim * 2, 5, output)\n",
    "    if bn:\n",
    "        output = Batchnorm(\"Generator.BN2\", [0, 2, 3], output)\n",
    "    condition = lib.ops.linear.Linear(\n",
    "        \"Generator.cond2\", numClasses, 4 * 8 * 8 * dim * 2, labels\n",
    "    )\n",
    "    condition = tf.reshape(condition, [-1, 4 * dim * 2, 8, 8])\n",
    "    output = pixcnn_gated_nonlinearity(\n",
    "        \"Generator.nl2\",\n",
    "        4 * dim,\n",
    "        output[:, ::2],\n",
    "        output[:, 1::2],\n",
    "        condition[:, ::2],\n",
    "        condition[:, 1::2],\n",
    "    )\n",
    "\n",
    "    output = lib.ops.deconv2d.Deconv2D(\"Generator.3\", 4 * dim, 2 * dim * 2, 5, output)\n",
    "    if bn:\n",
    "        output = Batchnorm(\"Generator.BN3\", [0, 2, 3], output)\n",
    "    condition = lib.ops.linear.Linear(\n",
    "        \"Generator.cond3\", numClasses, 2 * 16 * 16 * dim * 2, labels\n",
    "    )\n",
    "    condition = tf.reshape(condition, [-1, 2 * dim * 2, 16, 16])\n",
    "    output = pixcnn_gated_nonlinearity(\n",
    "        \"Generator.nl3\",\n",
    "        2 * dim,\n",
    "        output[:, ::2],\n",
    "        output[:, 1::2],\n",
    "        condition[:, ::2],\n",
    "        condition[:, 1::2],\n",
    "    )\n",
    "\n",
    "    output = lib.ops.deconv2d.Deconv2D(\"Generator.4\", 2 * dim, dim * 2, 5, output)\n",
    "    if bn:\n",
    "        output = Batchnorm(\"Generator.BN4\", [0, 2, 3], output)\n",
    "    condition = lib.ops.linear.Linear(\n",
    "        \"Generator.cond4\", numClasses, 32 * 32 * dim * 2, labels\n",
    "    )\n",
    "    condition = tf.reshape(condition, [-1, dim * 2, 32, 32])\n",
    "    output = pixcnn_gated_nonlinearity(\n",
    "        \"Generator.nl4\",\n",
    "        dim,\n",
    "        output[:, ::2],\n",
    "        output[:, 1::2],\n",
    "        condition[:, ::2],\n",
    "        condition[:, 1::2],\n",
    "    )\n",
    "\n",
    "    output = lib.ops.deconv2d.Deconv2D(\"Generator.5\", dim, 3, 5, output)\n",
    "\n",
    "    output = tf.tanh(output)\n",
    "\n",
    "    lib.ops.conv2d.unset_weights_stdev()\n",
    "    lib.ops.deconv2d.unset_weights_stdev()\n",
    "    lib.ops.linear.unset_weights_stdev()\n",
    "\n",
    "    return tf.reshape(output, [-1, OUTPUT_DIM]), labels"
   ]
  },
  {
   "cell_type": "code",
   "execution_count": 28,
   "id": "77aa40c9",
   "metadata": {},
   "outputs": [],
   "source": [
    "def kACGANDiscriminator(inputs, numClasses, dim=DIM, bn=True, nonlinearity=LeakyReLU):\n",
    "    output = tf.reshape(inputs, [-1, 3, dim, dim])\n",
    "\n",
    "    lib.ops.conv2d.set_weights_stdev(0.02)\n",
    "    lib.ops.deconv2d.set_weights_stdev(0.02)\n",
    "    lib.ops.linear.set_weights_stdev(0.02)\n",
    "\n",
    "    output = lib.ops.conv2d.Conv2D(\"Discriminator.1\", 3, dim, 5, output, stride=2)\n",
    "    output = nonlinearity(output)\n",
    "\n",
    "    output = lib.ops.conv2d.Conv2D(\"Discriminator.2\", dim, 2 * dim, 5, output, stride=2)\n",
    "    if bn:\n",
    "        output = Batchnorm(\"Discriminator.BN2\", [0, 2, 3], output)\n",
    "    output = nonlinearity(output)\n",
    "\n",
    "    output = lib.ops.conv2d.Conv2D(\n",
    "        \"Discriminator.3\", 2 * dim, 4 * dim, 5, output, stride=2\n",
    "    )\n",
    "    if bn:\n",
    "        output = Batchnorm(\"Discriminator.BN3\", [0, 2, 3], output)\n",
    "    output = nonlinearity(output)\n",
    "\n",
    "    output = lib.ops.conv2d.Conv2D(\n",
    "        \"Discriminator.4\", 4 * dim, 8 * dim, 5, output, stride=2\n",
    "    )\n",
    "    if bn:\n",
    "        output = Batchnorm(\"Discriminator.BN4\", [0, 2, 3], output)\n",
    "    output = nonlinearity(output)\n",
    "    finalLayer = tf.reshape(output, [-1, 4 * 4 * 8 * dim])\n",
    "\n",
    "    sourceOutput = lib.ops.linear.Linear(\n",
    "        \"Discriminator.sourceOutput\", 4 * 4 * 8 * dim, 1, finalLayer\n",
    "    )\n",
    "\n",
    "    classOutput = lib.ops.linear.Linear(\n",
    "        \"Discriminator.classOutput\", 4 * 4 * 8 * dim, numClasses, finalLayer\n",
    "    )\n",
    "\n",
    "    lib.ops.conv2d.unset_weights_stdev()\n",
    "    lib.ops.deconv2d.unset_weights_stdev()\n",
    "    lib.ops.linear.unset_weights_stdev()\n",
    "\n",
    "    return (tf.reshape(sourceOutput, [-1]), tf.reshape(classOutput, [-1, numClasses]))"
   ]
  },
  {
   "cell_type": "code",
   "execution_count": 29,
   "id": "0d80fbed",
   "metadata": {},
   "outputs": [],
   "source": [
    "def genRandomLabels(n_samples, numClasses, condition=None):\n",
    "    labels = np.zeros([BATCH_SIZE, CLASSES], dtype=np.float32)\n",
    "    for i in range(n_samples):\n",
    "        if condition is not None:\n",
    "            labelNum = condition\n",
    "        else:\n",
    "            labelNum = randint(0, numClasses - 1)\n",
    "        labels[i, labelNum] = 1\n",
    "    return labels"
   ]
  },
  {
   "cell_type": "code",
   "execution_count": 30,
   "id": "68a89ca7",
   "metadata": {},
   "outputs": [],
   "source": [
    "Generator, Discriminator = GeneratorAndDiscriminator()"
   ]
  },
  {
   "cell_type": "code",
   "execution_count": 31,
   "id": "9f001677",
   "metadata": {},
   "outputs": [
    {
     "data": {
      "text/plain": [
       "['/gpu:0']"
      ]
     },
     "execution_count": 31,
     "metadata": {},
     "output_type": "execute_result"
    }
   ],
   "source": [
    "DEVICES"
   ]
  },
  {
   "cell_type": "code",
   "execution_count": null,
   "id": "03469b7b",
   "metadata": {},
   "outputs": [
    {
     "name": "stdout",
     "output_type": "stream",
     "text": [
      "started ...\n",
      "WARNING:tensorflow:From /home/ec2-user/SageMaker/Masters-thesis/AC-WGAN/tflib/ops/batchnorm.py:51: The name tf.nn.fused_batch_norm is deprecated. Please use tf.compat.v1.nn.fused_batch_norm instead.\n",
      "\n",
      "WARNING:tensorflow:From <ipython-input-32-81bc314b70c5>:65: softmax_cross_entropy_with_logits (from tensorflow.python.ops.nn_ops) is deprecated and will be removed in a future version.\n",
      "Instructions for updating:\n",
      "\n",
      "Future major versions of TensorFlow will allow gradients to flow\n",
      "into the labels input on backprop by default.\n",
      "\n",
      "See `tf.nn.softmax_cross_entropy_with_logits_v2`.\n",
      "\n",
      "WARNING:tensorflow:From /home/ec2-user/anaconda3/envs/tensorflow_p36/gpu_cuda10.0/lib/python3.6/site-packages/tensorflow_core/python/ops/math_grad.py:1424: where (from tensorflow.python.ops.array_ops) is deprecated and will be removed in a future version.\n",
      "Instructions for updating:\n",
      "Use tf.where in 2.0, which has the same broadcast rule as np.where\n",
      "WARNING:tensorflow:From /home/ec2-user/anaconda3/envs/tensorflow_p36/lib/python3.6/site-packages/horovod/tensorflow/__init__.py:163: The name tf.global_variables is deprecated. Please use tf.compat.v1.global_variables instead.\n",
      "\n",
      "WARNING:tensorflow:From /home/ec2-user/anaconda3/envs/tensorflow_p36/lib/python3.6/site-packages/horovod/tensorflow/__init__.py:189: The name tf.get_default_graph is deprecated. Please use tf.compat.v1.get_default_graph instead.\n",
      "\n",
      "[2022-04-12 09:57:56.781 ip-172-16-67-27:7759 INFO utils.py:27] RULE_JOB_STOP_SIGNAL_FILENAME: None\n",
      "[2022-04-12 09:57:56.805 ip-172-16-67-27:7759 INFO profiler_config_parser.py:111] Unable to find config at /opt/ml/input/config/profilerconfig.json. Profiler is disabled.\n"
     ]
    },
    {
     "name": "stderr",
     "output_type": "stream",
     "text": [
      "Lossy conversion from float64 to uint8. Range [0.0, 255.0]. Convert image to uint8 prior to saving to suppress this warning.\n"
     ]
    },
    {
     "name": "stdout",
     "output_type": "stream",
     "text": [
      "1\n",
      "1\n",
      "WARNING:tensorflow:From /home/ec2-user/anaconda3/envs/tensorflow_p36/gpu_cuda10.0/lib/python3.6/site-packages/tensorflow_core/python/util/tf_should_use.py:198: initialize_all_variables (from tensorflow.python.ops.variables) is deprecated and will be removed after 2017-03-02.\n",
      "Instructions for updating:\n",
      "Use `tf.global_variables_initializer` instead.\n",
      "pretraining accuracy: 0.75\n",
      "pretraining accuracy: 0.79761904\n",
      "pretraining accuracy: 0.8333333\n",
      "pretraining accuracy: 0.8214286\n",
      "pretraining accuracy: 0.78571427\n",
      "pretraining accuracy: 0.75\n",
      "pretraining accuracy: 0.71428573\n",
      "pretraining accuracy: 0.72619045\n",
      "pretraining accuracy: 0.75\n",
      "pretraining accuracy: 0.8095238\n",
      "pretraining accuracy: 0.75\n",
      "pretraining accuracy: 0.71428573\n",
      "pretraining accuracy: 0.75\n",
      "pretraining accuracy: 0.79761904\n",
      "pretraining accuracy: 0.70238096\n",
      "pretraining accuracy: 0.72619045\n",
      "pretraining accuracy: 0.77380955\n",
      "pretraining accuracy: 0.79761904\n",
      "pretraining accuracy: 0.77380955\n",
      "pretraining accuracy: 0.85714287\n",
      "iter 0\ttrain disc cost\t-85.38302612304688\ttime\t4.441606044769287\twgan train disc cost\t-126.58312225341797\ttrain class cost\t0.4465290606021881\tgenerated class cost\t1.690489411354065\tgen cost cost\t40.56352996826172\tgen accuracy\t0.5\treal accuracy\t0.761904776096344\n",
      "iter 1\ttrain disc cost\t-75.0458984375\ttime\t2.482465982437134\twgan train disc cost\t-140.48927307128906\ttrain class cost\t0.5878758430480957\tgenerated class cost\t1.3847707509994507\tgen cost cost\t52.4183235168457\tgen accuracy\t0.5714285969734192\treal accuracy\t0.6785714030265808\n",
      "iter 2\ttrain disc cost\t-73.05003356933594\ttime\t1.281998634338379\twgan train disc cost\t-157.63357543945312\ttrain class cost\t0.5024610161781311\tgenerated class cost\t1.4857240915298462\tgen cost cost\t30.918684005737305\tgen accuracy\t0.5\treal accuracy\t0.738095223903656\n",
      "iter 3\ttrain disc cost\t-65.96310424804688\ttime\t1.2802081108093262\twgan train disc cost\t-103.83782958984375\ttrain class cost\t0.4931732416152954\tgenerated class cost\t0.9556830525398254\tgen cost cost\t7.627246856689453\tgen accuracy\t0.7023809552192688\treal accuracy\t0.7857142686843872\n",
      "iter 4\ttrain disc cost\t-67.25682067871094\ttime\t1.2835335731506348\twgan train disc cost\t-121.42333221435547\ttrain class cost\t0.47463393211364746\tgenerated class cost\t2.035444736480713\tgen cost cost\t24.815420150756836\tgen accuracy\t0.4285714328289032\treal accuracy\t0.8214285969734192\n",
      "iter 5\ttrain disc cost\t-76.89022827148438\ttime\t1.2827303409576416\twgan train disc cost\t-136.2921600341797\ttrain class cost\t0.48747390508651733\tgenerated class cost\t1.5616395473480225\tgen cost cost\t39.42875289916992\tgen accuracy\t0.5595238208770752\treal accuracy\t0.75\n",
      "iter 6\ttrain disc cost\t-76.046142578125\ttime\t1.2922708988189697\twgan train disc cost\t-126.25273132324219\ttrain class cost\t0.5199349522590637\tgenerated class cost\t1.6130828857421875\tgen cost cost\t29.146961212158203\tgen accuracy\t0.5\treal accuracy\t0.773809552192688\n",
      "iter 7\ttrain disc cost\t-74.42852783203125\ttime\t1.2738029956817627\twgan train disc cost\t-110.03280639648438\ttrain class cost\t0.5488364100456238\tgenerated class cost\t1.421022891998291\tgen cost cost\t9.835495948791504\tgen accuracy\t0.523809552192688\treal accuracy\t0.6904761791229248\n",
      "iter 8\ttrain disc cost\t-65.82743835449219\ttime\t1.273845911026001\twgan train disc cost\t-97.36505126953125\ttrain class cost\t0.5116491913795471\tgenerated class cost\t1.6297533512115479\tgen cost cost\t-15.056001663208008\tgen accuracy\t0.4761904776096344\treal accuracy\t0.7142857313156128\n",
      "iter 9\ttrain disc cost\t-60.95762252807617\ttime\t1.2798941135406494\twgan train disc cost\t-109.91912841796875\ttrain class cost\t0.5563758611679077\tgenerated class cost\t2.1239919662475586\tgen cost cost\t-18.935169219970703\tgen accuracy\t0.4642857015132904\treal accuracy\t0.726190447807312\n",
      "iter 99\ttrain disc cost\t-36.25576400756836\ttime\t1.299848002857632\twgan train disc cost\t-52.74827575683594\ttrain class cost\t0.47027215361595154\tgenerated class cost\t1.089737892150879\tgen cost cost\t38.405399322509766\tgen accuracy\t0.5140211582183838\treal accuracy\t0.773809552192688\tdev disc cost\t-15.840189933776855\twgan dev disc cost\t-19.177658081054688\tdev class cost\t0.4435890316963196\tdev generated class cost\t0.8367210626602173\tdev gen  cost\t11.971049308776855\tdev gen accuracy\t0.523809552192688\tdev real accuracy\t0.761904776096344\n",
      "iter 199\ttrain disc cost\t-15.478498458862305\ttime\t1.3042410659790038\twgan train disc cost\t-21.21393394470215\ttrain class cost\t0.42323940992355347\tgenerated class cost\t0.7710728645324707\tgen cost cost\t28.981826782226562\tgen accuracy\t0.5890476107597351\treal accuracy\t0.8077381253242493\tdev disc cost\t-13.710653305053711\twgan dev disc cost\t-19.84372329711914\tdev class cost\t0.36040082573890686\tdev generated class cost\t0.6351090669631958\tdev gen  cost\t54.01534652709961\tdev gen accuracy\t0.7023809552192688\tdev real accuracy\t0.8452380895614624\n",
      "iter 299\ttrain disc cost\t-13.985152244567871\ttime\t1.3037382364273071\twgan train disc cost\t-19.388927459716797\ttrain class cost\t0.4252241551876068\tgenerated class cost\t0.6545351147651672\tgen cost cost\t45.3984375\tgen accuracy\t0.6577380299568176\treal accuracy\t0.8054761290550232\tdev disc cost\t-14.185158729553223\twgan dev disc cost\t-19.88161277770996\tdev class cost\t0.35809341073036194\tdev generated class cost\t0.6853267550468445\tdev gen  cost\t23.558055877685547\tdev gen accuracy\t0.5833333134651184\tdev real accuracy\t0.8452380895614624\n",
      "iter 399\ttrain disc cost\t-13.024810791015625\ttime\t1.3025623488426208\twgan train disc cost\t-17.3292293548584\ttrain class cost\t0.34928280115127563\tgenerated class cost\t0.44262608885765076\tgen cost cost\t32.40675354003906\tgen accuracy\t0.79964280128479\treal accuracy\t0.8485714793205261\tdev disc cost\t-10.598013877868652\twgan dev disc cost\t-15.16801643371582\tdev class cost\t0.21309791505336761\tdev generated class cost\t0.4058060944080353\tdev gen  cost\t37.388336181640625\tdev gen accuracy\t0.8452380895614624\tdev real accuracy\t0.9166666865348816\n",
      "iter 499\ttrain disc cost\t-8.750642776489258\ttime\t1.30356831073761\twgan train disc cost\t-11.804001808166504\ttrain class cost\t0.3147524893283844\tgenerated class cost\t0.28698837757110596\tgen cost cost\t44.2559700012207\tgen accuracy\t0.9028571844100952\treal accuracy\t0.8728572130203247\tdev disc cost\t-8.161256790161133\twgan dev disc cost\t-11.637943267822266\tdev class cost\t0.20870976150035858\tdev generated class cost\t0.14765441417694092\tdev gen  cost\t2.612886428833008\tdev gen accuracy\t0.9642857313156128\tdev real accuracy\t0.9285714030265808\n",
      "iter 599\ttrain disc cost\t-8.491523742675781\ttime\t1.3058949685096741\twgan train disc cost\t-11.461655616760254\ttrain class cost\t0.2874062657356262\tgenerated class cost\t0.2177485227584839\tgen cost cost\t39.516937255859375\tgen accuracy\t0.9342858195304871\treal accuracy\t0.883809506893158\tdev disc cost\t-7.280841827392578\twgan dev disc cost\t-10.407257080078125\tdev class cost\t0.21154814958572388\tdev generated class cost\t0.23328249156475067\tdev gen  cost\t52.97510528564453\tdev gen accuracy\t0.9523809552192688\tdev real accuracy\t0.9166666865348816\n",
      "iter 699\ttrain disc cost\t-7.793546199798584\ttime\t1.304307487010956\twgan train disc cost\t-10.497385025024414\ttrain class cost\t0.2673499286174774\tgenerated class cost\t0.22305713593959808\tgen cost cost\t58.77122497558594\tgen accuracy\t0.9265475273132324\treal accuracy\t0.8952381014823914\tdev disc cost\t-7.169641017913818\twgan dev disc cost\t-9.359519958496094\tdev class cost\t0.23109740018844604\tdev generated class cost\t0.19648252427577972\tdev gen  cost\t57.042545318603516\tdev gen accuracy\t0.976190447807312\tdev real accuracy\t0.8809523582458496\n",
      "iter 799\ttrain disc cost\t-7.0321574211120605\ttime\t1.304140202999115\twgan train disc cost\t-9.475532531738281\ttrain class cost\t0.2812642753124237\tgenerated class cost\t0.22022224962711334\tgen cost cost\t47.555015563964844\tgen accuracy\t0.9213095903396606\treal accuracy\t0.8876190185546875\tdev disc cost\t-9.245424270629883\twgan dev disc cost\t-11.655647277832031\tdev class cost\t0.10067726671695709\tdev generated class cost\t0.15038242936134338\tdev gen  cost\t31.10843849182129\tdev gen accuracy\t0.9404761791229248\tdev real accuracy\t0.976190447807312\n",
      "iter 899\ttrain disc cost\t-8.087837219238281\ttime\t1.3053039145469665\twgan train disc cost\t-10.63247299194336\ttrain class cost\t0.2504953444004059\tgenerated class cost\t0.16310687363147736\tgen cost cost\t56.646976470947266\tgen accuracy\t0.9535715579986572\treal accuracy\t0.903333306312561\tdev disc cost\t-3.674567222595215\twgan dev disc cost\t-7.776557922363281\tdev class cost\t0.10948852449655533\tdev generated class cost\t0.1475667655467987\tdev gen  cost\t64.23026275634766\tdev gen accuracy\t0.976190447807312\tdev real accuracy\t0.9642857313156128\n"
     ]
    },
    {
     "name": "stderr",
     "output_type": "stream",
     "text": [
      "Lossy conversion from float64 to uint8. Range [0.0, 255.0]. Convert image to uint8 prior to saving to suppress this warning.\n",
      "Lossy conversion from float64 to uint8. Range [0.0, 255.0]. Convert image to uint8 prior to saving to suppress this warning.\n"
     ]
    },
    {
     "name": "stdout",
     "output_type": "stream",
     "text": [
      "1\n",
      "1\n",
      "1\n",
      "1\n",
      "iter 999\ttrain disc cost\t-6.225286483764648\ttime\t1.3082216930389405\twgan train disc cost\t-8.877884864807129\ttrain class cost\t0.2729979455471039\tgenerated class cost\t0.19239561259746552\tgen cost cost\t58.593109130859375\tgen accuracy\t0.9383334517478943\treal accuracy\t0.8895238637924194\tdev disc cost\t-5.52265739440918\twgan dev disc cost\t-6.866600036621094\tdev class cost\t0.24735289812088013\tdev generated class cost\t0.1819995641708374\tdev gen  cost\t58.71970748901367\tdev gen accuracy\t0.9642857313156128\tdev real accuracy\t0.9166666865348816\n",
      "iter 1099\ttrain disc cost\t-6.313390731811523\ttime\t1.3062477064132691\twgan train disc cost\t-8.59680461883545\ttrain class cost\t0.23025204241275787\tgenerated class cost\t0.11819574236869812\tgen cost cost\t31.470741271972656\tgen accuracy\t0.969880998134613\treal accuracy\t0.908928632736206\n",
      "iter 1199\ttrain disc cost\t-6.708358287811279\ttime\t1.3071693539619447\twgan train disc cost\t-9.026023864746094\ttrain class cost\t0.22869643568992615\tgenerated class cost\t0.09713385254144669\tgen cost cost\t62.48480987548828\tgen accuracy\t0.9804762005805969\treal accuracy\t0.9154763221740723\n",
      "iter 1299\ttrain disc cost\t-6.3396992683410645\ttime\t1.309965798854828\twgan train disc cost\t-8.344038963317871\ttrain class cost\t0.2207610309123993\tgenerated class cost\t0.0995783731341362\tgen cost cost\t79.73270416259766\tgen accuracy\t0.9789285063743591\treal accuracy\t0.9142856001853943\n",
      "iter 1399\ttrain disc cost\t-5.881347179412842\ttime\t1.3096711874008178\twgan train disc cost\t-7.459362983703613\ttrain class cost\t0.21353526413440704\tgenerated class cost\t0.0813816711306572\tgen cost cost\t80.63186645507812\tgen accuracy\t0.9859523773193359\treal accuracy\t0.9211904406547546\n",
      "iter 1499\ttrain disc cost\t-5.325421333312988\ttime\t1.3105753231048585\twgan train disc cost\t-7.181767463684082\ttrain class cost\t0.2040718048810959\tgenerated class cost\t0.07884442061185837\tgen cost cost\t76.47005462646484\tgen accuracy\t0.985714316368103\treal accuracy\t0.9228572249412537\n",
      "iter 1599\ttrain disc cost\t-5.320054531097412\ttime\t1.3079815578460694\twgan train disc cost\t-6.738134384155273\ttrain class cost\t0.20567013323307037\tgenerated class cost\t0.08068545162677765\tgen cost cost\t85.9660873413086\tgen accuracy\t0.9839286804199219\treal accuracy\t0.9230953454971313\n",
      "iter 1699\ttrain disc cost\t-5.105589866638184\ttime\t1.3111385345458983\twgan train disc cost\t-6.4920244216918945\ttrain class cost\t0.2011757344007492\tgenerated class cost\t0.07706879079341888\tgen cost cost\t85.27404022216797\tgen accuracy\t0.9853572249412537\treal accuracy\t0.9221428632736206\n",
      "iter 1799\ttrain disc cost\t-5.105391502380371\ttime\t1.3128468656539918\twgan train disc cost\t-6.434487342834473\ttrain class cost\t0.1906179040670395\tgenerated class cost\t0.07292835414409637\tgen cost cost\t93.77278137207031\tgen accuracy\t0.9858333468437195\treal accuracy\t0.9233332872390747\n",
      "iter 1899\ttrain disc cost\t-4.808605670928955\ttime\t1.3078172159194947\twgan train disc cost\t-6.245140552520752\ttrain class cost\t0.19874034821987152\tgenerated class cost\t0.07226578891277313\tgen cost cost\t94.7228775024414\tgen accuracy\t0.9848809838294983\treal accuracy\t0.9234524369239807\n"
     ]
    },
    {
     "name": "stderr",
     "output_type": "stream",
     "text": [
      "Lossy conversion from float64 to uint8. Range [0.0, 255.0]. Convert image to uint8 prior to saving to suppress this warning.\n",
      "Lossy conversion from float64 to uint8. Range [0.0, 255.0]. Convert image to uint8 prior to saving to suppress this warning.\n"
     ]
    },
    {
     "name": "stdout",
     "output_type": "stream",
     "text": [
      "1\n",
      "1\n",
      "1\n",
      "1\n",
      "iter 1999\ttrain disc cost\t-5.0673322677612305\ttime\t1.3228182005882263\twgan train disc cost\t-6.439565658569336\ttrain class cost\t0.19074943661689758\tgenerated class cost\t0.07141496986150742\tgen cost cost\t99.48133087158203\tgen accuracy\t0.985119104385376\treal accuracy\t0.9247618317604065\tdev disc cost\t-6.477386474609375\twgan dev disc cost\t-7.056037902832031\tdev class cost\t0.1469670534133911\tdev generated class cost\t0.05563695728778839\tdev gen  cost\t100.94863891601562\tdev gen accuracy\t0.988095223903656\tdev real accuracy\t0.9523809552192688\n",
      "iter 2099\ttrain disc cost\t-4.894150257110596\ttime\t1.3272798013687135\twgan train disc cost\t-6.118636608123779\ttrain class cost\t0.1879122108221054\tgenerated class cost\t0.06629147380590439\tgen cost cost\t99.48127746582031\tgen accuracy\t0.9866667985916138\treal accuracy\t0.9258333444595337\n",
      "iter 2199\ttrain disc cost\t-4.8408989906311035\ttime\t1.3228586912155151\twgan train disc cost\t-6.054159164428711\ttrain class cost\t0.18117420375347137\tgenerated class cost\t0.06693709641695023\tgen cost cost\t110.22969818115234\tgen accuracy\t0.986666738986969\treal accuracy\t0.9288095831871033\n",
      "iter 2299\ttrain disc cost\t-4.855232238769531\ttime\t1.323102433681488\twgan train disc cost\t-6.068427085876465\ttrain class cost\t0.18158254027366638\tgenerated class cost\t0.06208457052707672\tgen cost cost\t115.35881805419922\tgen accuracy\t0.987619161605835\treal accuracy\t0.9313095211982727\n",
      "iter 2399\ttrain disc cost\t-4.376795768737793\ttime\t1.3200362420082092\twgan train disc cost\t-5.701037406921387\ttrain class cost\t0.1766604483127594\tgenerated class cost\t0.0603681243956089\tgen cost cost\t111.3718032836914\tgen accuracy\t0.9892857074737549\treal accuracy\t0.9322619438171387\n",
      "iter 2499\ttrain disc cost\t-4.685912132263184\ttime\t1.3186059093475342\twgan train disc cost\t-5.843299388885498\ttrain class cost\t0.17827385663986206\tgenerated class cost\t0.06118600070476532\tgen cost cost\t110.25994110107422\tgen accuracy\t0.9877381920814514\treal accuracy\t0.9325000047683716\n",
      "iter 2599\ttrain disc cost\t-4.352980136871338\ttime\t1.315724217891693\twgan train disc cost\t-5.609943389892578\ttrain class cost\t0.17576448619365692\tgenerated class cost\t0.05793903023004532\tgen cost cost\t110.62053680419922\tgen accuracy\t0.9880953431129456\treal accuracy\t0.9315477013587952\n",
      "iter 2699\ttrain disc cost\t-4.174920558929443\ttime\t1.3204510593414307\twgan train disc cost\t-5.455315589904785\ttrain class cost\t0.1815434694290161\tgenerated class cost\t0.05757598951458931\tgen cost cost\t108.68667602539062\tgen accuracy\t0.991190493106842\treal accuracy\t0.9317857623100281\n",
      "iter 2799\ttrain disc cost\t-4.301095485687256\ttime\t1.3256910753250122\twgan train disc cost\t-5.4319233894348145\ttrain class cost\t0.17425498366355896\tgenerated class cost\t0.06015676632523537\tgen cost cost\t112.88859558105469\tgen accuracy\t0.9885714650154114\treal accuracy\t0.9330953359603882\n",
      "iter 2899\ttrain disc cost\t-4.158112049102783\ttime\t1.3204784631729125\twgan train disc cost\t-5.145089626312256\ttrain class cost\t0.16892492771148682\tgenerated class cost\t0.05877428129315376\tgen cost cost\t108.32443237304688\tgen accuracy\t0.9889286160469055\treal accuracy\t0.9352381825447083\n"
     ]
    },
    {
     "name": "stderr",
     "output_type": "stream",
     "text": [
      "Lossy conversion from float64 to uint8. Range [0.0, 255.0]. Convert image to uint8 prior to saving to suppress this warning.\n",
      "Lossy conversion from float64 to uint8. Range [0.0, 255.0]. Convert image to uint8 prior to saving to suppress this warning.\n"
     ]
    },
    {
     "name": "stdout",
     "output_type": "stream",
     "text": [
      "1\n",
      "1\n",
      "1\n",
      "1\n",
      "iter 2999\ttrain disc cost\t-4.116273403167725\ttime\t1.3191021490097046\twgan train disc cost\t-5.23527717590332\ttrain class cost\t0.1770029515028\tgenerated class cost\t0.05665300413966179\tgen cost cost\t108.71471405029297\tgen accuracy\t0.9884524345397949\treal accuracy\t0.9322619438171387\tdev disc cost\t-4.050154209136963\twgan dev disc cost\t-4.753204345703125\tdev class cost\t0.09345201402902603\tdev generated class cost\t0.03356984257698059\tdev gen  cost\t118.48007202148438\tdev gen accuracy\t0.988095223903656\tdev real accuracy\t0.9523809552192688\n",
      "iter 3099\ttrain disc cost\t-4.17625617980957\ttime\t1.3275914692878723\twgan train disc cost\t-5.290487289428711\ttrain class cost\t0.16794216632843018\tgenerated class cost\t0.05914344638586044\tgen cost cost\t109.91322326660156\tgen accuracy\t0.9883333444595337\treal accuracy\t0.9328572154045105\n",
      "iter 3199\ttrain disc cost\t-3.8472399711608887\ttime\t1.3215605354309081\twgan train disc cost\t-4.87937068939209\ttrain class cost\t0.17394228279590607\tgenerated class cost\t0.061805013567209244\tgen cost cost\t105.50117492675781\tgen accuracy\t0.9863096475601196\treal accuracy\t0.9355953335762024\n",
      "iter 3299\ttrain disc cost\t-3.711489677429199\ttime\t1.319632112979889\twgan train disc cost\t-4.747641086578369\ttrain class cost\t0.17461711168289185\tgenerated class cost\t0.062144432216882706\tgen cost cost\t100.48455047607422\tgen accuracy\t0.9878572225570679\treal accuracy\t0.9314286708831787\n",
      "iter 3399\ttrain disc cost\t-3.4034180641174316\ttime\t1.3215463089942932\twgan train disc cost\t-4.4459686279296875\ttrain class cost\t0.17668062448501587\tgenerated class cost\t0.058552078902721405\tgen cost cost\t95.4172134399414\tgen accuracy\t0.9900000691413879\treal accuracy\t0.9313095808029175\n",
      "iter 3499\ttrain disc cost\t-3.4478330612182617\ttime\t1.3219481778144837\twgan train disc cost\t-4.295216083526611\ttrain class cost\t0.17238958179950714\tgenerated class cost\t0.054437313228845596\tgen cost cost\t101.29985046386719\tgen accuracy\t0.9922619462013245\treal accuracy\t0.9309523701667786\n",
      "iter 3599\ttrain disc cost\t-3.3883895874023438\ttime\t1.3259074234962462\twgan train disc cost\t-4.362749099731445\ttrain class cost\t0.17465198040008545\tgenerated class cost\t0.05177883058786392\tgen cost cost\t102.92085266113281\tgen accuracy\t0.9926190376281738\treal accuracy\t0.9333334565162659\n",
      "iter 3699\ttrain disc cost\t-3.3814315795898438\ttime\t1.3289563322067262\twgan train disc cost\t-4.3410725593566895\ttrain class cost\t0.17705316841602325\tgenerated class cost\t0.057245198637247086\tgen cost cost\t107.35240173339844\tgen accuracy\t0.9917857646942139\treal accuracy\t0.9341667294502258\n",
      "iter 3799\ttrain disc cost\t-3.3892855644226074\ttime\t1.3298598289489747\twgan train disc cost\t-4.155810832977295\ttrain class cost\t0.16891342401504517\tgenerated class cost\t0.0565439909696579\tgen cost cost\t105.45667266845703\tgen accuracy\t0.9910714626312256\treal accuracy\t0.9336904287338257\n",
      "iter 3899\ttrain disc cost\t-3.2890799045562744\ttime\t1.32940443277359\twgan train disc cost\t-4.263928413391113\ttrain class cost\t0.17689314484596252\tgenerated class cost\t0.05159178748726845\tgen cost cost\t97.58053588867188\tgen accuracy\t0.9922619462013245\treal accuracy\t0.9296428561210632\n"
     ]
    },
    {
     "name": "stderr",
     "output_type": "stream",
     "text": [
      "Lossy conversion from float64 to uint8. Range [0.0, 255.0]. Convert image to uint8 prior to saving to suppress this warning.\n",
      "Lossy conversion from float64 to uint8. Range [0.0, 255.0]. Convert image to uint8 prior to saving to suppress this warning.\n"
     ]
    },
    {
     "name": "stdout",
     "output_type": "stream",
     "text": [
      "1\n",
      "1\n",
      "1\n",
      "1\n",
      "iter 3999\ttrain disc cost\t-3.3283448219299316\ttime\t1.3304989194869996\twgan train disc cost\t-4.132138252258301\ttrain class cost\t0.16516231000423431\tgenerated class cost\t0.050356194376945496\tgen cost cost\t96.28704833984375\tgen accuracy\t0.9928572177886963\treal accuracy\t0.93666672706604\tdev disc cost\t-4.115048885345459\twgan dev disc cost\t-4.9768218994140625\tdev class cost\t0.14644964039325714\tdev generated class cost\t0.02336196042597294\tdev gen  cost\t98.42375946044922\tdev gen accuracy\t1.0\tdev real accuracy\t0.9523809552192688\n",
      "iter 4099\ttrain disc cost\t-3.4459609985351562\ttime\t1.3339712476730348\twgan train disc cost\t-4.261160850524902\ttrain class cost\t0.18386290967464447\tgenerated class cost\t0.046327896416187286\tgen cost cost\t104.91398620605469\tgen accuracy\t0.9940476417541504\treal accuracy\t0.9285715222358704\n",
      "iter 4199\ttrain disc cost\t-3.2728567123413086\ttime\t1.332632086277008\twgan train disc cost\t-3.9844837188720703\ttrain class cost\t0.17071007192134857\tgenerated class cost\t0.05479298532009125\tgen cost cost\t98.27141571044922\tgen accuracy\t0.9911905527114868\treal accuracy\t0.9310714602470398\n",
      "iter 4299\ttrain disc cost\t-3.019040107727051\ttime\t1.3287014961242676\twgan train disc cost\t-4.061538219451904\ttrain class cost\t0.1738358736038208\tgenerated class cost\t0.05352725833654404\tgen cost cost\t97.77735137939453\tgen accuracy\t0.9908333420753479\treal accuracy\t0.9319048523902893\n",
      "iter 4399\ttrain disc cost\t-2.7948648929595947\ttime\t1.3249200248718263\twgan train disc cost\t-4.004751205444336\ttrain class cost\t0.17044858634471893\tgenerated class cost\t0.05547230318188667\tgen cost cost\t96.70121002197266\tgen accuracy\t0.9902381896972656\treal accuracy\t0.932619035243988\n",
      "iter 4499\ttrain disc cost\t-3.1288535594940186\ttime\t1.320208399295807\twgan train disc cost\t-3.9286208152770996\ttrain class cost\t0.1721588671207428\tgenerated class cost\t0.050571855157613754\tgen cost cost\t85.75468444824219\tgen accuracy\t0.9904762506484985\treal accuracy\t0.9353571534156799\n",
      "iter 4599\ttrain disc cost\t-1.422734022140503\ttime\t1.3180413341522217\twgan train disc cost\t-2.475534677505493\ttrain class cost\t0.22705282270908356\tgenerated class cost\t0.09991315752267838\tgen cost cost\t-7.497837066650391\tgen accuracy\t0.9725000262260437\treal accuracy\t0.912261962890625\n",
      "iter 4699\ttrain disc cost\t-2.071565866470337\ttime\t1.320167031288147\twgan train disc cost\t-2.4865152835845947\ttrain class cost\t0.19865024089813232\tgenerated class cost\t0.05866602808237076\tgen cost cost\t-52.5858039855957\tgen accuracy\t0.9897619485855103\treal accuracy\t0.9221428632736206\n",
      "iter 4799\ttrain disc cost\t-2.299838066101074\ttime\t1.3178129935264586\twgan train disc cost\t-2.783280611038208\ttrain class cost\t0.1989876925945282\tgenerated class cost\t0.055762771517038345\tgen cost cost\t-57.303466796875\tgen accuracy\t0.9885714650154114\treal accuracy\t0.9228571057319641\n",
      "iter 4899\ttrain disc cost\t-2.544588565826416\ttime\t1.3187994623184205\twgan train disc cost\t-3.108574867248535\ttrain class cost\t0.19922658801078796\tgenerated class cost\t0.05165465921163559\tgen cost cost\t-35.133697509765625\tgen accuracy\t0.9908333420753479\treal accuracy\t0.9250000715255737\n"
     ]
    },
    {
     "name": "stderr",
     "output_type": "stream",
     "text": [
      "Lossy conversion from float64 to uint8. Range [0.0, 255.0]. Convert image to uint8 prior to saving to suppress this warning.\n",
      "Lossy conversion from float64 to uint8. Range [0.0, 255.0]. Convert image to uint8 prior to saving to suppress this warning.\n"
     ]
    },
    {
     "name": "stdout",
     "output_type": "stream",
     "text": [
      "1\n",
      "1\n",
      "1\n",
      "1\n",
      "iter 4999\ttrain disc cost\t-2.573901891708374\ttime\t1.3173653078079224\twgan train disc cost\t-3.1832306385040283\ttrain class cost\t0.1826101541519165\tgenerated class cost\t0.04416295513510704\tgen cost cost\t-14.464515686035156\tgen accuracy\t0.9913095831871033\treal accuracy\t0.9327381253242493\tdev disc cost\t-4.6020917892456055\twgan dev disc cost\t-6.0745954513549805\tdev class cost\t0.3660850524902344\tdev generated class cost\t0.032242532819509506\tdev gen  cost\t-12.797776222229004\tdev gen accuracy\t1.0\tdev real accuracy\t0.8928571343421936\n",
      "iter 5099\ttrain disc cost\t-2.6899185180664062\ttime\t1.3210324358940124\twgan train disc cost\t-3.5502657890319824\ttrain class cost\t0.17026038467884064\tgenerated class cost\t0.04813079535961151\tgen cost cost\t-8.607906341552734\tgen accuracy\t0.991547703742981\treal accuracy\t0.9314286112785339\n",
      "iter 5199\ttrain disc cost\t-2.687804937362671\ttime\t1.3215761017799377\twgan train disc cost\t-3.3784549236297607\ttrain class cost\t0.17808711528778076\tgenerated class cost\t0.04406760632991791\tgen cost cost\t-6.734436511993408\tgen accuracy\t0.9919047355651855\treal accuracy\t0.9316667914390564\n",
      "iter 5299\ttrain disc cost\t-2.873471975326538\ttime\t1.32287184715271\twgan train disc cost\t-3.603428602218628\ttrain class cost\t0.17026299238204956\tgenerated class cost\t0.04478878527879715\tgen cost cost\t-7.064105033874512\tgen accuracy\t0.9909524321556091\treal accuracy\t0.9319047331809998\n",
      "iter 5399\ttrain disc cost\t-2.816471576690674\ttime\t1.3243544435501098\twgan train disc cost\t-3.532088279724121\ttrain class cost\t0.16933275759220123\tgenerated class cost\t0.044963523745536804\tgen cost cost\t-0.8559936285018921\tgen accuracy\t0.9929763078689575\treal accuracy\t0.9339286088943481\n",
      "iter 5499\ttrain disc cost\t-2.8861522674560547\ttime\t1.3262661981582642\twgan train disc cost\t-3.6392641067504883\ttrain class cost\t0.1728350669145584\tgenerated class cost\t0.04960675537586212\tgen cost cost\t-1.5021464824676514\tgen accuracy\t0.9882144331932068\treal accuracy\t0.9320239424705505\n",
      "iter 5599\ttrain disc cost\t-2.7642791271209717\ttime\t1.328273160457611\twgan train disc cost\t-3.5014336109161377\ttrain class cost\t0.1579824686050415\tgenerated class cost\t0.04291503131389618\tgen cost cost\t1.930395483970642\tgen accuracy\t0.992262065410614\treal accuracy\t0.93833327293396\n",
      "iter 5699\ttrain disc cost\t-2.886183977127075\ttime\t1.32911367893219\twgan train disc cost\t-3.6408073902130127\ttrain class cost\t0.1686430424451828\tgenerated class cost\t0.04958315193653107\tgen cost cost\t9.015854835510254\tgen accuracy\t0.989642858505249\treal accuracy\t0.9353572130203247\n",
      "iter 5799\ttrain disc cost\t-2.812666416168213\ttime\t1.3298619151115418\twgan train disc cost\t-3.511197090148926\ttrain class cost\t0.14558380842208862\tgenerated class cost\t0.04288756474852562\tgen cost cost\t13.159307479858398\tgen accuracy\t0.9920239448547363\treal accuracy\t0.9448810815811157\n",
      "iter 5899\ttrain disc cost\t-2.8836135864257812\ttime\t1.3317472386360167\twgan train disc cost\t-3.6760177612304688\ttrain class cost\t0.1685907393693924\tgenerated class cost\t0.04527806118130684\tgen cost cost\t17.600130081176758\tgen accuracy\t0.9909523725509644\treal accuracy\t0.9342858195304871\n"
     ]
    },
    {
     "name": "stderr",
     "output_type": "stream",
     "text": [
      "Lossy conversion from float64 to uint8. Range [0.0, 255.0]. Convert image to uint8 prior to saving to suppress this warning.\n",
      "Lossy conversion from float64 to uint8. Range [0.0, 255.0]. Convert image to uint8 prior to saving to suppress this warning.\n"
     ]
    },
    {
     "name": "stdout",
     "output_type": "stream",
     "text": [
      "1\n",
      "1\n",
      "1\n",
      "1\n",
      "iter 5999\ttrain disc cost\t-2.986074209213257\ttime\t1.3289707922935485\twgan train disc cost\t-3.698982000350952\ttrain class cost\t0.14824436604976654\tgenerated class cost\t0.04603440687060356\tgen cost cost\t19.220096588134766\tgen accuracy\t0.9926190972328186\treal accuracy\t0.9413095116615295\tdev disc cost\t-3.658113479614258\twgan dev disc cost\t-4.080814361572266\tdev class cost\t0.11030477285385132\tdev generated class cost\t0.02262144908308983\tdev gen  cost\t33.665679931640625\tdev gen accuracy\t1.0\tdev real accuracy\t0.9642857313156128\n",
      "iter 6099\ttrain disc cost\t-2.9360294342041016\ttime\t1.3237417602539063\twgan train disc cost\t-3.6629509925842285\ttrain class cost\t0.17001956701278687\tgenerated class cost\t0.045294180512428284\tgen cost cost\t21.78338050842285\tgen accuracy\t0.9922619462013245\treal accuracy\t0.9388095736503601\n",
      "iter 6199\ttrain disc cost\t-2.915492057800293\ttime\t1.3210935735702514\twgan train disc cost\t-3.633424758911133\ttrain class cost\t0.15697333216667175\tgenerated class cost\t0.04413830116391182\tgen cost cost\t27.89098358154297\tgen accuracy\t0.9922619462013245\treal accuracy\t0.9392858147621155\n",
      "iter 6299\ttrain disc cost\t-3.020724296569824\ttime\t1.3208394837379456\twgan train disc cost\t-3.7981839179992676\ttrain class cost\t0.15952636301517487\tgenerated class cost\t0.044185735285282135\tgen cost cost\t32.53791427612305\tgen accuracy\t0.9923810362815857\treal accuracy\t0.9417858719825745\n",
      "iter 6399\ttrain disc cost\t-2.7445180416107178\ttime\t1.3185949754714965\twgan train disc cost\t-3.643218755722046\ttrain class cost\t0.1505601555109024\tgenerated class cost\t0.047598544508218765\tgen cost cost\t34.515220642089844\tgen accuracy\t0.9901191592216492\treal accuracy\t0.9419049024581909\n",
      "iter 6499\ttrain disc cost\t-3.000758647918701\ttime\t1.3197635364532472\twgan train disc cost\t-3.7058005332946777\ttrain class cost\t0.15773414075374603\tgenerated class cost\t0.04410286247730255\tgen cost cost\t34.01841354370117\tgen accuracy\t0.9935714602470398\treal accuracy\t0.9391667246818542\n",
      "iter 6599\ttrain disc cost\t-2.8444793224334717\ttime\t1.3192102098464966\twgan train disc cost\t-3.6177289485931396\ttrain class cost\t0.15431146323680878\tgenerated class cost\t0.04502605274319649\tgen cost cost\t34.770530700683594\tgen accuracy\t0.9926191568374634\treal accuracy\t0.940952479839325\n",
      "iter 6699\ttrain disc cost\t-2.8087995052337646\ttime\t1.3199504446983337\twgan train disc cost\t-3.6721816062927246\ttrain class cost\t0.15597796440124512\tgenerated class cost\t0.049092259258031845\tgen cost cost\t35.33167266845703\tgen accuracy\t0.9897618889808655\treal accuracy\t0.9382143616676331\n",
      "iter 6799\ttrain disc cost\t-2.773200750350952\ttime\t1.3198942685127257\twgan train disc cost\t-3.5475573539733887\ttrain class cost\t0.15745232999324799\tgenerated class cost\t0.04727809131145477\tgen cost cost\t33.390174865722656\tgen accuracy\t0.9909524321556091\treal accuracy\t0.9404761791229248\n",
      "iter 6899\ttrain disc cost\t-2.8945882320404053\ttime\t1.3195454621315001\twgan train disc cost\t-3.768024206161499\ttrain class cost\t0.15834182500839233\tgenerated class cost\t0.04880896583199501\tgen cost cost\t33.73603057861328\tgen accuracy\t0.9913095235824585\treal accuracy\t0.9386905431747437\n"
     ]
    },
    {
     "name": "stderr",
     "output_type": "stream",
     "text": [
      "Lossy conversion from float64 to uint8. Range [0.0, 255.0]. Convert image to uint8 prior to saving to suppress this warning.\n",
      "Lossy conversion from float64 to uint8. Range [0.0, 255.0]. Convert image to uint8 prior to saving to suppress this warning.\n"
     ]
    },
    {
     "name": "stdout",
     "output_type": "stream",
     "text": [
      "1\n",
      "1\n",
      "1\n",
      "1\n",
      "iter 6999\ttrain disc cost\t-2.756145715713501\ttime\t1.3181045269966125\twgan train disc cost\t-3.6777384281158447\ttrain class cost\t0.1556457281112671\tgenerated class cost\t0.04775724560022354\tgen cost cost\t39.63911819458008\tgen accuracy\t0.9907143115997314\treal accuracy\t0.9403572082519531\tdev disc cost\t-2.0278334617614746\twgan dev disc cost\t-3.0175247192382812\tdev class cost\t0.11623188108205795\tdev generated class cost\t0.0304061658680439\tdev gen  cost\t36.271018981933594\tdev gen accuracy\t0.988095223903656\tdev real accuracy\t0.976190447807312\n",
      "iter 7099\ttrain disc cost\t-2.755547523498535\ttime\t1.3281383395195008\twgan train disc cost\t-3.5513617992401123\ttrain class cost\t0.14981022477149963\tgenerated class cost\t0.050612788647413254\tgen cost cost\t36.2691764831543\tgen accuracy\t0.9895237684249878\treal accuracy\t0.9425000548362732\n",
      "iter 7199\ttrain disc cost\t-2.860722541809082\ttime\t1.3198501682281494\twgan train disc cost\t-3.558790683746338\ttrain class cost\t0.1455329805612564\tgenerated class cost\t0.045328930020332336\tgen cost cost\t36.95124053955078\tgen accuracy\t0.9917857646942139\treal accuracy\t0.9442858099937439\n",
      "iter 7299\ttrain disc cost\t-2.7193856239318848\ttime\t1.3197270464897155\twgan train disc cost\t-3.4751641750335693\ttrain class cost\t0.1474965661764145\tgenerated class cost\t0.04758158698678017\tgen cost cost\t37.89017105102539\tgen accuracy\t0.9910714626312256\treal accuracy\t0.942976176738739\n",
      "iter 7399\ttrain disc cost\t-2.5726873874664307\ttime\t1.3181080794334412\twgan train disc cost\t-3.3871288299560547\ttrain class cost\t0.15515530109405518\tgenerated class cost\t0.050888970494270325\tgen cost cost\t25.833845138549805\tgen accuracy\t0.9882144331932068\treal accuracy\t0.940952479839325\n",
      "iter 7499\ttrain disc cost\t-2.7073211669921875\ttime\t1.3188295578956604\twgan train disc cost\t-3.4490156173706055\ttrain class cost\t0.14924415946006775\tgenerated class cost\t0.04491449519991875\tgen cost cost\t22.388521194458008\tgen accuracy\t0.9923810362815857\treal accuracy\t0.9429762363433838\n",
      "iter 7599\ttrain disc cost\t-2.693195104598999\ttime\t1.3209407758712768\twgan train disc cost\t-3.476593255996704\ttrain class cost\t0.15007910132408142\tgenerated class cost\t0.04665539786219597\tgen cost cost\t27.540477752685547\tgen accuracy\t0.9903572201728821\treal accuracy\t0.9426190853118896\n",
      "iter 7699\ttrain disc cost\t-2.691452980041504\ttime\t1.3208256578445434\twgan train disc cost\t-3.4751012325286865\ttrain class cost\t0.14911691844463348\tgenerated class cost\t0.04731254279613495\tgen cost cost\t31.303991317749023\tgen accuracy\t0.9908334612846375\treal accuracy\t0.940952479839325\n",
      "iter 7799\ttrain disc cost\t-2.8599143028259277\ttime\t1.3204710173606873\twgan train disc cost\t-3.521104097366333\ttrain class cost\t0.1419236660003662\tgenerated class cost\t0.04162551835179329\tgen cost cost\t24.47610092163086\tgen accuracy\t0.9920238256454468\treal accuracy\t0.943928599357605\n",
      "iter 7899\ttrain disc cost\t-2.6663637161254883\ttime\t1.3201131844520568\twgan train disc cost\t-3.34138822555542\ttrain class cost\t0.14627082645893097\tgenerated class cost\t0.042061399668455124\tgen cost cost\t19.70069694519043\tgen accuracy\t0.9923810362815857\treal accuracy\t0.9432143568992615\n"
     ]
    },
    {
     "name": "stderr",
     "output_type": "stream",
     "text": [
      "Lossy conversion from float64 to uint8. Range [0.0, 255.0]. Convert image to uint8 prior to saving to suppress this warning.\n",
      "Lossy conversion from float64 to uint8. Range [0.0, 255.0]. Convert image to uint8 prior to saving to suppress this warning.\n"
     ]
    },
    {
     "name": "stdout",
     "output_type": "stream",
     "text": [
      "1\n",
      "1\n",
      "1\n",
      "1\n",
      "iter 7999\ttrain disc cost\t-2.7106435298919678\ttime\t1.3218618249893188\twgan train disc cost\t-3.452347993850708\ttrain class cost\t0.13363200426101685\tgenerated class cost\t0.04641277343034744\tgen cost cost\t19.309223175048828\tgen accuracy\t0.9900000095367432\treal accuracy\t0.9494048357009888\tdev disc cost\t-3.525573253631592\twgan dev disc cost\t-3.8483428955078125\tdev class cost\t0.09903480112552643\tdev generated class cost\t0.027173439040780067\tdev gen  cost\t16.92350196838379\tdev gen accuracy\t1.0\tdev real accuracy\t0.9523809552192688\n",
      "iter 8099\ttrain disc cost\t-2.670107126235962\ttime\t1.3204518604278563\twgan train disc cost\t-3.316257953643799\ttrain class cost\t0.1376745104789734\tgenerated class cost\t0.04223531112074852\tgen cost cost\t18.237497329711914\tgen accuracy\t0.9923809766769409\treal accuracy\t0.9472618699073792\n",
      "iter 8199\ttrain disc cost\t-2.8777048587799072\ttime\t1.3260599088668823\twgan train disc cost\t-3.558577299118042\ttrain class cost\t0.14202025532722473\tgenerated class cost\t0.04670463129878044\tgen cost cost\t23.361177444458008\tgen accuracy\t0.9907143115997314\treal accuracy\t0.9451190233230591\n",
      "iter 8299\ttrain disc cost\t-2.729677677154541\ttime\t1.3260414838790893\twgan train disc cost\t-3.364830732345581\ttrain class cost\t0.13310199975967407\tgenerated class cost\t0.04353496432304382\tgen cost cost\t16.90839195251465\tgen accuracy\t0.9921428561210632\treal accuracy\t0.943928599357605\n",
      "iter 8399\ttrain disc cost\t-2.7038211822509766\ttime\t1.3160832405090332\twgan train disc cost\t-3.335517644882202\ttrain class cost\t0.14402879774570465\tgenerated class cost\t0.04853963851928711\tgen cost cost\t19.120168685913086\tgen accuracy\t0.9890477061271667\treal accuracy\t0.9436904788017273\n",
      "iter 8499\ttrain disc cost\t-2.683093786239624\ttime\t1.3203256607055665\twgan train disc cost\t-3.3179688453674316\ttrain class cost\t0.12911909818649292\tgenerated class cost\t0.039461635053157806\tgen cost cost\t15.619051933288574\tgen accuracy\t0.9942857623100281\treal accuracy\t0.9490476846694946\n",
      "iter 8599\ttrain disc cost\t-2.685276985168457\ttime\t1.3270160889625549\twgan train disc cost\t-3.3087668418884277\ttrain class cost\t0.14011813700199127\tgenerated class cost\t0.04670620337128639\tgen cost cost\t16.194799423217773\tgen accuracy\t0.9898810386657715\treal accuracy\t0.9466667771339417\n",
      "iter 8699\ttrain disc cost\t-2.7758495807647705\ttime\t1.319193205833435\twgan train disc cost\t-3.373910903930664\ttrain class cost\t0.12936753034591675\tgenerated class cost\t0.04316096752882004\tgen cost cost\t14.881608009338379\tgen accuracy\t0.9908334612846375\treal accuracy\t0.9504762291908264\n",
      "iter 8799\ttrain disc cost\t-2.627017021179199\ttime\t1.3305711650848389\twgan train disc cost\t-3.2784926891326904\ttrain class cost\t0.1330401748418808\tgenerated class cost\t0.042350415140390396\tgen cost cost\t14.814332008361816\tgen accuracy\t0.9908334612846375\treal accuracy\t0.9496428966522217\n",
      "iter 8899\ttrain disc cost\t-2.7276687622070312\ttime\t1.324238464832306\twgan train disc cost\t-3.3749420642852783\ttrain class cost\t0.13737785816192627\tgenerated class cost\t0.04284144937992096\tgen cost cost\t15.807727813720703\tgen accuracy\t0.9917858242988586\treal accuracy\t0.9464285969734192\n"
     ]
    },
    {
     "name": "stderr",
     "output_type": "stream",
     "text": [
      "Lossy conversion from float64 to uint8. Range [0.0, 255.0]. Convert image to uint8 prior to saving to suppress this warning.\n",
      "Lossy conversion from float64 to uint8. Range [0.0, 255.0]. Convert image to uint8 prior to saving to suppress this warning.\n"
     ]
    },
    {
     "name": "stdout",
     "output_type": "stream",
     "text": [
      "1\n",
      "1\n",
      "1\n",
      "1\n",
      "iter 8999\ttrain disc cost\t-2.6336700916290283\ttime\t1.3222217392921447\twgan train disc cost\t-3.2496609687805176\ttrain class cost\t0.13708378374576569\tgenerated class cost\t0.044967059046030045\tgen cost cost\t19.250164031982422\tgen accuracy\t0.9908334612846375\treal accuracy\t0.9507143497467041\tdev disc cost\t-3.273610830307007\twgan dev disc cost\t-3.7212915420532227\tdev class cost\t0.1921812891960144\tdev generated class cost\t0.029864629730582237\tdev gen  cost\t12.548104286193848\tdev gen accuracy\t1.0\tdev real accuracy\t0.9047619104385376\n",
      "iter 9099\ttrain disc cost\t-2.629232883453369\ttime\t1.322902841567993\twgan train disc cost\t-3.292492389678955\ttrain class cost\t0.13744811713695526\tgenerated class cost\t0.04296951740980148\tgen cost cost\t19.734317779541016\tgen accuracy\t0.9908334612846375\treal accuracy\t0.946071445941925\n",
      "iter 9199\ttrain disc cost\t-2.5274295806884766\ttime\t1.3211309576034547\twgan train disc cost\t-3.190997838973999\ttrain class cost\t0.1369226574897766\tgenerated class cost\t0.042410958558321\tgen cost cost\t13.523510932922363\tgen accuracy\t0.9913095831871033\treal accuracy\t0.9477381110191345\n",
      "iter 9299\ttrain disc cost\t-2.5444610118865967\ttime\t1.3251063704490662\twgan train disc cost\t-3.156146287918091\ttrain class cost\t0.13854534924030304\tgenerated class cost\t0.04181870073080063\tgen cost cost\t16.021568298339844\tgen accuracy\t0.990714430809021\treal accuracy\t0.9454762935638428\n",
      "iter 9399\ttrain disc cost\t-2.680091619491577\ttime\t1.3217131471633912\twgan train disc cost\t-3.2631616592407227\ttrain class cost\t0.13006967306137085\tgenerated class cost\t0.04156025871634483\tgen cost cost\t16.719066619873047\tgen accuracy\t0.9919048547744751\treal accuracy\t0.9511904120445251\n",
      "iter 9499\ttrain disc cost\t-2.5341086387634277\ttime\t1.3211444449424743\twgan train disc cost\t-3.1653008460998535\ttrain class cost\t0.13572834432125092\tgenerated class cost\t0.04212802276015282\tgen cost cost\t15.184353828430176\tgen accuracy\t0.9919047355651855\treal accuracy\t0.946309506893158\n",
      "iter 9599\ttrain disc cost\t-2.649869918823242\ttime\t1.3204660391807557\twgan train disc cost\t-3.2171242237091064\ttrain class cost\t0.12872742116451263\tgenerated class cost\t0.03918444737792015\tgen cost cost\t15.510476112365723\tgen accuracy\t0.9925000667572021\treal accuracy\t0.9490476846694946\n",
      "iter 9699\ttrain disc cost\t-2.499685287475586\ttime\t1.3191042613983155\twgan train disc cost\t-3.109109878540039\ttrain class cost\t0.13896650075912476\tgenerated class cost\t0.04096607863903046\tgen cost cost\t13.294602394104004\tgen accuracy\t0.9928571581840515\treal accuracy\t0.9466666579246521\n",
      "iter 9799\ttrain disc cost\t-2.6458959579467773\ttime\t1.3212827086448669\twgan train disc cost\t-3.2282726764678955\ttrain class cost\t0.130950927734375\tgenerated class cost\t0.04483955726027489\tgen cost cost\t13.194472312927246\tgen accuracy\t0.9904762506484985\treal accuracy\t0.947976291179657\n",
      "iter 9899\ttrain disc cost\t-2.6241061687469482\ttime\t1.3270977544784546\twgan train disc cost\t-3.2438793182373047\ttrain class cost\t0.13351692259311676\tgenerated class cost\t0.040152937173843384\tgen cost cost\t16.985515594482422\tgen accuracy\t0.9913095235824585\treal accuracy\t0.9492858052253723\n"
     ]
    },
    {
     "name": "stderr",
     "output_type": "stream",
     "text": [
      "Lossy conversion from float64 to uint8. Range [0.0, 255.0]. Convert image to uint8 prior to saving to suppress this warning.\n",
      "Lossy conversion from float64 to uint8. Range [0.0, 255.0]. Convert image to uint8 prior to saving to suppress this warning.\n"
     ]
    },
    {
     "name": "stdout",
     "output_type": "stream",
     "text": [
      "1\n",
      "1\n",
      "1\n",
      "1\n",
      "iter 9999\ttrain disc cost\t-2.678032875061035\ttime\t1.3223193073272705\twgan train disc cost\t-3.2686257362365723\ttrain class cost\t0.13024309277534485\tgenerated class cost\t0.041843101382255554\tgen cost cost\t14.740859031677246\tgen accuracy\t0.989642858505249\treal accuracy\t0.9479762315750122\tdev disc cost\t-1.4627015590667725\twgan dev disc cost\t-3.3830196857452393\tdev class cost\t0.10505037009716034\tdev generated class cost\t0.029235515743494034\tdev gen  cost\t7.305719375610352\tdev gen accuracy\t1.0\tdev real accuracy\t0.976190447807312\n",
      "iter 10099\ttrain disc cost\t-2.5664734840393066\ttime\t1.3218081760406495\twgan train disc cost\t-3.1461920738220215\ttrain class cost\t0.12150362879037857\tgenerated class cost\t0.039619043469429016\tgen cost cost\t13.94520378112793\tgen accuracy\t0.9916667342185974\treal accuracy\t0.9513095617294312\n",
      "iter 10199\ttrain disc cost\t-2.573348045349121\ttime\t1.3237913036346436\twgan train disc cost\t-3.142483711242676\ttrain class cost\t0.12721063196659088\tgenerated class cost\t0.04190240055322647\tgen cost cost\t13.6111421585083\tgen accuracy\t0.9916667938232422\treal accuracy\t0.9509523510932922\n",
      "iter 10299\ttrain disc cost\t-2.6301429271698\ttime\t1.320967936515808\twgan train disc cost\t-3.1851589679718018\ttrain class cost\t0.12565641105175018\tgenerated class cost\t0.04448253661394119\tgen cost cost\t7.528661727905273\tgen accuracy\t0.9894048571586609\treal accuracy\t0.9509524703025818\n",
      "iter 10399\ttrain disc cost\t-2.4047975540161133\ttime\t1.3256115555763244\twgan train disc cost\t-3.0178112983703613\ttrain class cost\t0.12682503461837769\tgenerated class cost\t0.041511211544275284\tgen cost cost\t6.0304388999938965\tgen accuracy\t0.9922618865966797\treal accuracy\t0.9511904716491699\n",
      "iter 10499\ttrain disc cost\t-2.492048740386963\ttime\t1.3224375200271608\twgan train disc cost\t-3.0751757621765137\ttrain class cost\t0.12179470807313919\tgenerated class cost\t0.03948918730020523\tgen cost cost\t6.010191440582275\tgen accuracy\t0.9932142496109009\treal accuracy\t0.9526190757751465\n",
      "iter 10599\ttrain disc cost\t-2.569469928741455\ttime\t1.323633725643158\twgan train disc cost\t-3.1504247188568115\ttrain class cost\t0.13150210678577423\tgenerated class cost\t0.04411874711513519\tgen cost cost\t9.541862487792969\tgen accuracy\t0.9899999499320984\treal accuracy\t0.9504762291908264\n",
      "iter 10699\ttrain disc cost\t-2.454418420791626\ttime\t1.3318476915359496\twgan train disc cost\t-3.0791351795196533\ttrain class cost\t0.12098046392202377\tgenerated class cost\t0.04410437121987343\tgen cost cost\t13.401986122131348\tgen accuracy\t0.9895238280296326\treal accuracy\t0.9517857432365417\n",
      "iter 10799\ttrain disc cost\t-2.4433531761169434\ttime\t1.3294671607017516\twgan train disc cost\t-3.019946575164795\ttrain class cost\t0.12169041484594345\tgenerated class cost\t0.04039383307099342\tgen cost cost\t12.396800994873047\tgen accuracy\t0.9919048547744751\treal accuracy\t0.955000102519989\n",
      "iter 10899\ttrain disc cost\t-2.458707809448242\ttime\t1.3283463764190673\twgan train disc cost\t-2.9915459156036377\ttrain class cost\t0.1242264062166214\tgenerated class cost\t0.04136413708329201\tgen cost cost\t12.885397911071777\tgen accuracy\t0.9921428561210632\treal accuracy\t0.9507142901420593\n"
     ]
    },
    {
     "name": "stderr",
     "output_type": "stream",
     "text": [
      "Lossy conversion from float64 to uint8. Range [0.0, 255.0]. Convert image to uint8 prior to saving to suppress this warning.\n",
      "Lossy conversion from float64 to uint8. Range [0.0, 255.0]. Convert image to uint8 prior to saving to suppress this warning.\n"
     ]
    },
    {
     "name": "stdout",
     "output_type": "stream",
     "text": [
      "1\n",
      "1\n",
      "1\n",
      "1\n",
      "iter 10999\ttrain disc cost\t-2.4302101135253906\ttime\t1.3328955602645873\twgan train disc cost\t-2.9635937213897705\ttrain class cost\t0.12596771121025085\tgenerated class cost\t0.03673673793673515\tgen cost cost\t14.542187690734863\tgen accuracy\t0.9935714602470398\treal accuracy\t0.9505952596664429\tdev disc cost\t-4.475668430328369\twgan dev disc cost\t-4.839609146118164\tdev class cost\t0.09956903755664825\tdev generated class cost\t0.03699428588151932\tdev gen  cost\t18.828866958618164\tdev gen accuracy\t0.988095223903656\tdev real accuracy\t0.9642857313156128\n",
      "iter 11099\ttrain disc cost\t-2.4598641395568848\ttime\t1.3278587889671325\twgan train disc cost\t-2.9953558444976807\ttrain class cost\t0.1364063024520874\tgenerated class cost\t0.04539725184440613\tgen cost cost\t17.155488967895508\tgen accuracy\t0.9897619485855103\treal accuracy\t0.9496427774429321\n",
      "iter 11199\ttrain disc cost\t-2.3925561904907227\ttime\t1.3236550974845886\twgan train disc cost\t-2.945200204849243\ttrain class cost\t0.12435568869113922\tgenerated class cost\t0.03853273391723633\tgen cost cost\t16.346860885620117\tgen accuracy\t0.9921428561210632\treal accuracy\t0.9509524703025818\n",
      "iter 11299\ttrain disc cost\t-2.271836280822754\ttime\t1.3216699624061585\twgan train disc cost\t-2.924060344696045\ttrain class cost\t0.13787002861499786\tgenerated class cost\t0.04155736044049263\tgen cost cost\t14.937801361083984\tgen accuracy\t0.9917857646942139\treal accuracy\t0.9466666579246521\n",
      "iter 11399\ttrain disc cost\t-2.506709098815918\ttime\t1.3223548102378846\twgan train disc cost\t-3.0596044063568115\ttrain class cost\t0.12349316477775574\tgenerated class cost\t0.042433060705661774\tgen cost cost\t14.81540298461914\tgen accuracy\t0.9905953407287598\treal accuracy\t0.9526190757751465\n",
      "iter 11499\ttrain disc cost\t-2.308945655822754\ttime\t1.320353946685791\twgan train disc cost\t-2.8522284030914307\ttrain class cost\t0.1317978799343109\tgenerated class cost\t0.039988577365875244\tgen cost cost\t14.073054313659668\tgen accuracy\t0.9913095831871033\treal accuracy\t0.951904833316803\n",
      "iter 11599\ttrain disc cost\t-2.4934322834014893\ttime\t1.3197288084030152\twgan train disc cost\t-3.0518462657928467\ttrain class cost\t0.1211637482047081\tgenerated class cost\t0.03906809538602829\tgen cost cost\t12.953383445739746\tgen accuracy\t0.9926190972328186\treal accuracy\t0.9525001049041748\n",
      "iter 11699\ttrain disc cost\t-2.240074872970581\ttime\t1.3200797200202943\twgan train disc cost\t-2.883185625076294\ttrain class cost\t0.12823611497879028\tgenerated class cost\t0.038322389125823975\tgen cost cost\t12.065792083740234\tgen accuracy\t0.9932143688201904\treal accuracy\t0.9517857432365417\n",
      "iter 11799\ttrain disc cost\t-2.416543960571289\ttime\t1.3217136859893799\twgan train disc cost\t-2.995793104171753\ttrain class cost\t0.12471532076597214\tgenerated class cost\t0.044717442244291306\tgen cost cost\t5.959758758544922\tgen accuracy\t0.9902381896972656\treal accuracy\t0.9496428966522217\n",
      "iter 11899\ttrain disc cost\t-2.378418445587158\ttime\t1.309702742099762\twgan train disc cost\t-2.9252817630767822\ttrain class cost\t0.1232270821928978\tgenerated class cost\t0.036748550832271576\tgen cost cost\t4.082968711853027\tgen accuracy\t0.9932143688201904\treal accuracy\t0.9528571963310242\n"
     ]
    },
    {
     "name": "stderr",
     "output_type": "stream",
     "text": [
      "Lossy conversion from float64 to uint8. Range [0.0, 255.0]. Convert image to uint8 prior to saving to suppress this warning.\n"
     ]
    },
    {
     "name": "stdout",
     "output_type": "stream",
     "text": [
      "1\n",
      "1\n",
      "1\n",
      "1\n"
     ]
    },
    {
     "name": "stderr",
     "output_type": "stream",
     "text": [
      "Lossy conversion from float64 to uint8. Range [0.0, 255.0]. Convert image to uint8 prior to saving to suppress this warning.\n"
     ]
    },
    {
     "name": "stdout",
     "output_type": "stream",
     "text": [
      "iter 11999\ttrain disc cost\t-2.4292001724243164\ttime\t1.3036634039878845\twgan train disc cost\t-3.0084290504455566\ttrain class cost\t0.11630510538816452\tgenerated class cost\t0.04012567549943924\tgen cost cost\t3.613211154937744\tgen accuracy\t0.9911905527114868\treal accuracy\t0.9549999833106995\tdev disc cost\t-3.2559053897857666\twgan dev disc cost\t-3.7551355361938477\tdev class cost\t0.10165484994649887\tdev generated class cost\t0.07703807204961777\tdev gen  cost\t10.974382400512695\tdev gen accuracy\t0.9642857313156128\tdev real accuracy\t0.9642857313156128\n",
      "iter 12099\ttrain disc cost\t-2.3858699798583984\ttime\t1.310134105682373\twgan train disc cost\t-2.935112237930298\ttrain class cost\t0.11982869356870651\tgenerated class cost\t0.04230021312832832\tgen cost cost\t5.6369428634643555\tgen accuracy\t0.9909523725509644\treal accuracy\t0.9527381658554077\n",
      "iter 12199\ttrain disc cost\t-2.2832562923431396\ttime\t1.3034178018569946\twgan train disc cost\t-2.877534866333008\ttrain class cost\t0.11576531082391739\tgenerated class cost\t0.03800828754901886\tgen cost cost\t6.528906345367432\tgen accuracy\t0.9935714602470398\treal accuracy\t0.9575001001358032\n",
      "iter 12299\ttrain disc cost\t-2.2742137908935547\ttime\t1.3186601877212525\twgan train disc cost\t-2.806757926940918\ttrain class cost\t0.11315430700778961\tgenerated class cost\t0.03831623122096062\tgen cost cost\t5.972309112548828\tgen accuracy\t0.9936904907226562\treal accuracy\t0.9571429491043091\n",
      "iter 12399\ttrain disc cost\t-2.2390878200531006\ttime\t1.3149988770484924\twgan train disc cost\t-2.782041549682617\ttrain class cost\t0.12168706208467484\tgenerated class cost\t0.03922875225543976\tgen cost cost\t4.8036208152771\tgen accuracy\t0.9920239448547363\treal accuracy\t0.9525001049041748\n",
      "iter 12499\ttrain disc cost\t-2.2191905975341797\ttime\t1.3092946076393128\twgan train disc cost\t-2.7717807292938232\ttrain class cost\t0.11486493796110153\tgenerated class cost\t0.037912994623184204\tgen cost cost\t1.10519278049469\tgen accuracy\t0.9932142496109009\treal accuracy\t0.9563095569610596\n",
      "iter 12599\ttrain disc cost\t-2.238431930541992\ttime\t1.3143026661872863\twgan train disc cost\t-2.7818188667297363\ttrain class cost\t0.1276308000087738\tgenerated class cost\t0.04228440299630165\tgen cost cost\t-4.821675777435303\tgen accuracy\t0.9908334612846375\treal accuracy\t0.9510715007781982\n",
      "iter 12699\ttrain disc cost\t-2.3351552486419678\ttime\t1.323296525478363\twgan train disc cost\t-2.8488519191741943\ttrain class cost\t0.1117914468050003\tgenerated class cost\t0.03784209117293358\tgen cost cost\t0.4063950777053833\tgen accuracy\t0.9922618865966797\treal accuracy\t0.9577381610870361\n",
      "iter 12799\ttrain disc cost\t-2.2038347721099854\ttime\t1.3193940377235414\twgan train disc cost\t-2.778830051422119\ttrain class cost\t0.11427590996026993\tgenerated class cost\t0.04039682447910309\tgen cost cost\t2.91524076461792\tgen accuracy\t0.9907143115997314\treal accuracy\t0.9565477967262268\n",
      "iter 12899\ttrain disc cost\t-2.4055542945861816\ttime\t1.325512957572937\twgan train disc cost\t-2.8429129123687744\ttrain class cost\t0.1139688789844513\tgenerated class cost\t0.040442466735839844\tgen cost cost\t5.838662624359131\tgen accuracy\t0.9917857646942139\treal accuracy\t0.957976222038269\n"
     ]
    },
    {
     "name": "stderr",
     "output_type": "stream",
     "text": [
      "Lossy conversion from float64 to uint8. Range [0.0, 255.0]. Convert image to uint8 prior to saving to suppress this warning.\n",
      "Lossy conversion from float64 to uint8. Range [0.0, 255.0]. Convert image to uint8 prior to saving to suppress this warning.\n"
     ]
    },
    {
     "name": "stdout",
     "output_type": "stream",
     "text": [
      "1\n",
      "1\n",
      "1\n",
      "1\n",
      "iter 12999\ttrain disc cost\t-2.1504971981048584\ttime\t1.3204003429412843\twgan train disc cost\t-2.704390287399292\ttrain class cost\t0.12041027098894119\tgenerated class cost\t0.040444266051054\tgen cost cost\t7.152456283569336\tgen accuracy\t0.9919048547744751\treal accuracy\t0.9570237994194031\tdev disc cost\t-3.189277172088623\twgan dev disc cost\t-3.397833824157715\tdev class cost\t0.11653946340084076\tdev generated class cost\t0.03697656840085983\tdev gen  cost\t11.644516944885254\tdev gen accuracy\t0.988095223903656\tdev real accuracy\t0.9642857313156128\n",
      "iter 13099\ttrain disc cost\t-2.206529140472412\ttime\t1.3197523307800294\twgan train disc cost\t-2.70247220993042\ttrain class cost\t0.12349076569080353\tgenerated class cost\t0.041486192494630814\tgen cost cost\t7.6777729988098145\tgen accuracy\t0.9928571581840515\treal accuracy\t0.9528571367263794\n",
      "iter 13199\ttrain disc cost\t-2.2578213214874268\ttime\t1.319303777217865\twgan train disc cost\t-2.7668344974517822\ttrain class cost\t0.10978957265615463\tgenerated class cost\t0.037105947732925415\tgen cost cost\t6.1839399337768555\tgen accuracy\t0.9933333396911621\treal accuracy\t0.9583333730697632\n",
      "iter 13299\ttrain disc cost\t-2.1548027992248535\ttime\t1.3252095437049867\twgan train disc cost\t-2.6430749893188477\ttrain class cost\t0.11705604195594788\tgenerated class cost\t0.0299847349524498\tgen cost cost\t6.1423749923706055\tgen accuracy\t0.9951191544532776\treal accuracy\t0.9571429491043091\n",
      "iter 13399\ttrain disc cost\t-2.335005044937134\ttime\t1.339327347278595\twgan train disc cost\t-2.8506226539611816\ttrain class cost\t0.1139240711927414\tgenerated class cost\t0.03629264235496521\tgen cost cost\t5.671682357788086\tgen accuracy\t0.9935715198516846\treal accuracy\t0.9553573131561279\n",
      "iter 13499\ttrain disc cost\t-2.09489369392395\ttime\t1.3381478261947632\twgan train disc cost\t-2.584923505783081\ttrain class cost\t0.1171392947435379\tgenerated class cost\t0.04130197688937187\tgen cost cost\t5.863534927368164\tgen accuracy\t0.9913095831871033\treal accuracy\t0.957500159740448\n",
      "iter 13599\ttrain disc cost\t-2.240194320678711\ttime\t1.3374300003051758\twgan train disc cost\t-2.781850814819336\ttrain class cost\t0.11456979066133499\tgenerated class cost\t0.042359575629234314\tgen cost cost\t4.302210807800293\tgen accuracy\t0.9910714626312256\treal accuracy\t0.9559524059295654\n",
      "iter 13699\ttrain disc cost\t-2.0604989528656006\ttime\t1.338347420692444\twgan train disc cost\t-2.61263370513916\ttrain class cost\t0.11824235320091248\tgenerated class cost\t0.0417792983353138\tgen cost cost\t3.0855329036712646\tgen accuracy\t0.9892858266830444\treal accuracy\t0.957381010055542\n",
      "iter 13799\ttrain disc cost\t-2.2200558185577393\ttime\t1.3196628427505492\twgan train disc cost\t-2.7045717239379883\ttrain class cost\t0.11657534539699554\tgenerated class cost\t0.040369663387537\tgen cost cost\t3.7340710163116455\tgen accuracy\t0.9910714626312256\treal accuracy\t0.9554762840270996\n",
      "iter 13899\ttrain disc cost\t-2.1374101638793945\ttime\t1.3174597930908203\twgan train disc cost\t-2.630892753601074\ttrain class cost\t0.11543752998113632\tgenerated class cost\t0.0338725782930851\tgen cost cost\t6.904607772827148\tgen accuracy\t0.9936904907226562\treal accuracy\t0.9560713171958923\n"
     ]
    },
    {
     "name": "stderr",
     "output_type": "stream",
     "text": [
      "Lossy conversion from float64 to uint8. Range [0.0, 255.0]. Convert image to uint8 prior to saving to suppress this warning.\n",
      "Lossy conversion from float64 to uint8. Range [0.0, 255.0]. Convert image to uint8 prior to saving to suppress this warning.\n"
     ]
    },
    {
     "name": "stdout",
     "output_type": "stream",
     "text": [
      "1\n",
      "1\n",
      "1\n",
      "1\n",
      "iter 13999\ttrain disc cost\t-2.0666301250457764\ttime\t1.319274890422821\twgan train disc cost\t-2.700110673904419\ttrain class cost\t0.11074502766132355\tgenerated class cost\t0.0349399633705616\tgen cost cost\t6.7006659507751465\tgen accuracy\t0.993095338344574\treal accuracy\t0.9578571319580078\tdev disc cost\t-1.9283087253570557\twgan dev disc cost\t-2.482783794403076\tdev class cost\t0.14471419155597687\tdev generated class cost\t0.012330100871622562\tdev gen  cost\t7.656484127044678\tdev gen accuracy\t1.0\tdev real accuracy\t0.9404761791229248\n",
      "iter 14099\ttrain disc cost\t-2.3054418563842773\ttime\t1.3263843154907227\twgan train disc cost\t-2.7926230430603027\ttrain class cost\t0.11812510341405869\tgenerated class cost\t0.03329546004533768\tgen cost cost\t9.934072494506836\tgen accuracy\t0.9948809742927551\treal accuracy\t0.9557142853736877\n",
      "iter 14199\ttrain disc cost\t-2.185214042663574\ttime\t1.3223052310943604\twgan train disc cost\t-2.775498151779175\ttrain class cost\t0.1193925216794014\tgenerated class cost\t0.03641160577535629\tgen cost cost\t8.174440383911133\tgen accuracy\t0.9936906695365906\treal accuracy\t0.9541666507720947\n",
      "iter 14299\ttrain disc cost\t-2.1477460861206055\ttime\t1.321902995109558\twgan train disc cost\t-2.618825912475586\ttrain class cost\t0.11091767996549606\tgenerated class cost\t0.03816698119044304\tgen cost cost\t10.227165222167969\tgen accuracy\t0.991547703742981\treal accuracy\t0.9583333730697632\n",
      "iter 14399\ttrain disc cost\t-2.0359630584716797\ttime\t1.3238030219078063\twgan train disc cost\t-2.6272058486938477\ttrain class cost\t0.11626928299665451\tgenerated class cost\t0.03275741636753082\tgen cost cost\t8.794897079467773\tgen accuracy\t0.995238184928894\treal accuracy\t0.9572620391845703\n",
      "iter 14499\ttrain disc cost\t-2.0885164737701416\ttime\t1.3271865892410277\twgan train disc cost\t-2.5998756885528564\ttrain class cost\t0.11047758907079697\tgenerated class cost\t0.03588971495628357\tgen cost cost\t8.263415336608887\tgen accuracy\t0.9926190376281738\treal accuracy\t0.9591666460037231\n",
      "iter 14599\ttrain disc cost\t-2.2303781509399414\ttime\t1.3235997796058654\twgan train disc cost\t-2.6923704147338867\ttrain class cost\t0.12314846366643906\tgenerated class cost\t0.033458784222602844\tgen cost cost\t7.8350138664245605\tgen accuracy\t0.993571400642395\treal accuracy\t0.9544048309326172\n",
      "iter 14699\ttrain disc cost\t-2.1169424057006836\ttime\t1.327717788219452\twgan train disc cost\t-2.657963514328003\ttrain class cost\t0.10640274733304977\tgenerated class cost\t0.039060547947883606\tgen cost cost\t7.349459648132324\tgen accuracy\t0.9916666150093079\treal accuracy\t0.9572618007659912\n",
      "iter 14799\ttrain disc cost\t-2.003443717956543\ttime\t1.3244347429275514\twgan train disc cost\t-2.4437029361724854\ttrain class cost\t0.11492343246936798\tgenerated class cost\t0.03642648458480835\tgen cost cost\t4.767677307128906\tgen accuracy\t0.992142915725708\treal accuracy\t0.9577381014823914\n",
      "iter 14899\ttrain disc cost\t-2.1875624656677246\ttime\t1.327491979598999\twgan train disc cost\t-2.6312525272369385\ttrain class cost\t0.10683920979499817\tgenerated class cost\t0.0334290973842144\tgen cost cost\t4.927303314208984\tgen accuracy\t0.9933334589004517\treal accuracy\t0.9589285850524902\n"
     ]
    },
    {
     "name": "stderr",
     "output_type": "stream",
     "text": [
      "Lossy conversion from float64 to uint8. Range [0.0, 255.0]. Convert image to uint8 prior to saving to suppress this warning.\n",
      "Lossy conversion from float64 to uint8. Range [0.0, 255.0]. Convert image to uint8 prior to saving to suppress this warning.\n"
     ]
    },
    {
     "name": "stdout",
     "output_type": "stream",
     "text": [
      "1\n",
      "1\n",
      "1\n",
      "1\n",
      "iter 14999\ttrain disc cost\t-2.0031158924102783\ttime\t1.3270011830329895\twgan train disc cost\t-2.4631218910217285\ttrain class cost\t0.1125132367014885\tgenerated class cost\t0.03230639174580574\tgen cost cost\t4.589583396911621\tgen accuracy\t0.9945239424705505\treal accuracy\t0.957976222038269\tdev disc cost\t-2.417696237564087\twgan dev disc cost\t-2.724130630493164\tdev class cost\t0.1372617483139038\tdev generated class cost\t0.03458377718925476\tdev gen  cost\t7.971249580383301\tdev gen accuracy\t0.988095223903656\tdev real accuracy\t0.976190447807312\n",
      "iter 15099\ttrain disc cost\t-1.9565118551254272\ttime\t1.3278361129760743\twgan train disc cost\t-2.488604784011841\ttrain class cost\t0.11333152651786804\tgenerated class cost\t0.03576298803091049\tgen cost cost\t3.537616014480591\tgen accuracy\t0.9916666150093079\treal accuracy\t0.9567857384681702\n",
      "iter 15199\ttrain disc cost\t-2.0944418907165527\ttime\t1.321311285495758\twgan train disc cost\t-2.5448784828186035\ttrain class cost\t0.10180395841598511\tgenerated class cost\t0.03408075124025345\tgen cost cost\t0.6406325697898865\tgen accuracy\t0.9939286708831787\treal accuracy\t0.9594047665596008\n",
      "iter 15299\ttrain disc cost\t-2.0772109031677246\ttime\t1.3271459078788757\twgan train disc cost\t-2.561411142349243\ttrain class cost\t0.11248192936182022\tgenerated class cost\t0.03127555921673775\tgen cost cost\t2.5674750804901123\tgen accuracy\t0.9945237636566162\treal accuracy\t0.9601190686225891\n",
      "iter 15399\ttrain disc cost\t-1.9893776178359985\ttime\t1.3263832592964173\twgan train disc cost\t-2.52191162109375\ttrain class cost\t0.1101662740111351\tgenerated class cost\t0.035144902765750885\tgen cost cost\t-1.8250120878219604\tgen accuracy\t0.9935715198516846\treal accuracy\t0.9597620368003845\n",
      "iter 15499\ttrain disc cost\t-2.089219093322754\ttime\t1.3263201427459717\twgan train disc cost\t-2.5452890396118164\ttrain class cost\t0.10549232363700867\tgenerated class cost\t0.0330868661403656\tgen cost cost\t-2.060225248336792\tgen accuracy\t0.9934524297714233\treal accuracy\t0.9616666436195374\n",
      "iter 15599\ttrain disc cost\t-1.9640682935714722\ttime\t1.3265700268745422\twgan train disc cost\t-2.54516339302063\ttrain class cost\t0.1059594452381134\tgenerated class cost\t0.035866934806108475\tgen cost cost\t-3.7952544689178467\tgen accuracy\t0.9922619462013245\treal accuracy\t0.9595238566398621\n",
      "iter 15699\ttrain disc cost\t-2.0480313301086426\ttime\t1.3190642762184144\twgan train disc cost\t-2.5459847450256348\ttrain class cost\t0.1058344841003418\tgenerated class cost\t0.03457437455654144\tgen cost cost\t-6.464978218078613\tgen accuracy\t0.991190493106842\treal accuracy\t0.9584524631500244\n",
      "iter 15799\ttrain disc cost\t-1.9505583047866821\ttime\t1.3253175663948058\twgan train disc cost\t-2.4605417251586914\ttrain class cost\t0.11061515659093857\tgenerated class cost\t0.03871984779834747\tgen cost cost\t-15.412086486816406\tgen accuracy\t0.9914286136627197\treal accuracy\t0.9573810696601868\n",
      "iter 15899\ttrain disc cost\t-1.9464017152786255\ttime\t1.3206050491333008\twgan train disc cost\t-2.406083106994629\ttrain class cost\t0.1108468547463417\tgenerated class cost\t0.036753829568624496\tgen cost cost\t-15.153294563293457\tgen accuracy\t0.992142915725708\treal accuracy\t0.9573810696601868\n"
     ]
    },
    {
     "name": "stderr",
     "output_type": "stream",
     "text": [
      "Lossy conversion from float64 to uint8. Range [0.0, 255.0]. Convert image to uint8 prior to saving to suppress this warning.\n",
      "Lossy conversion from float64 to uint8. Range [0.0, 255.0]. Convert image to uint8 prior to saving to suppress this warning.\n"
     ]
    },
    {
     "name": "stdout",
     "output_type": "stream",
     "text": [
      "1\n",
      "1\n",
      "1\n",
      "1\n",
      "iter 15999\ttrain disc cost\t-2.1329143047332764\ttime\t1.3211501598358155\twgan train disc cost\t-2.541625499725342\ttrain class cost\t0.09938770532608032\tgenerated class cost\t0.029837029054760933\tgen cost cost\t-13.169805526733398\tgen accuracy\t0.9942857623100281\treal accuracy\t0.9617857336997986\tdev disc cost\t-2.03584361076355\twgan dev disc cost\t-2.2099838256835938\tdev class cost\t0.10792103409767151\tdev generated class cost\t0.03405624255537987\tdev gen  cost\t-8.212389945983887\tdev gen accuracy\t1.0\tdev real accuracy\t0.9642857313156128\n",
      "iter 16099\ttrain disc cost\t-2.064185857772827\ttime\t1.3316791653633118\twgan train disc cost\t-2.588381052017212\ttrain class cost\t0.1028425395488739\tgenerated class cost\t0.033730119466781616\tgen cost cost\t-9.153973579406738\tgen accuracy\t0.9932142496109009\treal accuracy\t0.9598808884620667\n",
      "iter 16199\ttrain disc cost\t-2.070690631866455\ttime\t1.3263596630096435\twgan train disc cost\t-2.580580234527588\ttrain class cost\t0.11370618641376495\tgenerated class cost\t0.03226987272500992\tgen cost cost\t-12.711875915527344\tgen accuracy\t0.9940477013587952\treal accuracy\t0.9569048285484314\n",
      "iter 16299\ttrain disc cost\t-2.080998420715332\ttime\t1.3238893032073975\twgan train disc cost\t-2.599017381668091\ttrain class cost\t0.10006621479988098\tgenerated class cost\t0.03150321543216705\tgen cost cost\t-9.808904647827148\tgen accuracy\t0.9934523701667786\treal accuracy\t0.9619048237800598\n",
      "iter 16399\ttrain disc cost\t-1.812637448310852\ttime\t1.3287255620956422\twgan train disc cost\t-2.3353512287139893\ttrain class cost\t0.10814894735813141\tgenerated class cost\t0.03409469500184059\tgen cost cost\t-13.65841293334961\tgen accuracy\t0.9917857646942139\treal accuracy\t0.9598808884620667\n",
      "iter 16499\ttrain disc cost\t-1.9975416660308838\ttime\t1.3274992442131042\twgan train disc cost\t-2.481910467147827\ttrain class cost\t0.09688034653663635\tgenerated class cost\t0.03089788369834423\tgen cost cost\t-12.032146453857422\tgen accuracy\t0.9936904907226562\treal accuracy\t0.9639286994934082\n",
      "iter 16599\ttrain disc cost\t-2.033937454223633\ttime\t1.3248169016838074\twgan train disc cost\t-2.518420934677124\ttrain class cost\t0.10920459777116776\tgenerated class cost\t0.03339003026485443\tgen cost cost\t-13.005267143249512\tgen accuracy\t0.9923810362815857\treal accuracy\t0.9605952501296997\n",
      "iter 16699\ttrain disc cost\t-2.0691237449645996\ttime\t1.3232033824920655\twgan train disc cost\t-2.514620304107666\ttrain class cost\t0.09861733764410019\tgenerated class cost\t0.032452646642923355\tgen cost cost\t-12.18168830871582\tgen accuracy\t0.9929762482643127\treal accuracy\t0.9622619152069092\n",
      "iter 16799\ttrain disc cost\t-1.976226806640625\ttime\t1.3236148285865783\twgan train disc cost\t-2.455899715423584\ttrain class cost\t0.10107363760471344\tgenerated class cost\t0.029110990464687347\tgen cost cost\t-13.478659629821777\tgen accuracy\t0.9940476417541504\treal accuracy\t0.9592856764793396\n",
      "iter 16899\ttrain disc cost\t-1.986544132232666\ttime\t1.3200928092002868\twgan train disc cost\t-2.4859302043914795\ttrain class cost\t0.09800001978874207\tgenerated class cost\t0.033104825764894485\tgen cost cost\t-13.462729454040527\tgen accuracy\t0.9923809766769409\treal accuracy\t0.9636905193328857\n"
     ]
    },
    {
     "name": "stderr",
     "output_type": "stream",
     "text": [
      "Lossy conversion from float64 to uint8. Range [0.0, 255.0]. Convert image to uint8 prior to saving to suppress this warning.\n",
      "Lossy conversion from float64 to uint8. Range [0.0, 255.0]. Convert image to uint8 prior to saving to suppress this warning.\n"
     ]
    },
    {
     "name": "stdout",
     "output_type": "stream",
     "text": [
      "1\n",
      "1\n",
      "1\n",
      "1\n",
      "iter 16999\ttrain disc cost\t-1.9115972518920898\ttime\t1.3223321413993836\twgan train disc cost\t-2.447704792022705\ttrain class cost\t0.09886366873979568\tgenerated class cost\t0.02891024760901928\tgen cost cost\t-15.722005844116211\tgen accuracy\t0.9933334589004517\treal accuracy\t0.961904764175415\tdev disc cost\t-1.4566187858581543\twgan dev disc cost\t-2.682138442993164\tdev class cost\t0.14809472858905792\tdev generated class cost\t0.007189383264631033\tdev gen  cost\t-13.88682746887207\tdev gen accuracy\t1.0\tdev real accuracy\t0.9404761791229248\n",
      "iter 17099\ttrain disc cost\t-2.0400478839874268\ttime\t1.3251041841506959\twgan train disc cost\t-2.4553513526916504\ttrain class cost\t0.09978689253330231\tgenerated class cost\t0.031508516520261765\tgen cost cost\t-14.770630836486816\tgen accuracy\t0.9926191568374634\treal accuracy\t0.9630953073501587\n",
      "iter 17199\ttrain disc cost\t-2.0542502403259277\ttime\t1.3265187406539918\twgan train disc cost\t-2.456993579864502\ttrain class cost\t0.0973275825381279\tgenerated class cost\t0.02959306165575981\tgen cost cost\t-14.056253433227539\tgen accuracy\t0.9940476417541504\treal accuracy\t0.9628571271896362\n",
      "iter 17299\ttrain disc cost\t-1.8752039670944214\ttime\t1.3231075453758239\twgan train disc cost\t-2.307654619216919\ttrain class cost\t0.0986987054347992\tgenerated class cost\t0.03299449756741524\tgen cost cost\t-13.939255714416504\tgen accuracy\t0.9917857646942139\treal accuracy\t0.9629760980606079\n",
      "iter 17399\ttrain disc cost\t-2.1128177642822266\ttime\t1.3227709889411927\twgan train disc cost\t-2.515324115753174\ttrain class cost\t0.09395334869623184\tgenerated class cost\t0.032125815749168396\tgen cost cost\t-13.416360855102539\tgen accuracy\t0.9917857646942139\treal accuracy\t0.9635714888572693\n",
      "iter 17499\ttrain disc cost\t-1.8513844013214111\ttime\t1.3237873911857605\twgan train disc cost\t-2.452653408050537\ttrain class cost\t0.0937836617231369\tgenerated class cost\t0.02753424644470215\tgen cost cost\t-13.453235626220703\tgen accuracy\t0.9938095211982727\treal accuracy\t0.9653571844100952\n",
      "iter 17599\ttrain disc cost\t-2.0415821075439453\ttime\t1.3238041019439697\twgan train disc cost\t-2.524778366088867\ttrain class cost\t0.09331613779067993\tgenerated class cost\t0.029765792191028595\tgen cost cost\t-14.153229713439941\tgen accuracy\t0.993095338344574\treal accuracy\t0.9660714864730835\n",
      "iter 17699\ttrain disc cost\t-2.0238118171691895\ttime\t1.3244968056678772\twgan train disc cost\t-2.496751546859741\ttrain class cost\t0.0972059890627861\tgenerated class cost\t0.031334906816482544\tgen cost cost\t-13.27720832824707\tgen accuracy\t0.993571400642395\treal accuracy\t0.962023913860321\n",
      "iter 17799\ttrain disc cost\t-1.9494297504425049\ttime\t1.324375491142273\twgan train disc cost\t-2.407142400741577\ttrain class cost\t0.0931992307305336\tgenerated class cost\t0.028223048895597458\tgen cost cost\t-14.83474349975586\tgen accuracy\t0.9926190972328186\treal accuracy\t0.964404821395874\n",
      "iter 17899\ttrain disc cost\t-1.8990305662155151\ttime\t1.3239408612251282\twgan train disc cost\t-2.384244441986084\ttrain class cost\t0.09612679481506348\tgenerated class cost\t0.033045340329408646\tgen cost cost\t-15.823812484741211\tgen accuracy\t0.9914286136627197\treal accuracy\t0.9635713696479797\n"
     ]
    },
    {
     "name": "stderr",
     "output_type": "stream",
     "text": [
      "Lossy conversion from float64 to uint8. Range [0.0, 255.0]. Convert image to uint8 prior to saving to suppress this warning.\n",
      "Lossy conversion from float64 to uint8. Range [0.0, 255.0]. Convert image to uint8 prior to saving to suppress this warning.\n"
     ]
    },
    {
     "name": "stdout",
     "output_type": "stream",
     "text": [
      "1\n",
      "1\n",
      "1\n",
      "1\n",
      "iter 17999\ttrain disc cost\t-1.94930100440979\ttime\t1.324715917110443\twgan train disc cost\t-2.399482011795044\ttrain class cost\t0.10000211745500565\tgenerated class cost\t0.03513481467962265\tgen cost cost\t-15.440052032470703\tgen accuracy\t0.9914286136627197\treal accuracy\t0.9633333683013916\tdev disc cost\t-2.089440107345581\twgan dev disc cost\t-2.4361209869384766\tdev class cost\t0.06007954478263855\tdev generated class cost\t0.04734260216355324\tdev gen  cost\t-22.940908432006836\tdev gen accuracy\t0.988095223903656\tdev real accuracy\t0.976190447807312\n",
      "iter 18099\ttrain disc cost\t-1.973521113395691\ttime\t1.321776840686798\twgan train disc cost\t-2.4471182823181152\ttrain class cost\t0.09102655202150345\tgenerated class cost\t0.030564676970243454\tgen cost cost\t-16.645099639892578\tgen accuracy\t0.9934524297714233\treal accuracy\t0.9670239090919495\n",
      "iter 18199\ttrain disc cost\t-1.9402782917022705\ttime\t1.3305527329444886\twgan train disc cost\t-2.411968469619751\ttrain class cost\t0.10135651379823685\tgenerated class cost\t0.031179720535874367\tgen cost cost\t-14.994318962097168\tgen accuracy\t0.9922618865966797\treal accuracy\t0.9598810076713562\n",
      "iter 18299\ttrain disc cost\t-2.0396413803100586\ttime\t1.3272927975654603\twgan train disc cost\t-2.4777774810791016\ttrain class cost\t0.0936741754412651\tgenerated class cost\t0.029692741110920906\tgen cost cost\t-15.837530136108398\tgen accuracy\t0.9929763078689575\treal accuracy\t0.9629762172698975\n",
      "iter 18399\ttrain disc cost\t-1.8764818906784058\ttime\t1.3255391526222229\twgan train disc cost\t-2.3100481033325195\ttrain class cost\t0.09363456070423126\tgenerated class cost\t0.026561014354228973\tgen cost cost\t-14.281170845031738\tgen accuracy\t0.9941667318344116\treal accuracy\t0.9645237922668457\n",
      "iter 18499\ttrain disc cost\t-1.9692254066467285\ttime\t1.3260100388526916\twgan train disc cost\t-2.4618217945098877\ttrain class cost\t0.08986552059650421\tgenerated class cost\t0.030020644888281822\tgen cost cost\t-11.162507057189941\tgen accuracy\t0.9930952191352844\treal accuracy\t0.9649999737739563\n",
      "iter 18599\ttrain disc cost\t-1.859046459197998\ttime\t1.3251781034469605\twgan train disc cost\t-2.388420820236206\ttrain class cost\t0.09267105162143707\tgenerated class cost\t0.02824166789650917\tgen cost cost\t-14.171408653259277\tgen accuracy\t0.9935714602470398\treal accuracy\t0.9652382135391235\n",
      "iter 18699\ttrain disc cost\t-2.0399551391601562\ttime\t1.3271452975273133\twgan train disc cost\t-2.520756721496582\ttrain class cost\t0.09001421183347702\tgenerated class cost\t0.03023483045399189\tgen cost cost\t-14.525665283203125\tgen accuracy\t0.9929762482643127\treal accuracy\t0.9672619104385376\n",
      "iter 18799\ttrain disc cost\t-1.8453422784805298\ttime\t1.3278795027732848\twgan train disc cost\t-2.365938186645508\ttrain class cost\t0.09485337138175964\tgenerated class cost\t0.03180401772260666\tgen cost cost\t-16.728906631469727\tgen accuracy\t0.9929763078689575\treal accuracy\t0.9651191234588623\n",
      "iter 18899\ttrain disc cost\t-2.0667688846588135\ttime\t1.3268065118789674\twgan train disc cost\t-2.547903299331665\ttrain class cost\t0.08657976984977722\tgenerated class cost\t0.027310917153954506\tgen cost cost\t-16.710235595703125\tgen accuracy\t0.993571400642395\treal accuracy\t0.9682142734527588\n"
     ]
    },
    {
     "name": "stderr",
     "output_type": "stream",
     "text": [
      "Lossy conversion from float64 to uint8. Range [0.0, 255.0]. Convert image to uint8 prior to saving to suppress this warning.\n",
      "Lossy conversion from float64 to uint8. Range [0.0, 255.0]. Convert image to uint8 prior to saving to suppress this warning.\n"
     ]
    },
    {
     "name": "stdout",
     "output_type": "stream",
     "text": [
      "1\n",
      "1\n",
      "1\n",
      "1\n",
      "iter 18999\ttrain disc cost\t-2.01674222946167\ttime\t1.3261077117919922\twgan train disc cost\t-2.466874122619629\ttrain class cost\t0.08701328933238983\tgenerated class cost\t0.026394113898277283\tgen cost cost\t-13.041799545288086\tgen accuracy\t0.9947618842124939\treal accuracy\t0.9663096070289612\tdev disc cost\t-1.8918726444244385\twgan dev disc cost\t-2.243602752685547\tdev class cost\t0.10560158640146255\tdev generated class cost\t0.05588894337415695\tdev gen  cost\t-21.87676429748535\tdev gen accuracy\t1.0\tdev real accuracy\t0.9642857313156128\n",
      "iter 19099\ttrain disc cost\t-1.8864891529083252\ttime\t1.324380955696106\twgan train disc cost\t-2.40092396736145\ttrain class cost\t0.09486030787229538\tgenerated class cost\t0.030234994366765022\tgen cost cost\t-15.836048126220703\tgen accuracy\t0.9927381277084351\treal accuracy\t0.9636904001235962\n",
      "iter 19199\ttrain disc cost\t-2.008939027786255\ttime\t1.3270864820480346\twgan train disc cost\t-2.44796085357666\ttrain class cost\t0.08574496954679489\tgenerated class cost\t0.02648431807756424\tgen cost cost\t-14.724811553955078\tgen accuracy\t0.9941667318344116\treal accuracy\t0.9659523963928223\n",
      "iter 19299\ttrain disc cost\t-1.90789794921875\ttime\t1.3284019947052002\twgan train disc cost\t-2.3114254474639893\ttrain class cost\t0.09646731615066528\tgenerated class cost\t0.029921099543571472\tgen cost cost\t-17.756837844848633\tgen accuracy\t0.9935714602470398\treal accuracy\t0.9602380990982056\n",
      "iter 19399\ttrain disc cost\t-1.8515337705612183\ttime\t1.329998631477356\twgan train disc cost\t-2.3297181129455566\ttrain class cost\t0.09411384910345078\tgenerated class cost\t0.02910689078271389\tgen cost cost\t-21.323225021362305\tgen accuracy\t0.9932143688201904\treal accuracy\t0.9635714888572693\n",
      "iter 19499\ttrain disc cost\t-1.9192914962768555\ttime\t1.3282814192771912\twgan train disc cost\t-2.3150861263275146\ttrain class cost\t0.09234730899333954\tgenerated class cost\t0.032179802656173706\tgen cost cost\t-19.513988494873047\tgen accuracy\t0.9911905527114868\treal accuracy\t0.9657143354415894\n",
      "iter 19599\ttrain disc cost\t-1.9689362049102783\ttime\t1.329046025276184\twgan train disc cost\t-2.3929331302642822\ttrain class cost\t0.08760645985603333\tgenerated class cost\t0.024625610560178757\tgen cost cost\t-21.328079223632812\tgen accuracy\t0.9946428537368774\treal accuracy\t0.9661905765533447\n",
      "iter 19699\ttrain disc cost\t-1.9106065034866333\ttime\t1.3285729336738585\twgan train disc cost\t-2.3086020946502686\ttrain class cost\t0.09037058800458908\tgenerated class cost\t0.030454030260443687\tgen cost cost\t-21.507617950439453\tgen accuracy\t0.9932142496109009\treal accuracy\t0.9636905193328857\n",
      "iter 19799\ttrain disc cost\t-1.8690965175628662\ttime\t1.3285706329345703\twgan train disc cost\t-2.370603561401367\ttrain class cost\t0.08307518064975739\tgenerated class cost\t0.027818694710731506\tgen cost cost\t-20.652355194091797\tgen accuracy\t0.992023766040802\treal accuracy\t0.9686905145645142\n",
      "iter 19899\ttrain disc cost\t-1.8833035230636597\ttime\t1.327855682373047\twgan train disc cost\t-2.3441476821899414\ttrain class cost\t0.09288640320301056\tgenerated class cost\t0.02527865394949913\tgen cost cost\t-22.311988830566406\tgen accuracy\t0.9939286708831787\treal accuracy\t0.9641667008399963\n"
     ]
    },
    {
     "name": "stderr",
     "output_type": "stream",
     "text": [
      "Lossy conversion from float64 to uint8. Range [0.0, 255.0]. Convert image to uint8 prior to saving to suppress this warning.\n",
      "Lossy conversion from float64 to uint8. Range [0.0, 255.0]. Convert image to uint8 prior to saving to suppress this warning.\n"
     ]
    },
    {
     "name": "stdout",
     "output_type": "stream",
     "text": [
      "1\n",
      "1\n",
      "1\n",
      "1\n",
      "iter 19999\ttrain disc cost\t-1.910771369934082\ttime\t1.3265430688858033\twgan train disc cost\t-2.325805187225342\ttrain class cost\t0.08700581640005112\tgenerated class cost\t0.02748013287782669\tgen cost cost\t-23.972911834716797\tgen accuracy\t0.9923810362815857\treal accuracy\t0.9661905169487\tdev disc cost\t-2.1026599407196045\twgan dev disc cost\t-2.3129940032958984\tdev class cost\t0.04819273203611374\tdev generated class cost\t0.04572882875800133\tdev gen  cost\t-26.70113754272461\tdev gen accuracy\t0.988095223903656\tdev real accuracy\t0.988095223903656\n",
      "iter 20099\ttrain disc cost\t-2.0169591903686523\ttime\t1.3231233549118042\twgan train disc cost\t-2.414036989212036\ttrain class cost\t0.08334539085626602\tgenerated class cost\t0.02826314978301525\tgen cost cost\t-21.52680206298828\tgen accuracy\t0.9926191568374634\treal accuracy\t0.9695238471031189\n",
      "iter 20199\ttrain disc cost\t-1.8356280326843262\ttime\t1.3208265256881715\twgan train disc cost\t-2.2774579524993896\ttrain class cost\t0.08525459468364716\tgenerated class cost\t0.025770511478185654\tgen cost cost\t-21.949594497680664\tgen accuracy\t0.9930952191352844\treal accuracy\t0.9670239090919495\n",
      "iter 20299\ttrain disc cost\t-1.938661813735962\ttime\t1.3253084325790405\twgan train disc cost\t-2.396040916442871\ttrain class cost\t0.08777965605258942\tgenerated class cost\t0.029693322256207466\tgen cost cost\t-22.876853942871094\tgen accuracy\t0.9923809766769409\treal accuracy\t0.9665476083755493\n",
      "iter 20399\ttrain disc cost\t-1.8871666193008423\ttime\t1.3249743008613586\twgan train disc cost\t-2.273704767227173\ttrain class cost\t0.08272134512662888\tgenerated class cost\t0.028608538210392\tgen cost cost\t-22.850027084350586\tgen accuracy\t0.9934524297714233\treal accuracy\t0.9689285159111023\n",
      "iter 20499\ttrain disc cost\t-1.994059443473816\ttime\t1.3226555871963501\twgan train disc cost\t-2.3958072662353516\ttrain class cost\t0.08316529542207718\tgenerated class cost\t0.029517456889152527\tgen cost cost\t-22.27983856201172\tgen accuracy\t0.9925000667572021\treal accuracy\t0.96833336353302\n",
      "iter 20599\ttrain disc cost\t-1.8178563117980957\ttime\t1.3277381539344788\twgan train disc cost\t-2.2048192024230957\ttrain class cost\t0.08520575612783432\tgenerated class cost\t0.027774479240179062\tgen cost cost\t-20.637731552124023\tgen accuracy\t0.9922619462013245\treal accuracy\t0.9685714840888977\n",
      "iter 20699\ttrain disc cost\t-2.0286002159118652\ttime\t1.3307896208763124\twgan train disc cost\t-2.4397084712982178\ttrain class cost\t0.08248118311166763\tgenerated class cost\t0.028960051015019417\tgen cost cost\t-22.373010635375977\tgen accuracy\t0.9919048547744751\treal accuracy\t0.9695239067077637\n",
      "iter 20799\ttrain disc cost\t-1.821110486984253\ttime\t1.3334126996994018\twgan train disc cost\t-2.258991241455078\ttrain class cost\t0.08069328218698502\tgenerated class cost\t0.027779240161180496\tgen cost cost\t-22.420696258544922\tgen accuracy\t0.9929762482643127\treal accuracy\t0.9694046974182129\n",
      "iter 20899\ttrain disc cost\t-1.8441082239151\ttime\t1.3299416184425354\twgan train disc cost\t-2.251112699508667\ttrain class cost\t0.08253639936447144\tgenerated class cost\t0.028025217354297638\tgen cost cost\t-24.029054641723633\tgen accuracy\t0.9926190972328186\treal accuracy\t0.9673810005187988\n"
     ]
    },
    {
     "name": "stderr",
     "output_type": "stream",
     "text": [
      "Lossy conversion from float64 to uint8. Range [0.0, 255.0]. Convert image to uint8 prior to saving to suppress this warning.\n",
      "Lossy conversion from float64 to uint8. Range [0.0, 255.0]. Convert image to uint8 prior to saving to suppress this warning.\n"
     ]
    },
    {
     "name": "stdout",
     "output_type": "stream",
     "text": [
      "1\n",
      "1\n",
      "1\n",
      "1\n",
      "iter 20999\ttrain disc cost\t-1.9114872217178345\ttime\t1.3263779473304749\twgan train disc cost\t-2.2952587604522705\ttrain class cost\t0.07863795012235641\tgenerated class cost\t0.0303057711571455\tgen cost cost\t-24.5594539642334\tgen accuracy\t0.9904762506484985\treal accuracy\t0.9672619104385376\tdev disc cost\t-0.8491513133049011\twgan dev disc cost\t-1.1970806121826172\tdev class cost\t0.05952790379524231\tdev generated class cost\t0.02808554656803608\tdev gen  cost\t-22.438631057739258\tdev gen accuracy\t0.988095223903656\tdev real accuracy\t0.988095223903656\n",
      "iter 21099\ttrain disc cost\t-1.8139194250106812\ttime\t1.3316657137870789\twgan train disc cost\t-2.255420207977295\ttrain class cost\t0.08868159353733063\tgenerated class cost\t0.027231311425566673\tgen cost cost\t-26.9002628326416\tgen accuracy\t0.9926190972328186\treal accuracy\t0.9653571248054504\n",
      "iter 21199\ttrain disc cost\t-1.9585795402526855\ttime\t1.3312270283699035\twgan train disc cost\t-2.4180710315704346\ttrain class cost\t0.08045753836631775\tgenerated class cost\t0.02716686949133873\tgen cost cost\t-27.733938217163086\tgen accuracy\t0.9924999475479126\treal accuracy\t0.9684523940086365\n",
      "iter 21299\ttrain disc cost\t-1.8888647556304932\ttime\t1.3353961825370788\twgan train disc cost\t-2.2959461212158203\ttrain class cost\t0.08479218184947968\tgenerated class cost\t0.026908118277788162\tgen cost cost\t-26.57797622680664\tgen accuracy\t0.9925000667572021\treal accuracy\t0.9676191806793213\n",
      "iter 21399\ttrain disc cost\t-2.0051300525665283\ttime\t1.331986539363861\twgan train disc cost\t-2.4303927421569824\ttrain class cost\t0.07621559500694275\tgenerated class cost\t0.028432371094822884\tgen cost cost\t-25.686120986938477\tgen accuracy\t0.992142915725708\treal accuracy\t0.9719047546386719\n",
      "iter 21499\ttrain disc cost\t-1.8561394214630127\ttime\t1.3317362475395202\twgan train disc cost\t-2.267080068588257\ttrain class cost\t0.07976297289133072\tgenerated class cost\t0.027252614498138428\tgen cost cost\t-28.371919631958008\tgen accuracy\t0.993095338344574\treal accuracy\t0.9678571224212646\n",
      "iter 21599\ttrain disc cost\t-1.8960648775100708\ttime\t1.3281835436820983\twgan train disc cost\t-2.2794528007507324\ttrain class cost\t0.07547515630722046\tgenerated class cost\t0.025255614891648293\tgen cost cost\t-28.3019962310791\tgen accuracy\t0.9934524297714233\treal accuracy\t0.9700000286102295\n",
      "iter 21699\ttrain disc cost\t-1.8173224925994873\ttime\t1.3318032646179199\twgan train disc cost\t-2.2804312705993652\ttrain class cost\t0.07850216329097748\tgenerated class cost\t0.024091161787509918\tgen cost cost\t-28.147672653198242\tgen accuracy\t0.9944047331809998\treal accuracy\t0.9701191186904907\n",
      "iter 21799\ttrain disc cost\t-1.8144683837890625\ttime\t1.3302463626861571\twgan train disc cost\t-2.2173447608947754\ttrain class cost\t0.07632014155387878\tgenerated class cost\t0.023971546441316605\tgen cost cost\t-29.115488052368164\tgen accuracy\t0.9939286708831787\treal accuracy\t0.9715476036071777\n",
      "iter 21899\ttrain disc cost\t-1.9402292966842651\ttime\t1.333161871433258\twgan train disc cost\t-2.3446297645568848\ttrain class cost\t0.07260029017925262\tgenerated class cost\t0.025959765538573265\tgen cost cost\t-29.877395629882812\tgen accuracy\t0.9935714602470398\treal accuracy\t0.9739286303520203\n"
     ]
    },
    {
     "name": "stderr",
     "output_type": "stream",
     "text": [
      "Lossy conversion from float64 to uint8. Range [0.0, 255.0]. Convert image to uint8 prior to saving to suppress this warning.\n",
      "Lossy conversion from float64 to uint8. Range [0.0, 255.0]. Convert image to uint8 prior to saving to suppress this warning.\n"
     ]
    },
    {
     "name": "stdout",
     "output_type": "stream",
     "text": [
      "1\n",
      "1\n",
      "1\n",
      "1\n",
      "iter 21999\ttrain disc cost\t-1.7789442539215088\ttime\t1.331362762451172\twgan train disc cost\t-2.22745418548584\ttrain class cost\t0.07323242723941803\tgenerated class cost\t0.025571763515472412\tgen cost cost\t-30.524456024169922\tgen accuracy\t0.9928572177886963\treal accuracy\t0.9750000834465027\tdev disc cost\t-1.668611764907837\twgan dev disc cost\t-1.9460697174072266\tdev class cost\t0.054047323763370514\tdev generated class cost\t0.008470599539577961\tdev gen  cost\t-19.95840072631836\tdev gen accuracy\t1.0\tdev real accuracy\t0.988095223903656\n",
      "iter 22099\ttrain disc cost\t-1.835886836051941\ttime\t1.3327744603157043\twgan train disc cost\t-2.2659928798675537\ttrain class cost\t0.07641420513391495\tgenerated class cost\t0.027762286365032196\tgen cost cost\t-31.908607482910156\tgen accuracy\t0.9910714626312256\treal accuracy\t0.9711903929710388\n",
      "iter 22199\ttrain disc cost\t-1.849104642868042\ttime\t1.333177752494812\twgan train disc cost\t-2.23140811920166\ttrain class cost\t0.07486487179994583\tgenerated class cost\t0.028017783537507057\tgen cost cost\t-30.738622665405273\tgen accuracy\t0.9923810362815857\treal accuracy\t0.9699999094009399\n",
      "iter 22299\ttrain disc cost\t-1.8390203714370728\ttime\t1.336056134700775\twgan train disc cost\t-2.2205440998077393\ttrain class cost\t0.07688961178064346\tgenerated class cost\t0.028200648725032806\tgen cost cost\t-29.603910446166992\tgen accuracy\t0.9919047355651855\treal accuracy\t0.9714285135269165\n",
      "iter 22399\ttrain disc cost\t-1.8881745338439941\ttime\t1.3361026382446288\twgan train disc cost\t-2.289454936981201\ttrain class cost\t0.07671355456113815\tgenerated class cost\t0.02818964421749115\tgen cost cost\t-31.5533447265625\tgen accuracy\t0.9932142496109009\treal accuracy\t0.9704763293266296\n",
      "iter 22499\ttrain disc cost\t-1.9633779525756836\ttime\t1.332230987548828\twgan train disc cost\t-2.293196439743042\ttrain class cost\t0.07526124268770218\tgenerated class cost\t0.024631738662719727\tgen cost cost\t-30.823081970214844\tgen accuracy\t0.9927381277084351\treal accuracy\t0.9708333611488342\n",
      "iter 22599\ttrain disc cost\t-1.8249915838241577\ttime\t1.3344855618476867\twgan train disc cost\t-2.2039952278137207\ttrain class cost\t0.07370705902576447\tgenerated class cost\t0.027718938887119293\tgen cost cost\t-31.425222396850586\tgen accuracy\t0.9926190972328186\treal accuracy\t0.9710714221000671\n",
      "iter 22699\ttrain disc cost\t-2.0056540966033936\ttime\t1.3291612410545348\twgan train disc cost\t-2.4052398204803467\ttrain class cost\t0.07928318530321121\tgenerated class cost\t0.02422109991312027\tgen cost cost\t-29.031885147094727\tgen accuracy\t0.9934523701667786\treal accuracy\t0.9686905741691589\n",
      "iter 22799\ttrain disc cost\t-1.8567328453063965\ttime\t1.3229034733772278\twgan train disc cost\t-2.2248902320861816\ttrain class cost\t0.07347861677408218\tgenerated class cost\t0.02674645185470581\tgen cost cost\t-30.333568572998047\tgen accuracy\t0.9930951595306396\treal accuracy\t0.9729762077331543\n",
      "iter 22899\ttrain disc cost\t-1.8700958490371704\ttime\t1.3242619371414184\twgan train disc cost\t-2.275388717651367\ttrain class cost\t0.07381628453731537\tgenerated class cost\t0.027414297685027122\tgen cost cost\t-31.437849044799805\tgen accuracy\t0.9916667342185974\treal accuracy\t0.9733333587646484\n"
     ]
    },
    {
     "name": "stderr",
     "output_type": "stream",
     "text": [
      "Lossy conversion from float64 to uint8. Range [0.0, 254.0]. Convert image to uint8 prior to saving to suppress this warning.\n",
      "Lossy conversion from float64 to uint8. Range [0.0, 255.0]. Convert image to uint8 prior to saving to suppress this warning.\n"
     ]
    },
    {
     "name": "stdout",
     "output_type": "stream",
     "text": [
      "1\n",
      "1\n",
      "1\n",
      "1\n",
      "iter 22999\ttrain disc cost\t-1.8897509574890137\ttime\t1.323347146511078\twgan train disc cost\t-2.306500196456909\ttrain class cost\t0.07299920916557312\tgenerated class cost\t0.02801191806793213\tgen cost cost\t-32.476654052734375\tgen accuracy\t0.992023766040802\treal accuracy\t0.9719046950340271\tdev disc cost\t-1.3216378688812256\twgan dev disc cost\t-1.531015396118164\tdev class cost\t0.06709782034158707\tdev generated class cost\t0.004857328254729509\tdev gen  cost\t-28.795310974121094\tdev gen accuracy\t1.0\tdev real accuracy\t0.988095223903656\n",
      "iter 23099\ttrain disc cost\t-1.7983142137527466\ttime\t1.3350072073936463\twgan train disc cost\t-2.1650781631469727\ttrain class cost\t0.07406507432460785\tgenerated class cost\t0.027769438922405243\tgen cost cost\t-33.55577850341797\tgen accuracy\t0.9922619462013245\treal accuracy\t0.9733332991600037\n",
      "iter 23199\ttrain disc cost\t-2.0419070720672607\ttime\t1.3212360072135925\twgan train disc cost\t-2.463351249694824\ttrain class cost\t0.07007723301649094\tgenerated class cost\t0.02132272720336914\tgen cost cost\t-32.61528396606445\tgen accuracy\t0.9950000643730164\treal accuracy\t0.973214328289032\n",
      "iter 23299\ttrain disc cost\t-1.8617777824401855\ttime\t1.321398367881775\twgan train disc cost\t-2.244119644165039\ttrain class cost\t0.0736372247338295\tgenerated class cost\t0.0230935700237751\tgen cost cost\t-34.50203323364258\tgen accuracy\t0.9934524297714233\treal accuracy\t0.9722619652748108\n",
      "iter 23399\ttrain disc cost\t-1.9021081924438477\ttime\t1.3234809637069702\twgan train disc cost\t-2.348041296005249\ttrain class cost\t0.07055357098579407\tgenerated class cost\t0.028705701231956482\tgen cost cost\t-33.78004455566406\tgen accuracy\t0.9916667938232422\treal accuracy\t0.9717857241630554\n",
      "iter 23499\ttrain disc cost\t-1.916817307472229\ttime\t1.3226528668403625\twgan train disc cost\t-2.291574239730835\ttrain class cost\t0.06950169801712036\tgenerated class cost\t0.023139962926506996\tgen cost cost\t-35.49864959716797\tgen accuracy\t0.9940477013587952\treal accuracy\t0.9733332991600037\n",
      "iter 23599\ttrain disc cost\t-1.8091909885406494\ttime\t1.3222695565223694\twgan train disc cost\t-2.2593884468078613\ttrain class cost\t0.07027263194322586\tgenerated class cost\t0.026411499828100204\tgen cost cost\t-36.69395446777344\tgen accuracy\t0.9928572177886963\treal accuracy\t0.9757144451141357\n",
      "iter 23699\ttrain disc cost\t-1.8612875938415527\ttime\t1.3264784407615662\twgan train disc cost\t-2.233546495437622\ttrain class cost\t0.06849203258752823\tgenerated class cost\t0.02334272675216198\tgen cost cost\t-35.889739990234375\tgen accuracy\t0.9929762482643127\treal accuracy\t0.9738094806671143\n",
      "iter 23799\ttrain disc cost\t-1.8733537197113037\ttime\t1.3287911581993104\twgan train disc cost\t-2.2892348766326904\ttrain class cost\t0.07146112620830536\tgenerated class cost\t0.02758253738284111\tgen cost cost\t-35.58302307128906\tgen accuracy\t0.9920238256454468\treal accuracy\t0.9747619032859802\n",
      "iter 23899\ttrain disc cost\t-1.8012028932571411\ttime\t1.322051854133606\twgan train disc cost\t-2.2354536056518555\ttrain class cost\t0.06780672818422318\tgenerated class cost\t0.02487659640610218\tgen cost cost\t-37.18008804321289\tgen accuracy\t0.9927381277084351\treal accuracy\t0.973214328289032\n"
     ]
    },
    {
     "name": "stderr",
     "output_type": "stream",
     "text": [
      "Lossy conversion from float64 to uint8. Range [0.0, 255.0]. Convert image to uint8 prior to saving to suppress this warning.\n",
      "Lossy conversion from float64 to uint8. Range [0.0, 255.0]. Convert image to uint8 prior to saving to suppress this warning.\n"
     ]
    },
    {
     "name": "stdout",
     "output_type": "stream",
     "text": [
      "1\n",
      "1\n",
      "1\n",
      "1\n",
      "iter 23999\ttrain disc cost\t-1.915285587310791\ttime\t1.3279138326644897\twgan train disc cost\t-2.290889263153076\ttrain class cost\t0.06951632350683212\tgenerated class cost\t0.023708947002887726\tgen cost cost\t-36.7841911315918\tgen accuracy\t0.9938095211982727\treal accuracy\t0.9740477204322815\tdev disc cost\t-3.6874704360961914\twgan dev disc cost\t-4.177577972412109\tdev class cost\t0.032685305923223495\tdev generated class cost\t0.010821633972227573\tdev gen  cost\t-44.56037902832031\tdev gen accuracy\t1.0\tdev real accuracy\t1.0\n",
      "iter 24099\ttrain disc cost\t-1.9317846298217773\ttime\t1.3266914534568786\twgan train disc cost\t-2.3099586963653564\ttrain class cost\t0.06672802567481995\tgenerated class cost\t0.023987405002117157\tgen cost cost\t-40.19026565551758\tgen accuracy\t0.993095338344574\treal accuracy\t0.9754762053489685\n",
      "iter 24199\ttrain disc cost\t-1.8493543863296509\ttime\t1.3287421131134034\twgan train disc cost\t-2.2307958602905273\ttrain class cost\t0.06826145201921463\tgenerated class cost\t0.02307489886879921\tgen cost cost\t-39.343666076660156\tgen accuracy\t0.9932144284248352\treal accuracy\t0.9757143259048462\n",
      "iter 24299\ttrain disc cost\t-1.7806352376937866\ttime\t1.322569386959076\twgan train disc cost\t-2.1777596473693848\ttrain class cost\t0.06983321160078049\tgenerated class cost\t0.02253415621817112\tgen cost cost\t-41.71906280517578\tgen accuracy\t0.9940477013587952\treal accuracy\t0.9726191163063049\n",
      "iter 24399\ttrain disc cost\t-1.9229187965393066\ttime\t1.3214485931396485\twgan train disc cost\t-2.279334306716919\ttrain class cost\t0.06834577023983002\tgenerated class cost\t0.02402411215007305\tgen cost cost\t-40.7878532409668\tgen accuracy\t0.9938095211982727\treal accuracy\t0.9733332991600037\n",
      "iter 24499\ttrain disc cost\t-1.7953388690948486\ttime\t1.3213856720924377\twgan train disc cost\t-2.1553115844726562\ttrain class cost\t0.06603175401687622\tgenerated class cost\t0.02292904444038868\tgen cost cost\t-39.224143981933594\tgen accuracy\t0.9929763078689575\treal accuracy\t0.9738096594810486\n",
      "iter 24599\ttrain disc cost\t-1.9745988845825195\ttime\t1.318724353313446\twgan train disc cost\t-2.315967082977295\ttrain class cost\t0.06450118869543076\tgenerated class cost\t0.021391142159700394\tgen cost cost\t-41.49508285522461\tgen accuracy\t0.9951190948486328\treal accuracy\t0.9773809909820557\n",
      "iter 24699\ttrain disc cost\t-1.9039300680160522\ttime\t1.3242420268058777\twgan train disc cost\t-2.3142685890197754\ttrain class cost\t0.07361476868391037\tgenerated class cost\t0.023210851475596428\tgen cost cost\t-41.921607971191406\tgen accuracy\t0.9940477013587952\treal accuracy\t0.9711905121803284\n",
      "iter 24799\ttrain disc cost\t-1.876397728919983\ttime\t1.3251652026176453\twgan train disc cost\t-2.2692747116088867\ttrain class cost\t0.06781139224767685\tgenerated class cost\t0.02738535962998867\tgen cost cost\t-41.49159240722656\tgen accuracy\t0.9925000071525574\treal accuracy\t0.9754762053489685\n",
      "iter 24899\ttrain disc cost\t-1.917039394378662\ttime\t1.328477931022644\twgan train disc cost\t-2.312898635864258\ttrain class cost\t0.06567210704088211\tgenerated class cost\t0.025333143770694733\tgen cost cost\t-40.534324645996094\tgen accuracy\t0.9938095211982727\treal accuracy\t0.9745238423347473\n"
     ]
    },
    {
     "name": "stderr",
     "output_type": "stream",
     "text": [
      "Lossy conversion from float64 to uint8. Range [0.0, 254.0]. Convert image to uint8 prior to saving to suppress this warning.\n",
      "Lossy conversion from float64 to uint8. Range [0.0, 255.0]. Convert image to uint8 prior to saving to suppress this warning.\n"
     ]
    },
    {
     "name": "stdout",
     "output_type": "stream",
     "text": [
      "1\n",
      "1\n",
      "1\n",
      "1\n",
      "iter 24999\ttrain disc cost\t-1.8970184326171875\ttime\t1.323056125640869\twgan train disc cost\t-2.24332594871521\ttrain class cost\t0.06687978655099869\tgenerated class cost\t0.028238480910658836\tgen cost cost\t-41.233543395996094\tgen accuracy\t0.9917858242988586\treal accuracy\t0.9749999046325684\tdev disc cost\t-1.7576453685760498\twgan dev disc cost\t-2.238384246826172\tdev class cost\t0.023555681109428406\tdev generated class cost\t0.023113450035452843\tdev gen  cost\t-45.514156341552734\tdev gen accuracy\t0.988095223903656\tdev real accuracy\t1.0\n",
      "iter 25099\ttrain disc cost\t-1.6528669595718384\ttime\t1.3214780116081237\twgan train disc cost\t-2.048750877380371\ttrain class cost\t0.07023857533931732\tgenerated class cost\t0.023532068356871605\tgen cost cost\t-42.29960632324219\tgen accuracy\t0.9909523725509644\treal accuracy\t0.9757142663002014\n",
      "iter 25199\ttrain disc cost\t-1.9127678871154785\ttime\t1.3209158158302308\twgan train disc cost\t-2.3465142250061035\ttrain class cost\t0.06629108637571335\tgenerated class cost\t0.02302153781056404\tgen cost cost\t-41.25263214111328\tgen accuracy\t0.9934524297714233\treal accuracy\t0.9761905074119568\n",
      "iter 25299\ttrain disc cost\t-1.7013415098190308\ttime\t1.3199699640274047\twgan train disc cost\t-2.08974027633667\ttrain class cost\t0.06760728359222412\tgenerated class cost\t0.023910632357001305\tgen cost cost\t-42.70880889892578\tgen accuracy\t0.9939286708831787\treal accuracy\t0.9760714173316956\n",
      "iter 25399\ttrain disc cost\t-1.9102928638458252\ttime\t1.3220872855186463\twgan train disc cost\t-2.320565938949585\ttrain class cost\t0.06454207003116608\tgenerated class cost\t0.023050064221024513\tgen cost cost\t-42.842132568359375\tgen accuracy\t0.9929762482643127\treal accuracy\t0.9770238995552063\n",
      "iter 25499\ttrain disc cost\t-1.7370970249176025\ttime\t1.323919520378113\twgan train disc cost\t-2.1216881275177\ttrain class cost\t0.06458186358213425\tgenerated class cost\t0.025710582733154297\tgen cost cost\t-44.14718246459961\tgen accuracy\t0.9929762482643127\treal accuracy\t0.9750000834465027\n",
      "iter 25599\ttrain disc cost\t-1.8709931373596191\ttime\t1.3240482449531554\twgan train disc cost\t-2.287078619003296\ttrain class cost\t0.06874937564134598\tgenerated class cost\t0.021569306030869484\tgen cost cost\t-43.14679718017578\tgen accuracy\t0.995238184928894\treal accuracy\t0.9739285111427307\n",
      "iter 25699\ttrain disc cost\t-1.8791612386703491\ttime\t1.3224004435539245\twgan train disc cost\t-2.179093837738037\ttrain class cost\t0.05842851474881172\tgenerated class cost\t0.020529506728053093\tgen cost cost\t-43.41725540161133\tgen accuracy\t0.9939286112785339\treal accuracy\t0.9772619009017944\n",
      "iter 25799\ttrain disc cost\t-1.7096872329711914\ttime\t1.330956666469574\twgan train disc cost\t-2.1423888206481934\ttrain class cost\t0.06894823908805847\tgenerated class cost\t0.022900020703673363\tgen cost cost\t-45.97401809692383\tgen accuracy\t0.9944048523902893\treal accuracy\t0.9740477204322815\n",
      "iter 25899\ttrain disc cost\t-1.9162908792495728\ttime\t1.3240089559555053\twgan train disc cost\t-2.266592025756836\ttrain class cost\t0.062352534383535385\tgenerated class cost\t0.020514676347374916\tgen cost cost\t-47.55362319946289\tgen accuracy\t0.9944048523902893\treal accuracy\t0.9753572344779968\n"
     ]
    },
    {
     "name": "stderr",
     "output_type": "stream",
     "text": [
      "Lossy conversion from float64 to uint8. Range [0.0, 255.0]. Convert image to uint8 prior to saving to suppress this warning.\n",
      "Lossy conversion from float64 to uint8. Range [0.0, 255.0]. Convert image to uint8 prior to saving to suppress this warning.\n"
     ]
    },
    {
     "name": "stdout",
     "output_type": "stream",
     "text": [
      "1\n",
      "1\n",
      "1\n",
      "1\n",
      "iter 25999\ttrain disc cost\t-1.783860445022583\ttime\t1.3235922002792357\twgan train disc cost\t-2.165816068649292\ttrain class cost\t0.06482036411762238\tgenerated class cost\t0.02404247224330902\tgen cost cost\t-45.004417419433594\tgen accuracy\t0.9917858242988586\treal accuracy\t0.9765475988388062\tdev disc cost\t-1.6499357223510742\twgan dev disc cost\t-1.8507194519042969\tdev class cost\t0.05726319178938866\tdev generated class cost\t0.018241036683321\tdev gen  cost\t-50.19334030151367\tdev gen accuracy\t1.0\tdev real accuracy\t0.988095223903656\n",
      "iter 26099\ttrain disc cost\t-1.8305937051773071\ttime\t1.3247048544883728\twgan train disc cost\t-2.216630697250366\ttrain class cost\t0.06450308859348297\tgenerated class cost\t0.02456369809806347\tgen cost cost\t-46.82167434692383\tgen accuracy\t0.9917857646942139\treal accuracy\t0.9779763221740723\n",
      "iter 26199\ttrain disc cost\t-1.846340537071228\ttime\t1.3207628583908082\twgan train disc cost\t-2.2330482006073\ttrain class cost\t0.06739345192909241\tgenerated class cost\t0.020969469100236893\tgen cost cost\t-47.334930419921875\tgen accuracy\t0.9940477013587952\treal accuracy\t0.9729761481285095\n",
      "iter 26299\ttrain disc cost\t-1.8387131690979004\ttime\t1.3267797493934632\twgan train disc cost\t-2.239820957183838\ttrain class cost\t0.06127892807126045\tgenerated class cost\t0.018380973488092422\tgen cost cost\t-49.22991180419922\tgen accuracy\t0.9948809742927551\treal accuracy\t0.9771429300308228\n",
      "iter 26399\ttrain disc cost\t-1.8527061939239502\ttime\t1.326664047241211\twgan train disc cost\t-2.2391066551208496\ttrain class cost\t0.06043696030974388\tgenerated class cost\t0.025431491434574127\tgen cost cost\t-48.7781982421875\tgen accuracy\t0.9934524297714233\treal accuracy\t0.979642927646637\n",
      "iter 26499\ttrain disc cost\t-1.7473242282867432\ttime\t1.3240390491485596\twgan train disc cost\t-2.1264121532440186\ttrain class cost\t0.0599423311650753\tgenerated class cost\t0.020009705796837807\tgen cost cost\t-49.4915885925293\tgen accuracy\t0.9944047331809998\treal accuracy\t0.9788094162940979\n",
      "iter 26599\ttrain disc cost\t-1.820459246635437\ttime\t1.322277753353119\twgan train disc cost\t-2.1820497512817383\ttrain class cost\t0.060856569558382034\tgenerated class cost\t0.023552190512418747\tgen cost cost\t-50.4323844909668\tgen accuracy\t0.9925000071525574\treal accuracy\t0.9789285063743591\n"
     ]
    }
   ],
   "source": [
    "with tf.Session(config=tf.ConfigProto(allow_soft_placement=True)) as session:\n",
    "    print('started ...')\n",
    "    best_accuracy = 0\n",
    "    \n",
    "    all_real_data_conv = tf.placeholder(tf.int32, shape=[BATCH_SIZE, 3, DIM, DIM])\n",
    "    all_real_label_conv = tf.placeholder(tf.int32, shape=[BATCH_SIZE, CLASSES])\n",
    "\n",
    "    generated_labels_conv = tf.placeholder(tf.int32, shape=[BATCH_SIZE, CLASSES])\n",
    "    sample_labels_conv = tf.placeholder(tf.int32, shape=[BATCH_SIZE, CLASSES])\n",
    "\n",
    "    split_real_data_conv = tf.split(all_real_data_conv, len(DEVICES))\n",
    "    split_real_label_conv = tf.split(all_real_label_conv, len(DEVICES))\n",
    "    split_generated_labels_conv = tf.split(generated_labels_conv, len(DEVICES))\n",
    "    split_sample_labels_conv = tf.split(sample_labels_conv, len(DEVICES))\n",
    "\n",
    "    gen_costs, disc_costs = [], []\n",
    "\n",
    "    for device_index, (device, real_data_conv, real_label_conv) in enumerate(\n",
    "        zip(DEVICES, split_real_data_conv, split_real_label_conv)\n",
    "    ):\n",
    "        with tf.device(device):\n",
    "\n",
    "            real_data = tf.reshape(\n",
    "                2 * ((tf.cast(real_data_conv, tf.float32) / 255.0) - 0.5),\n",
    "                [BATCH_SIZE // len(DEVICES), OUTPUT_DIM],\n",
    "            )\n",
    "            real_labels = tf.reshape(\n",
    "                real_label_conv, [BATCH_SIZE // len(DEVICES), CLASSES]\n",
    "            )\n",
    "\n",
    "            generated_labels = tf.reshape(\n",
    "                split_generated_labels_conv, [BATCH_SIZE // len(DEVICES), CLASSES]\n",
    "            )\n",
    "            sample_labels = tf.reshape(\n",
    "                split_sample_labels_conv, [BATCH_SIZE // len(DEVICES), CLASSES]\n",
    "            )\n",
    "\n",
    "            fake_data, fake_labels = Generator(\n",
    "                BATCH_SIZE // len(DEVICES), CLASSES, generated_labels\n",
    "            )\n",
    "\n",
    "            # set up discrimnator results\n",
    "\n",
    "            disc_fake, disc_fake_class = Discriminator(fake_data, CLASSES)\n",
    "            disc_real, disc_real_class = Discriminator(real_data, CLASSES)\n",
    "\n",
    "            prediction = tf.argmax(disc_fake_class, 1)\n",
    "            correct_answer = tf.argmax(fake_labels, 1)\n",
    "            equality = tf.equal(prediction, correct_answer)\n",
    "            genAccuracy = tf.reduce_mean(tf.cast(equality, tf.float32))\n",
    "\n",
    "            prediction = tf.argmax(disc_real_class, 1)\n",
    "            correct_answer = tf.argmax(real_labels, 1)\n",
    "            equality = tf.equal(prediction, correct_answer)\n",
    "            realAccuracy = tf.reduce_mean(tf.cast(equality, tf.float32))\n",
    "\n",
    "            gen_cost = -tf.reduce_mean(disc_fake)\n",
    "            disc_cost = tf.reduce_mean(disc_fake) - tf.reduce_mean(disc_real)\n",
    "\n",
    "            gen_cost_test = -tf.reduce_mean(disc_fake)\n",
    "            disc_cost_test = tf.reduce_mean(disc_fake) - tf.reduce_mean(disc_real)\n",
    "\n",
    "            generated_class_cost = tf.reduce_mean(\n",
    "                tf.nn.softmax_cross_entropy_with_logits(\n",
    "                    logits=disc_fake_class, labels=fake_labels\n",
    "                )\n",
    "            )\n",
    "\n",
    "            real_class_cost = tf.reduce_mean(\n",
    "                tf.nn.softmax_cross_entropy_with_logits(\n",
    "                    logits=disc_real_class, labels=real_labels\n",
    "                )\n",
    "            )\n",
    "            gen_cost += generated_class_cost\n",
    "            disc_cost += real_class_cost\n",
    "\n",
    "            alpha = tf.random_uniform(\n",
    "                shape=[BATCH_SIZE // len(DEVICES), 1], minval=0.0, maxval=1.0\n",
    "            )\n",
    "            differences = fake_data - real_data\n",
    "            interpolates = real_data + (alpha * differences)\n",
    "            gradients = tf.gradients(\n",
    "                Discriminator(interpolates, CLASSES)[0], [interpolates]\n",
    "            )[0]\n",
    "            slopes = tf.sqrt(tf.reduce_sum(tf.square(gradients), reduction_indices=[1]))\n",
    "            gradient_penalty = tf.reduce_mean((slopes - 1.0) ** 2)\n",
    "            disc_cost += LAMBDA * gradient_penalty\n",
    "\n",
    "            real_class_cost_gradient = real_class_cost * 50 + LAMBDA * gradient_penalty\n",
    "\n",
    "            gen_costs.append(gen_cost)\n",
    "            disc_costs.append(disc_cost)\n",
    "\n",
    "    gen_cost = tf.add_n(gen_costs) / len(DEVICES)\n",
    "    disc_cost = tf.add_n(disc_costs) / len(DEVICES)\n",
    "\n",
    "    gen_train_op = tf.train.AdamOptimizer(\n",
    "        learning_rate=1e-4, beta1=0.5, beta2=0.9\n",
    "    ).minimize(\n",
    "        gen_cost,\n",
    "        var_list=lib.params_with_name(\"Generator\"),\n",
    "        colocate_gradients_with_ops=True,\n",
    "    )\n",
    "    disc_train_op = tf.train.AdamOptimizer(\n",
    "        learning_rate=1e-4, beta1=0.5, beta2=0.9\n",
    "    ).minimize(\n",
    "        disc_cost,\n",
    "        var_list=lib.params_with_name(\"Discriminator.\"),\n",
    "        colocate_gradients_with_ops=True,\n",
    "    )\n",
    "    class_train_op = tf.train.AdamOptimizer(\n",
    "        learning_rate=1e-4, beta1=0.5, beta2=0.9\n",
    "    ).minimize(\n",
    "        real_class_cost_gradient,\n",
    "        var_list=lib.params_with_name(\"Discriminator.\"),\n",
    "        colocate_gradients_with_ops=True,\n",
    "    )\n",
    "    # For generating samples\n",
    "\n",
    "    fixed_noise = tf.constant(\n",
    "        np.random.normal(size=(BATCH_SIZE, 128)).astype(\"float32\")\n",
    "    )\n",
    "    all_fixed_noise_samples = []\n",
    "    for device_index, device in enumerate(DEVICES):\n",
    "        n_samples = BATCH_SIZE // len(DEVICES)\n",
    "        all_fixed_noise_samples.append(\n",
    "            Generator(\n",
    "                n_samples,\n",
    "                CLASSES,\n",
    "                sample_labels,\n",
    "                noise=fixed_noise[\n",
    "                    device_index * n_samples : (device_index + 1) * n_samples\n",
    "                ],\n",
    "            )[0]\n",
    "        )\n",
    "        if tf.__version__.startswith(\"1.\"):\n",
    "            all_fixed_noise_samples = tf.concat(all_fixed_noise_samples, axis=0)\n",
    "        else:\n",
    "            all_fixed_noise_samples = tf.concat(0, all_fixed_noise_samples)\n",
    "\n",
    "    def generate_image(iteration):\n",
    "        # this might be where we add the conditionality\n",
    "        for i in range(CLASSES):\n",
    "            curLabel = genRandomLabels(BATCH_SIZE, CLASSES, condition=i)\n",
    "            samples = session.run(\n",
    "                all_fixed_noise_samples, feed_dict={sample_labels: curLabel}\n",
    "            )\n",
    "            samples = ((samples + 1.0) * (255.99 / 2)).astype(\"int32\")\n",
    "            lib.save_images.save_images(\n",
    "                samples.reshape((BATCH_SIZE, 3, DIM, DIM)),\n",
    "                \"generated/samples_{}_{}.png\".format(str(i), iteration),\n",
    "            )\n",
    "\n",
    "    # Dataset iterator\n",
    "#     train_gen, dev_gen = lib.wikiart_genre.load(BATCH_SIZE)\n",
    "    train_gen, dev_gen = load(BATCH_SIZE)\n",
    "\n",
    "    def softmax_cross_entropy(logit, y):\n",
    "        return -tf.reduce_mean(\n",
    "            tf.nn.softmax_cross_entropy_with_logits(logits=logit, labels=y)\n",
    "        )\n",
    "\n",
    "    def inf_train_gen():\n",
    "        while True:\n",
    "            for (images, labels) in train_gen():\n",
    "                yield images, labels\n",
    "\n",
    "    _sample_labels = genRandomLabels(BATCH_SIZE, CLASSES)\n",
    "    # Save a batch of ground-truth samples\n",
    "    _x, _y = next(train_gen())\n",
    "    _x_r = session.run(real_data, feed_dict={all_real_data_conv: _x})\n",
    "    _x_r = ((_x_r + 1.0) * (255.99 / 2)).astype(\"int32\")\n",
    "    lib.save_images.save_images(\n",
    "        _x_r.reshape((BATCH_SIZE, 3, DIM, DIM)), \"generated/samples_groundtruth.png\"\n",
    "    )\n",
    "\n",
    "    session.run(\n",
    "        tf.initialize_all_variables(),\n",
    "        feed_dict={generated_labels_conv: genRandomLabels(BATCH_SIZE, CLASSES)},\n",
    "    )\n",
    "    gen = train_gen()\n",
    "\n",
    "    for iterp in range(PREITERATIONS):\n",
    "        _data, _labels = next(gen)\n",
    "        _, accuracy = session.run(\n",
    "            [disc_train_op, realAccuracy],\n",
    "            feed_dict={\n",
    "                all_real_data_conv: _data,\n",
    "                all_real_label_conv: _labels,\n",
    "                generated_labels_conv: genRandomLabels(BATCH_SIZE, CLASSES),\n",
    "            },\n",
    "        )\n",
    "        if iterp % 100 == 99:\n",
    "            print(\"pretraining accuracy: \" + str(accuracy))\n",
    "\n",
    "    for iteration in range(ITERS):\n",
    "        start_time = time.time()\n",
    "        # Train generator\n",
    "        if iteration > 0:\n",
    "            _ = session.run(\n",
    "                gen_train_op,\n",
    "                feed_dict={generated_labels_conv: genRandomLabels(BATCH_SIZE, CLASSES)},\n",
    "            )\n",
    "        # Train critic\n",
    "        disc_iters = CRITIC_ITERS\n",
    "        for i in range(disc_iters):\n",
    "            _data, _labels = next(gen)\n",
    "            (\n",
    "                _disc_cost,\n",
    "                _disc_cost_test,\n",
    "                class_cost_test,\n",
    "                gen_class_cost,\n",
    "                _gen_cost_test,\n",
    "                _genAccuracy,\n",
    "                _realAccuracy,\n",
    "                _,\n",
    "            ) = session.run(\n",
    "                [\n",
    "                    disc_cost,\n",
    "                    disc_cost_test,\n",
    "                    real_class_cost,\n",
    "                    generated_class_cost,\n",
    "                    gen_cost_test,\n",
    "                    genAccuracy,\n",
    "                    realAccuracy,\n",
    "                    disc_train_op,\n",
    "                ],\n",
    "                feed_dict={\n",
    "                    all_real_data_conv: _data,\n",
    "                    all_real_label_conv: _labels,\n",
    "                    generated_labels_conv: genRandomLabels(BATCH_SIZE, CLASSES),\n",
    "                },\n",
    "            )\n",
    "\n",
    "        lib.plot.plot(\"train disc cost\", _disc_cost)\n",
    "        lib.plot.plot(\"time\", time.time() - start_time)\n",
    "        lib.plot.plot(\"wgan train disc cost\", _disc_cost_test)\n",
    "        lib.plot.plot(\"train class cost\", class_cost_test)\n",
    "        lib.plot.plot(\"generated class cost\", gen_class_cost)\n",
    "        lib.plot.plot(\"gen cost cost\", _gen_cost_test)\n",
    "        lib.plot.plot(\"gen accuracy\", _genAccuracy)\n",
    "        lib.plot.plot(\"real accuracy\", _realAccuracy)\n",
    "\n",
    "        if (iteration % 100 == 99 and iteration < 1000) or iteration % 1000 == 999:\n",
    "            t = time.time()\n",
    "            dev_disc_costs = []\n",
    "            images, labels = next(dev_gen())\n",
    "            (\n",
    "                _dev_disc_cost,\n",
    "                _dev_disc_cost_test,\n",
    "                _class_cost_test,\n",
    "                _gen_class_cost,\n",
    "                _dev_gen_cost_test,\n",
    "                _dev_genAccuracy,\n",
    "                _dev_realAccuracy,\n",
    "            ) = session.run(\n",
    "                [\n",
    "                    disc_cost,\n",
    "                    disc_cost_test,\n",
    "                    real_class_cost,\n",
    "                    generated_class_cost,\n",
    "                    gen_cost_test,\n",
    "                    genAccuracy,\n",
    "                    realAccuracy,\n",
    "                ],\n",
    "                feed_dict={\n",
    "                    all_real_data_conv: images,\n",
    "                    all_real_label_conv: labels,\n",
    "                    generated_labels_conv: genRandomLabels(BATCH_SIZE, CLASSES),\n",
    "                },\n",
    "            )\n",
    "            dev_disc_costs.append(_dev_disc_cost)\n",
    "            lib.plot.plot(\"dev disc cost\", np.mean(dev_disc_costs))\n",
    "            lib.plot.plot(\"wgan dev disc cost\", _dev_disc_cost_test)\n",
    "            lib.plot.plot(\"dev class cost\", _class_cost_test)\n",
    "            lib.plot.plot(\"dev generated class cost\", _gen_class_cost)\n",
    "            lib.plot.plot(\"dev gen  cost\", _dev_gen_cost_test)\n",
    "            lib.plot.plot(\"dev gen accuracy\", _dev_genAccuracy)\n",
    "            lib.plot.plot(\"dev real accuracy\", _dev_realAccuracy)\n",
    "\n",
    "        if iteration % 1000 == 999:\n",
    "            generate_image(iteration)\n",
    "            # Can add generate_good_images method in here if desired\n",
    "\n",
    "        if (iteration < 10) or (iteration % 100 == 99):\n",
    "            lib.plot.flush()\n",
    "\n",
    "        lib.plot.tick()"
   ]
  },
  {
   "cell_type": "code",
   "execution_count": null,
   "id": "5d87e96a",
   "metadata": {},
   "outputs": [],
   "source": []
  },
  {
   "cell_type": "code",
   "execution_count": null,
   "id": "39e2d33f",
   "metadata": {},
   "outputs": [],
   "source": []
  }
 ],
 "metadata": {
  "kernelspec": {
   "display_name": "conda_tensorflow_p36",
   "language": "python",
   "name": "conda_tensorflow_p36"
  },
  "language_info": {
   "codemirror_mode": {
    "name": "ipython",
    "version": 3
   },
   "file_extension": ".py",
   "mimetype": "text/x-python",
   "name": "python",
   "nbconvert_exporter": "python",
   "pygments_lexer": "ipython3",
   "version": "3.6.13"
  }
 },
 "nbformat": 4,
 "nbformat_minor": 5
}
