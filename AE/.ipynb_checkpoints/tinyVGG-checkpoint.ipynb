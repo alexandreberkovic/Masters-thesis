{
 "cells": [
  {
   "cell_type": "code",
   "execution_count": 1,
   "id": "95ee0583",
   "metadata": {},
   "outputs": [
    {
     "name": "stdout",
     "output_type": "stream",
     "text": [
      "1.15.5\n"
     ]
    }
   ],
   "source": [
    "import tensorflow as tf\n",
    "import numpy as np\n",
    "import re #regex\n",
    "from json import load\n",
    "from tensorflow.keras.layers import Conv2D, Activation, MaxPool2D, Flatten, Dense\n",
    "from tensorflow.keras import Model, Sequential\n",
    "from os.path import basename\n",
    "from time import time\n",
    "import os\n",
    "import shutil\n",
    "\n",
    "print(tf.__version__)\n",
    "%config Completer.use_jedi = False"
   ]
  },
  {
   "cell_type": "markdown",
   "id": "02f5b314",
   "metadata": {},
   "source": [
    "## Pre-processing"
   ]
  },
  {
   "cell_type": "code",
   "execution_count": 36,
   "id": "0e33bc8a",
   "metadata": {},
   "outputs": [],
   "source": [
    "directory = '/home/ec2-user/SageMaker/wikiart_styles_64'\n",
    "new_dir = '/home/ec2-user/SageMaker/style_64'"
   ]
  },
  {
   "cell_type": "code",
   "execution_count": 4,
   "id": "6799ca33",
   "metadata": {},
   "outputs": [],
   "source": [
    "# shutil.rmtree('/home/ec2-user/SageMaker/wikiart_styles_224')"
   ]
  },
  {
   "cell_type": "code",
   "execution_count": 38,
   "id": "ba7af9ec",
   "metadata": {},
   "outputs": [],
   "source": [
    "for i in range(len(os.listdir(directory))):\n",
    "    folder = os.path.join(directory,os.listdir(directory)[i])\n",
    "    files = os.listdir(folder)\n",
    "    train = files[:int(0.7*len(files))]\n",
    "    test =  files[int(0.7*len(files)):int(0.85*len(files))]\n",
    "    val = files[int(0.85*len(files)):]\n",
    "    \n",
    "    for img in train:\n",
    "        source = os.path.join(folder,img)\n",
    "        destination = os.path.join(new_dir,'train',os.listdir(directory)[i])\n",
    "        if not os.path.exists(destination):\n",
    "            os.makedirs(destination)\n",
    "        destination = os.path.join(destination,img)\n",
    "#         shutil.move(source, destination)\n",
    "    \n",
    "    for img in test:\n",
    "        source = os.path.join(folder,img)\n",
    "        destination = os.path.join(new_dir,'test',os.listdir(directory)[i])\n",
    "        if not os.path.exists(destination):\n",
    "            os.makedirs(destination)\n",
    "        destination = os.path.join(destination,img)\n",
    "#         shutil.move(source, destination)\n",
    "        \n",
    "    for img in val:\n",
    "        source = os.path.join(folder,img)\n",
    "        destination = os.path.join(new_dir,'val',os.listdir(directory)[i])\n",
    "        if not os.path.exists(destination):\n",
    "            os.makedirs(destination)\n",
    "        destination = os.path.join(destination,img)\n",
    "#         shutil.move(source, destination)\n",
    "        \n",
    "    \n",
    "    "
   ]
  },
  {
   "cell_type": "code",
   "execution_count": 17,
   "id": "1e2a15ee",
   "metadata": {},
   "outputs": [
    {
     "data": {
      "text/plain": [
       "['Contemporary_Realism',\n",
       " 'Cubism',\n",
       " 'Fauvism',\n",
       " 'Minimalism',\n",
       " 'Pop_Art',\n",
       " 'Expressionism',\n",
       " 'Abstract_Expressionism',\n",
       " 'Naive_Art_Primitivism']"
      ]
     },
     "execution_count": 17,
     "metadata": {},
     "output_type": "execute_result"
    }
   ],
   "source": [
    "lst = os.listdir('/home/ec2-user/SageMaker/wikiart_post/train')\n",
    "lst"
   ]
  },
  {
   "cell_type": "code",
   "execution_count": null,
   "id": "49ce3b1b",
   "metadata": {},
   "outputs": [],
   "source": [
    "import shutil\n",
    "import os\n",
    "from pathlib import Path\n",
    "\n",
    "lst = os.listdir('/home/ec2-user/SageMaker/wikiart_pre/train')\n",
    "sets = ['train','test']\n",
    "\n",
    "for i in range(len(lst)):\n",
    "    for j in range(len(sets)):\n",
    "        # path to source directory\n",
    "        src_dir = os.path.join('/home/ec2-user/SageMaker/wikiart_pre',sets[j],lst[i])\n",
    "\n",
    "        # path to destination directory\n",
    "        dest_dir =  os.path.join('/home/ec2-user/SageMaker/wikiart_styles_224',lst[i])\n",
    "        if not os.path.exists(dest_dir):\n",
    "            os.makedirs(dest_dir)\n",
    "\n",
    "        files=os.listdir(src_dir)\n",
    "\n",
    "        # iterating over all the files in\n",
    "        # the source directory\n",
    "        for fname in files:\n",
    "\n",
    "            # copying the files to the\n",
    "            # destination directory\n",
    "\n",
    "            try:\n",
    "                shutil.copy2(os.path.join(src_dir,fname), dest_dir)\n",
    "            except IsADirectoryError:\n",
    "                pass\n",
    "\n"
   ]
  },
  {
   "cell_type": "markdown",
   "id": "76a64d4b",
   "metadata": {},
   "source": [
    "## Training"
   ]
  },
  {
   "cell_type": "code",
   "execution_count": null,
   "id": "96297f6e",
   "metadata": {},
   "outputs": [],
   "source": [
    "# Define path to input image and load class dict\n",
    "training_images = '/home/ec2-user/SageMaker/style_64/train/*/*.jpg'\n",
    "vali_images = '/home/ec2-user/SageMaker/style_64/val/*/*.jpg'\n",
    "test_images = '/home/ec2-user/SageMaker/style_64/test/*/*.jpg'\n",
    "\n",
    "class_dict = load(open('../input/tiny-imagenet/data/class_dict_10.json', 'r'))\n",
    "val_class_dict = load(open('../input/tiny-imagenet/data/val_class_dict_10.json', 'r'))"
   ]
  },
  {
   "cell_type": "code",
   "execution_count": null,
   "id": "13734a56",
   "metadata": {},
   "outputs": [],
   "source": []
  },
  {
   "cell_type": "code",
   "execution_count": null,
   "id": "2bf4b453",
   "metadata": {},
   "outputs": [],
   "source": []
  },
  {
   "cell_type": "code",
   "execution_count": null,
   "id": "3fa22258",
   "metadata": {},
   "outputs": [],
   "source": []
  },
  {
   "cell_type": "code",
   "execution_count": null,
   "id": "ac124b8a",
   "metadata": {},
   "outputs": [],
   "source": []
  }
 ],
 "metadata": {
  "kernelspec": {
   "display_name": "conda_amazonei_tensorflow_p36",
   "language": "python",
   "name": "conda_amazonei_tensorflow_p36"
  },
  "language_info": {
   "codemirror_mode": {
    "name": "ipython",
    "version": 3
   },
   "file_extension": ".py",
   "mimetype": "text/x-python",
   "name": "python",
   "nbconvert_exporter": "python",
   "pygments_lexer": "ipython3",
   "version": "3.6.10"
  }
 },
 "nbformat": 4,
 "nbformat_minor": 5
}
