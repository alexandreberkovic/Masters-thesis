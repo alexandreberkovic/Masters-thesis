{
 "cells": [
  {
   "cell_type": "code",
   "execution_count": 14,
   "id": "f56ebb6c",
   "metadata": {},
   "outputs": [],
   "source": [
    "# dependencies\n",
    "# OS modules\n",
    "import os\n",
    "# Pandas\n",
    "import pandas as pd\n",
    "# In-built time module\n",
    "import time\n",
    "# tqdm for progress bars\n",
    "from tqdm import tqdm\n",
    "# Pillow Image Library\n",
    "from PIL import Image\n",
    "# Numpy module\n",
    "import numpy as np\n",
    "from torchvision import transforms"
   ]
  },
  {
   "cell_type": "code",
   "execution_count": 15,
   "id": "48da1a65",
   "metadata": {},
   "outputs": [],
   "source": [
    "# A list for column names of csv\n",
    "columnNames = list()\n",
    "# A column for label\n",
    "columnNames.append('label')\n",
    "# Other pixels column"
   ]
  },
  {
   "cell_type": "code",
   "execution_count": 16,
   "id": "40a4a267",
   "metadata": {},
   "outputs": [],
   "source": [
    "directory = \"/home/ec2-user/SageMaker/wikiart_styles_64\""
   ]
  },
  {
   "cell_type": "code",
   "execution_count": 17,
   "id": "99050329",
   "metadata": {},
   "outputs": [],
   "source": [
    "data_dir = os.path.join(directory,str(1))"
   ]
  },
  {
   "cell_type": "code",
   "execution_count": 18,
   "id": "c5a349f1",
   "metadata": {},
   "outputs": [],
   "source": [
    "lst = os.listdir(data_dir)"
   ]
  },
  {
   "cell_type": "code",
   "execution_count": 19,
   "id": "dad06f58",
   "metadata": {},
   "outputs": [],
   "source": [
    "img = Image.open(os.path.join(data_dir, lst[0]))"
   ]
  },
  {
   "cell_type": "code",
   "execution_count": 20,
   "id": "968be171",
   "metadata": {},
   "outputs": [],
   "source": [
    "convert_tensor = transforms.ToTensor()"
   ]
  },
  {
   "cell_type": "code",
   "execution_count": 21,
   "id": "20665375",
   "metadata": {},
   "outputs": [],
   "source": [
    "tensor = convert_tensor(img)"
   ]
  },
  {
   "cell_type": "code",
   "execution_count": 25,
   "id": "afd79fea",
   "metadata": {},
   "outputs": [],
   "source": [
    "def flatten(t):\n",
    "    t = t.reshape(1, -1)\n",
    "    t = t.squeeze()\n",
    "    return t"
   ]
  },
  {
   "cell_type": "code",
   "execution_count": 29,
   "id": "b358936d",
   "metadata": {},
   "outputs": [],
   "source": [
    "t = flatten(tensor)"
   ]
  },
  {
   "cell_type": "code",
   "execution_count": 30,
   "id": "cfe0dbca",
   "metadata": {},
   "outputs": [],
   "source": [
    "df = pd.DataFrame([t])"
   ]
  },
  {
   "cell_type": "code",
   "execution_count": 31,
   "id": "15997431",
   "metadata": {},
   "outputs": [
    {
     "data": {
      "text/html": [
       "<div>\n",
       "<style scoped>\n",
       "    .dataframe tbody tr th:only-of-type {\n",
       "        vertical-align: middle;\n",
       "    }\n",
       "\n",
       "    .dataframe tbody tr th {\n",
       "        vertical-align: top;\n",
       "    }\n",
       "\n",
       "    .dataframe thead th {\n",
       "        text-align: right;\n",
       "    }\n",
       "</style>\n",
       "<table border=\"1\" class=\"dataframe\">\n",
       "  <thead>\n",
       "    <tr style=\"text-align: right;\">\n",
       "      <th></th>\n",
       "      <th>0</th>\n",
       "      <th>1</th>\n",
       "      <th>2</th>\n",
       "      <th>3</th>\n",
       "      <th>4</th>\n",
       "      <th>5</th>\n",
       "      <th>6</th>\n",
       "      <th>7</th>\n",
       "      <th>8</th>\n",
       "      <th>9</th>\n",
       "      <th>...</th>\n",
       "      <th>12278</th>\n",
       "      <th>12279</th>\n",
       "      <th>12280</th>\n",
       "      <th>12281</th>\n",
       "      <th>12282</th>\n",
       "      <th>12283</th>\n",
       "      <th>12284</th>\n",
       "      <th>12285</th>\n",
       "      <th>12286</th>\n",
       "      <th>12287</th>\n",
       "    </tr>\n",
       "  </thead>\n",
       "  <tbody>\n",
       "    <tr>\n",
       "      <th>0</th>\n",
       "      <td>tensor(0.0941)</td>\n",
       "      <td>tensor(0.1098)</td>\n",
       "      <td>tensor(0.0745)</td>\n",
       "      <td>tensor(0.0431)</td>\n",
       "      <td>tensor(0.0549)</td>\n",
       "      <td>tensor(0.0510)</td>\n",
       "      <td>tensor(0.1412)</td>\n",
       "      <td>tensor(0.0706)</td>\n",
       "      <td>tensor(0.1608)</td>\n",
       "      <td>tensor(0.2118)</td>\n",
       "      <td>...</td>\n",
       "      <td>tensor(0.0941)</td>\n",
       "      <td>tensor(0.0784)</td>\n",
       "      <td>tensor(0.0902)</td>\n",
       "      <td>tensor(0.0980)</td>\n",
       "      <td>tensor(0.1216)</td>\n",
       "      <td>tensor(0.0980)</td>\n",
       "      <td>tensor(0.0784)</td>\n",
       "      <td>tensor(0.0824)</td>\n",
       "      <td>tensor(0.0980)</td>\n",
       "      <td>tensor(0.1020)</td>\n",
       "    </tr>\n",
       "  </tbody>\n",
       "</table>\n",
       "<p>1 rows × 12288 columns</p>\n",
       "</div>"
      ],
      "text/plain": [
       "            0               1               2               3      \\\n",
       "0  tensor(0.0941)  tensor(0.1098)  tensor(0.0745)  tensor(0.0431)   \n",
       "\n",
       "            4               5               6               7      \\\n",
       "0  tensor(0.0549)  tensor(0.0510)  tensor(0.1412)  tensor(0.0706)   \n",
       "\n",
       "            8               9      ...           12278           12279  \\\n",
       "0  tensor(0.1608)  tensor(0.2118)  ...  tensor(0.0941)  tensor(0.0784)   \n",
       "\n",
       "            12280           12281           12282           12283  \\\n",
       "0  tensor(0.0902)  tensor(0.0980)  tensor(0.1216)  tensor(0.0980)   \n",
       "\n",
       "            12284           12285           12286           12287  \n",
       "0  tensor(0.0784)  tensor(0.0824)  tensor(0.0980)  tensor(0.1020)  \n",
       "\n",
       "[1 rows x 12288 columns]"
      ]
     },
     "execution_count": 31,
     "metadata": {},
     "output_type": "execute_result"
    }
   ],
   "source": [
    "df"
   ]
  },
  {
   "cell_type": "code",
   "execution_count": 10,
   "id": "a23060f5",
   "metadata": {},
   "outputs": [
    {
     "name": "stderr",
     "output_type": "stream",
     "text": [
      "  0%|          | 0/1333 [00:00<?, ?it/s]"
     ]
    },
    {
     "name": "stdout",
     "output_type": "stream",
     "text": [
      "Iterating: 0 folder\n",
      "<PIL.PngImagePlugin.PngImageFile image mode=RGB size=64x64 at 0x7F5A6336E0B8>\n"
     ]
    },
    {
     "name": "stderr",
     "output_type": "stream",
     "text": [
      "\n"
     ]
    },
    {
     "ename": "ValueError",
     "evalue": "cannot set a row with mismatched columns",
     "output_type": "error",
     "traceback": [
      "\u001b[0;31m---------------------------------------------------------------------------\u001b[0m",
      "\u001b[0;31mValueError\u001b[0m                                Traceback (most recent call last)",
      "\u001b[0;32m<ipython-input-10-07623c7a36da>\u001b[0m in \u001b[0;36m<module>\u001b[0;34m\u001b[0m\n\u001b[1;32m     40\u001b[0m \u001b[0;34m\u001b[0m\u001b[0m\n\u001b[1;32m     41\u001b[0m         \u001b[0;31m# add the data row to training data dataframe\u001b[0m\u001b[0;34m\u001b[0m\u001b[0;34m\u001b[0m\u001b[0;34m\u001b[0m\u001b[0m\n\u001b[0;32m---> 42\u001b[0;31m         \u001b[0mtrain_data\u001b[0m\u001b[0;34m.\u001b[0m\u001b[0mloc\u001b[0m\u001b[0;34m[\u001b[0m\u001b[0mnum_images\u001b[0m\u001b[0;34m]\u001b[0m \u001b[0;34m=\u001b[0m \u001b[0mdata\u001b[0m\u001b[0;34m\u001b[0m\u001b[0;34m\u001b[0m\u001b[0m\n\u001b[0m\u001b[1;32m     43\u001b[0m \u001b[0;34m\u001b[0m\u001b[0m\n\u001b[1;32m     44\u001b[0m         \u001b[0;31m# increment the number of images\u001b[0m\u001b[0;34m\u001b[0m\u001b[0;34m\u001b[0m\u001b[0;34m\u001b[0m\u001b[0m\n",
      "\u001b[0;32m~/anaconda3/envs/amazonei_pytorch_latest_p36/lib/python3.6/site-packages/pandas/core/indexing.py\u001b[0m in \u001b[0;36m__setitem__\u001b[0;34m(self, key, value)\u001b[0m\n\u001b[1;32m    668\u001b[0m \u001b[0;34m\u001b[0m\u001b[0m\n\u001b[1;32m    669\u001b[0m         \u001b[0miloc\u001b[0m \u001b[0;34m=\u001b[0m \u001b[0mself\u001b[0m \u001b[0;32mif\u001b[0m \u001b[0mself\u001b[0m\u001b[0;34m.\u001b[0m\u001b[0mname\u001b[0m \u001b[0;34m==\u001b[0m \u001b[0;34m\"iloc\"\u001b[0m \u001b[0;32melse\u001b[0m \u001b[0mself\u001b[0m\u001b[0;34m.\u001b[0m\u001b[0mobj\u001b[0m\u001b[0;34m.\u001b[0m\u001b[0miloc\u001b[0m\u001b[0;34m\u001b[0m\u001b[0;34m\u001b[0m\u001b[0m\n\u001b[0;32m--> 670\u001b[0;31m         \u001b[0miloc\u001b[0m\u001b[0;34m.\u001b[0m\u001b[0m_setitem_with_indexer\u001b[0m\u001b[0;34m(\u001b[0m\u001b[0mindexer\u001b[0m\u001b[0;34m,\u001b[0m \u001b[0mvalue\u001b[0m\u001b[0;34m)\u001b[0m\u001b[0;34m\u001b[0m\u001b[0;34m\u001b[0m\u001b[0m\n\u001b[0m\u001b[1;32m    671\u001b[0m \u001b[0;34m\u001b[0m\u001b[0m\n\u001b[1;32m    672\u001b[0m     \u001b[0;32mdef\u001b[0m \u001b[0m_validate_key\u001b[0m\u001b[0;34m(\u001b[0m\u001b[0mself\u001b[0m\u001b[0;34m,\u001b[0m \u001b[0mkey\u001b[0m\u001b[0;34m,\u001b[0m \u001b[0maxis\u001b[0m\u001b[0;34m:\u001b[0m \u001b[0mint\u001b[0m\u001b[0;34m)\u001b[0m\u001b[0;34m:\u001b[0m\u001b[0;34m\u001b[0m\u001b[0;34m\u001b[0m\u001b[0m\n",
      "\u001b[0;32m~/anaconda3/envs/amazonei_pytorch_latest_p36/lib/python3.6/site-packages/pandas/core/indexing.py\u001b[0m in \u001b[0;36m_setitem_with_indexer\u001b[0;34m(self, indexer, value)\u001b[0m\n\u001b[1;32m   1624\u001b[0m \u001b[0;34m\u001b[0m\u001b[0m\n\u001b[1;32m   1625\u001b[0m             \u001b[0;32mif\u001b[0m \u001b[0mmissing\u001b[0m\u001b[0;34m:\u001b[0m\u001b[0;34m\u001b[0m\u001b[0;34m\u001b[0m\u001b[0m\n\u001b[0;32m-> 1626\u001b[0;31m                 \u001b[0mself\u001b[0m\u001b[0;34m.\u001b[0m\u001b[0m_setitem_with_indexer_missing\u001b[0m\u001b[0;34m(\u001b[0m\u001b[0mindexer\u001b[0m\u001b[0;34m,\u001b[0m \u001b[0mvalue\u001b[0m\u001b[0;34m)\u001b[0m\u001b[0;34m\u001b[0m\u001b[0;34m\u001b[0m\u001b[0m\n\u001b[0m\u001b[1;32m   1627\u001b[0m                 \u001b[0;32mreturn\u001b[0m\u001b[0;34m\u001b[0m\u001b[0;34m\u001b[0m\u001b[0m\n\u001b[1;32m   1628\u001b[0m \u001b[0;34m\u001b[0m\u001b[0m\n",
      "\u001b[0;32m~/anaconda3/envs/amazonei_pytorch_latest_p36/lib/python3.6/site-packages/pandas/core/indexing.py\u001b[0m in \u001b[0;36m_setitem_with_indexer_missing\u001b[0;34m(self, indexer, value)\u001b[0m\n\u001b[1;32m   1854\u001b[0m                     \u001b[0;31m# must have conforming columns\u001b[0m\u001b[0;34m\u001b[0m\u001b[0;34m\u001b[0m\u001b[0;34m\u001b[0m\u001b[0m\n\u001b[1;32m   1855\u001b[0m                     \u001b[0;32mif\u001b[0m \u001b[0mlen\u001b[0m\u001b[0;34m(\u001b[0m\u001b[0mvalue\u001b[0m\u001b[0;34m)\u001b[0m \u001b[0;34m!=\u001b[0m \u001b[0mlen\u001b[0m\u001b[0;34m(\u001b[0m\u001b[0mself\u001b[0m\u001b[0;34m.\u001b[0m\u001b[0mobj\u001b[0m\u001b[0;34m.\u001b[0m\u001b[0mcolumns\u001b[0m\u001b[0;34m)\u001b[0m\u001b[0;34m:\u001b[0m\u001b[0;34m\u001b[0m\u001b[0;34m\u001b[0m\u001b[0m\n\u001b[0;32m-> 1856\u001b[0;31m                         \u001b[0;32mraise\u001b[0m \u001b[0mValueError\u001b[0m\u001b[0;34m(\u001b[0m\u001b[0;34m\"cannot set a row with mismatched columns\"\u001b[0m\u001b[0;34m)\u001b[0m\u001b[0;34m\u001b[0m\u001b[0;34m\u001b[0m\u001b[0m\n\u001b[0m\u001b[1;32m   1857\u001b[0m \u001b[0;34m\u001b[0m\u001b[0m\n\u001b[1;32m   1858\u001b[0m                 \u001b[0mvalue\u001b[0m \u001b[0;34m=\u001b[0m \u001b[0mSeries\u001b[0m\u001b[0;34m(\u001b[0m\u001b[0mvalue\u001b[0m\u001b[0;34m,\u001b[0m \u001b[0mindex\u001b[0m\u001b[0;34m=\u001b[0m\u001b[0mself\u001b[0m\u001b[0;34m.\u001b[0m\u001b[0mobj\u001b[0m\u001b[0;34m.\u001b[0m\u001b[0mcolumns\u001b[0m\u001b[0;34m,\u001b[0m \u001b[0mname\u001b[0m\u001b[0;34m=\u001b[0m\u001b[0mindexer\u001b[0m\u001b[0;34m)\u001b[0m\u001b[0;34m\u001b[0m\u001b[0;34m\u001b[0m\u001b[0m\n",
      "\u001b[0;31mValueError\u001b[0m: cannot set a row with mismatched columns"
     ]
    }
   ],
   "source": [
    "# replace 784 with your image size, here it is 28x28=784\n",
    "# iterate and build headers\n",
    "for i in range(64*64):\n",
    "    pixel = str(i)\n",
    "    columnNames.append(pixel)\n",
    "\n",
    "# Create a Pandas dataframe for storing data\n",
    "train_data = pd.DataFrame(columns = columnNames)\n",
    "\n",
    "# calculates the total number of images in the dataset initially 0\n",
    "num_images = 0\n",
    "classes = 14\n",
    "directory = \"/home/ec2-user/SageMaker/wikiart_styles_64\"\n",
    "# iterate through every folder of the dataset\n",
    "for i in range(classes):\n",
    "\n",
    "    # print messeage\n",
    "    print(\"Iterating: \" + str(i) + \" folder\")\n",
    "\n",
    "    # itreate through every image in the folder\n",
    "    # tqdm shows progress bar\n",
    "    data_dir = os.path.join(directory,str(i))\n",
    "    for file in tqdm(os.listdir(data_dir)):\n",
    "        # open image using PIL Image module\n",
    "        img = Image.open(os.path.join(data_dir, file))\n",
    "        print(img)\n",
    "        # resize to 28x28, replace with your size\n",
    "#         img = img.resize((28, 28), Image.NEAREST)\n",
    "        # load image  \n",
    "        img.load()\n",
    "        # create a numpy array for image pixels\n",
    "        imgdata = np.asarray(img, dtype=\"int32\")\n",
    "       \n",
    "        # temporary array to store pixel values\n",
    "        data = []\n",
    "        data.append(str(i))\n",
    "        for y in range(28):\n",
    "            for x in range(28):\n",
    "                data.append(imgdata[x][y])\n",
    "\n",
    "        # add the data row to training data dataframe\n",
    "        train_data.loc[num_images] = data\n",
    "\n",
    "        # increment the number of images\n",
    "        num_images += 1\n",
    "\n",
    "# write the dataframe to the CSV file\n",
    "train_data.to_csv(\"train_converted.csv\", index=False)"
   ]
  },
  {
   "cell_type": "code",
   "execution_count": null,
   "id": "9c66ded7",
   "metadata": {},
   "outputs": [],
   "source": []
  }
 ],
 "metadata": {
  "kernelspec": {
   "display_name": "conda_amazonei_pytorch_latest_p36",
   "language": "python",
   "name": "conda_amazonei_pytorch_latest_p36"
  },
  "language_info": {
   "codemirror_mode": {
    "name": "ipython",
    "version": 3
   },
   "file_extension": ".py",
   "mimetype": "text/x-python",
   "name": "python",
   "nbconvert_exporter": "python",
   "pygments_lexer": "ipython3",
   "version": "3.6.13"
  }
 },
 "nbformat": 4,
 "nbformat_minor": 5
}
