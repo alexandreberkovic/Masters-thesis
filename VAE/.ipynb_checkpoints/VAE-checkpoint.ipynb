{
 "cells": [
  {
   "cell_type": "code",
   "execution_count": 1,
   "metadata": {
    "scrolled": true
   },
   "outputs": [
    {
     "name": "stderr",
     "output_type": "stream",
     "text": [
      "Using TensorFlow backend.\n"
     ]
    }
   ],
   "source": [
    "'''This script demonstrates how to build a variational autoencoder with Keras.\n",
    " #Reference\n",
    " - Auto-Encoding Variational Bayes\n",
    "   https://arxiv.org/abs/1312.6114\n",
    "'''\n",
    "from __future__ import print_function\n",
    "\n",
    "import numpy as np\n",
    "import matplotlib.pyplot as plt\n",
    "from scipy.stats import norm\n",
    "import tensorflow as tf\n",
    "\n",
    "from keras.layers import Input, Dense, Lambda, Conv2D, Conv2DTranspose, Reshape, BatchNormalization, LeakyReLU, Flatten\n",
    "from keras.models import Model\n",
    "from keras import backend as K\n",
    "from keras import metrics\n",
    "from keras.datasets import mnist\n",
    "from keras.datasets import cifar10\n",
    "import keras "
   ]
  },
  {
   "cell_type": "code",
   "execution_count": 16,
   "metadata": {},
   "outputs": [],
   "source": [
    "batch_size = 1024\n",
    "original_dim = 32*32*3\n",
    "img_rows, img_cols, img_channels = 32, 32, 3\n",
    "latent_dim = 2\n",
    "intermediate_dim = 100\n",
    "epochs = 50\n",
    "epsilon_std = 1.0"
   ]
  },
  {
   "cell_type": "code",
   "execution_count": 17,
   "metadata": {},
   "outputs": [],
   "source": [
    "x = Input(shape=(original_dim,))\n",
    "a = Reshape((img_rows, img_cols, img_channels))(x)\n",
    "a = Conv2D(32, 3, strides=(2,2), padding='same')(a)\n",
    "a = BatchNormalization()(a)\n",
    "a = LeakyReLU()(a)\n",
    "a = Conv2D(64, 3, strides=(2,2), padding='same')(a)\n",
    "a = BatchNormalization()(a)\n",
    "a = LeakyReLU()(a)\n",
    "a = Conv2D(128, 3, strides=(2,2), padding='same')(a)\n",
    "a = BatchNormalization()(a)\n",
    "a = LeakyReLU()(a)\n",
    "a = Flatten()(a)\n",
    "h = Dense(intermediate_dim, activation='relu')(a)\n",
    "z_mean = Dense(latent_dim)(h)\n",
    "z_log_var = Dense(latent_dim)(h)"
   ]
  },
  {
   "cell_type": "code",
   "execution_count": 18,
   "metadata": {},
   "outputs": [],
   "source": [
    "def sampling(args):\n",
    "    z_mean, z_log_var = args\n",
    "    epsilon = K.random_normal(shape=(K.shape(z_mean)[0], latent_dim), mean=0.,\n",
    "                              stddev=epsilon_std)\n",
    "    return z_mean + K.exp(z_log_var / 2) * epsilon"
   ]
  },
  {
   "cell_type": "code",
   "execution_count": 19,
   "metadata": {},
   "outputs": [],
   "source": [
    "# note that \"output_shape\" isn't necessary with the TensorFlow backend\n",
    "z = Lambda(sampling, output_shape=(latent_dim,))([z_mean, z_log_var])"
   ]
  },
  {
   "cell_type": "code",
   "execution_count": 20,
   "metadata": {},
   "outputs": [],
   "source": [
    "# we instantiate these layers separately so as to reuse them later\n",
    "decoder_h = Dense(intermediate_dim, activation='relu')\n",
    "decoder_fc = Dense(2048, activation='relu')\n",
    "decoder_reshape = Reshape((128, 4, 4))\n",
    "decoder_conv1 = Conv2DTranspose(64, 3)\n",
    "decoder_bn1 = BatchNormalization()\n",
    "decoder_activ1 = LeakyReLU()\n",
    "decoder_conv2 = Conv2DTranspose(32, 3)\n",
    "decoder_bn2 = BatchNormalization()\n",
    "decoder_activ2 = LeakyReLU()\n",
    "decoder_conv3 = Conv2DTranspose(1, 3)\n",
    "decoder_flatten = Flatten()\n",
    "decoder_mean = Dense(original_dim, activation='sigmoid')\n",
    "\n",
    "h_decoded = decoder_h(z)\n",
    "a = decoder_fc(h_decoded)\n",
    "a = decoder_reshape(a)\n",
    "a = decoder_conv1(a)\n",
    "a = decoder_bn1(a)\n",
    "a = decoder_activ1(a)\n",
    "a = decoder_conv2(a)\n",
    "a = decoder_bn2(a)\n",
    "a = decoder_activ2(a)\n",
    "a = decoder_conv3(a)\n",
    "a = decoder_flatten(a)\n",
    "x_decoded_mean = decoder_mean(a)"
   ]
  },
  {
   "cell_type": "code",
   "execution_count": 21,
   "metadata": {},
   "outputs": [],
   "source": [
    "# instantiate VAE model\n",
    "vae = Model(x, x_decoded_mean)"
   ]
  },
  {
   "cell_type": "code",
   "execution_count": 22,
   "metadata": {},
   "outputs": [],
   "source": [
    "# Compute VAE loss\n",
    "xent_loss = original_dim * metrics.binary_crossentropy(x, x_decoded_mean)\n",
    "kl_loss = - 0.5 * K.sum(1 + z_log_var - K.square(z_mean) - K.exp(z_log_var), axis=-1)\n",
    "vae_loss = K.mean(xent_loss + kl_loss)"
   ]
  },
  {
   "cell_type": "code",
   "execution_count": 23,
   "metadata": {},
   "outputs": [
    {
     "name": "stdout",
     "output_type": "stream",
     "text": [
      "Model: \"model_2\"\n",
      "__________________________________________________________________________________________________\n",
      "Layer (type)                    Output Shape         Param #     Connected to                     \n",
      "==================================================================================================\n",
      "input_2 (InputLayer)            (None, 3072)         0                                            \n",
      "__________________________________________________________________________________________________\n",
      "reshape_3 (Reshape)             (None, 32, 32, 3)    0           input_2[0][0]                    \n",
      "__________________________________________________________________________________________________\n",
      "conv2d_4 (Conv2D)               (None, 16, 16, 32)   896         reshape_3[0][0]                  \n",
      "__________________________________________________________________________________________________\n",
      "batch_normalization_6 (BatchNor (None, 16, 16, 32)   128         conv2d_4[0][0]                   \n",
      "__________________________________________________________________________________________________\n",
      "leaky_re_lu_6 (LeakyReLU)       (None, 16, 16, 32)   0           batch_normalization_6[0][0]      \n",
      "__________________________________________________________________________________________________\n",
      "conv2d_5 (Conv2D)               (None, 8, 8, 64)     18496       leaky_re_lu_6[0][0]              \n",
      "__________________________________________________________________________________________________\n",
      "batch_normalization_7 (BatchNor (None, 8, 8, 64)     256         conv2d_5[0][0]                   \n",
      "__________________________________________________________________________________________________\n",
      "leaky_re_lu_7 (LeakyReLU)       (None, 8, 8, 64)     0           batch_normalization_7[0][0]      \n",
      "__________________________________________________________________________________________________\n",
      "conv2d_6 (Conv2D)               (None, 4, 4, 128)    73856       leaky_re_lu_7[0][0]              \n",
      "__________________________________________________________________________________________________\n",
      "batch_normalization_8 (BatchNor (None, 4, 4, 128)    512         conv2d_6[0][0]                   \n",
      "__________________________________________________________________________________________________\n",
      "leaky_re_lu_8 (LeakyReLU)       (None, 4, 4, 128)    0           batch_normalization_8[0][0]      \n",
      "__________________________________________________________________________________________________\n",
      "flatten_3 (Flatten)             (None, 2048)         0           leaky_re_lu_8[0][0]              \n",
      "__________________________________________________________________________________________________\n",
      "dense_7 (Dense)                 (None, 100)          204900      flatten_3[0][0]                  \n",
      "__________________________________________________________________________________________________\n",
      "dense_8 (Dense)                 (None, 2)            202         dense_7[0][0]                    \n",
      "__________________________________________________________________________________________________\n",
      "dense_9 (Dense)                 (None, 2)            202         dense_7[0][0]                    \n",
      "__________________________________________________________________________________________________\n",
      "lambda_2 (Lambda)               (None, 2)            0           dense_8[0][0]                    \n",
      "                                                                 dense_9[0][0]                    \n",
      "__________________________________________________________________________________________________\n",
      "dense_10 (Dense)                (None, 100)          300         lambda_2[0][0]                   \n",
      "__________________________________________________________________________________________________\n",
      "dense_11 (Dense)                (None, 2048)         206848      dense_10[0][0]                   \n",
      "__________________________________________________________________________________________________\n",
      "reshape_4 (Reshape)             (None, 128, 4, 4)    0           dense_11[0][0]                   \n",
      "__________________________________________________________________________________________________\n",
      "conv2d_transpose_4 (Conv2DTrans (None, 130, 6, 64)   2368        reshape_4[0][0]                  \n",
      "__________________________________________________________________________________________________\n",
      "batch_normalization_9 (BatchNor (None, 130, 6, 64)   256         conv2d_transpose_4[0][0]         \n",
      "__________________________________________________________________________________________________\n",
      "leaky_re_lu_9 (LeakyReLU)       (None, 130, 6, 64)   0           batch_normalization_9[0][0]      \n",
      "__________________________________________________________________________________________________\n",
      "conv2d_transpose_5 (Conv2DTrans (None, 132, 8, 32)   18464       leaky_re_lu_9[0][0]              \n",
      "__________________________________________________________________________________________________\n",
      "batch_normalization_10 (BatchNo (None, 132, 8, 32)   128         conv2d_transpose_5[0][0]         \n",
      "__________________________________________________________________________________________________\n",
      "leaky_re_lu_10 (LeakyReLU)      (None, 132, 8, 32)   0           batch_normalization_10[0][0]     \n",
      "__________________________________________________________________________________________________\n",
      "conv2d_transpose_6 (Conv2DTrans (None, 134, 10, 1)   289         leaky_re_lu_10[0][0]             \n",
      "__________________________________________________________________________________________________\n",
      "flatten_4 (Flatten)             (None, 1340)         0           conv2d_transpose_6[0][0]         \n",
      "__________________________________________________________________________________________________\n",
      "dense_12 (Dense)                (None, 3072)         4119552     flatten_4[0][0]                  \n",
      "==================================================================================================\n",
      "Total params: 4,647,653\n",
      "Trainable params: 4,647,013\n",
      "Non-trainable params: 640\n",
      "__________________________________________________________________________________________________\n"
     ]
    },
    {
     "name": "stderr",
     "output_type": "stream",
     "text": [
      "/home/ec2-user/anaconda3/envs/tensorflow2_p36/lib/python3.6/site-packages/keras/engine/training_utils.py:819: UserWarning: Output dense_12 missing from loss dictionary. We assume this was done on purpose. The fit and evaluate APIs will not be expecting any data to be passed to dense_12.\n",
      "  'be expecting any data to be passed to {0}.'.format(name))\n"
     ]
    }
   ],
   "source": [
    "vae.add_loss(vae_loss)\n",
    "vae.compile(optimizer='rmsprop')\n",
    "vae.summary()"
   ]
  },
  {
   "cell_type": "code",
   "execution_count": 24,
   "metadata": {},
   "outputs": [],
   "source": [
    "# pip install tf-nightly"
   ]
  },
  {
   "cell_type": "code",
   "execution_count": 25,
   "metadata": {},
   "outputs": [
    {
     "name": "stdout",
     "output_type": "stream",
     "text": [
      "[name: \"/device:CPU:0\"\n",
      "device_type: \"CPU\"\n",
      "memory_limit: 268435456\n",
      "locality {\n",
      "}\n",
      "incarnation: 14341247942317895896\n",
      ", name: \"/device:XLA_CPU:0\"\n",
      "device_type: \"XLA_CPU\"\n",
      "memory_limit: 17179869184\n",
      "locality {\n",
      "}\n",
      "incarnation: 9423389149440914806\n",
      "physical_device_desc: \"device: XLA_CPU device\"\n",
      "]\n"
     ]
    }
   ],
   "source": [
    "from tensorflow.python.client import device_lib\n",
    "print(device_lib.list_local_devices())"
   ]
  },
  {
   "cell_type": "code",
   "execution_count": null,
   "metadata": {},
   "outputs": [],
   "source": []
  },
  {
   "cell_type": "code",
   "execution_count": null,
   "metadata": {},
   "outputs": [],
   "source": []
  },
  {
   "cell_type": "code",
   "execution_count": null,
   "metadata": {},
   "outputs": [],
   "source": []
  },
  {
   "cell_type": "code",
   "execution_count": null,
   "metadata": {},
   "outputs": [],
   "source": []
  },
  {
   "cell_type": "code",
   "execution_count": 12,
   "metadata": {},
   "outputs": [
    {
     "name": "stdout",
     "output_type": "stream",
     "text": [
      "Found 29960 images belonging to 3 classes.\n",
      "Batch shape=(32, 256, 256, 3), min=0.000, max=255.000\n"
     ]
    }
   ],
   "source": [
    "# example of progressively loading images from file\n",
    "from keras.preprocessing.image import ImageDataGenerator\n",
    "# create generator\n",
    "datagen = ImageDataGenerator()\n",
    "# prepare an iterators for each dataset\n",
    "data = datagen.flow_from_directory('/home/ec2-user/SageMaker/genre-64', class_mode='binary')\n",
    "# confirm the iterator works\n",
    "batchX, batchy = data.next()\n",
    "print('Batch shape=%s, min=%.3f, max=%.3f' % (batchX.shape, batchX.min(), batchX.max()))"
   ]
  },
  {
   "cell_type": "code",
   "execution_count": 13,
   "metadata": {},
   "outputs": [
    {
     "ename": "NameError",
     "evalue": "name 'Path' is not defined",
     "output_type": "error",
     "traceback": [
      "\u001b[0;31m---------------------------------------------------------------------------\u001b[0m",
      "\u001b[0;31mNameError\u001b[0m                                 Traceback (most recent call last)",
      "\u001b[0;32m<ipython-input-13-e47a78995c93>\u001b[0m in \u001b[0;36m<module>\u001b[0;34m\u001b[0m\n\u001b[0;32m----> 1\u001b[0;31m \u001b[0msrc_img_path\u001b[0m  \u001b[0;34m=\u001b[0m \u001b[0mPath\u001b[0m\u001b[0;34m(\u001b[0m\u001b[0;34m'/home/ec2-user/SageMaker/genre-64'\u001b[0m\u001b[0;34m)\u001b[0m\u001b[0;34m\u001b[0m\u001b[0;34m\u001b[0m\u001b[0m\n\u001b[0m",
      "\u001b[0;31mNameError\u001b[0m: name 'Path' is not defined"
     ]
    }
   ],
   "source": [
    "src_img_path  = Path('/home/ec2-user/SageMaker/genre-64')"
   ]
  },
  {
   "cell_type": "code",
   "execution_count": null,
   "metadata": {},
   "outputs": [],
   "source": [
    "# This dictionary should be updated to hold the absolute number of images associated with each genre used during training\n",
    "styles = {\n",
    "    \"portraits\": 14981,\n",
    "    \"landscapes\": 14971\n",
    "}\n",
    "\n",
    "styleNum = {\n",
    "    \"portraits\": 0,\n",
    "    \"landscapes\": 1\n",
    "}\n",
    "    \n",
    "curPos = {\n",
    "    \"portraits\": 0,\n",
    "    \"landscapes\": 0\n",
    "}"
   ]
  },
  {
   "cell_type": "code",
   "execution_count": null,
   "metadata": {},
   "outputs": [],
   "source": [
    "testNums = {}\n",
    "trainNums = {}"
   ]
  },
  {
   "cell_type": "code",
   "execution_count": 138,
   "metadata": {},
   "outputs": [],
   "source": [
    "# Generate test set of images made up of 1/20 of the images (per genre)\n",
    "for k, v in styles.items():\n",
    "    # put a twentieth of paintings in here\n",
    "    nums = range(v)\n",
    "    random.shuffle(list(nums))\n",
    "    testNums[k] = nums[0 : v // 20]\n",
    "    trainNums[k] = nums[v // 20 :]"
   ]
  },
  {
   "cell_type": "code",
   "execution_count": 139,
   "metadata": {},
   "outputs": [],
   "source": [
    "import random"
   ]
  },
  {
   "cell_type": "code",
   "execution_count": 140,
   "metadata": {},
   "outputs": [
    {
     "data": {
      "text/plain": [
       "{'portraits': range(749, 14981), 'landscapes': range(748, 14971)}"
      ]
     },
     "execution_count": 140,
     "metadata": {},
     "output_type": "execute_result"
    }
   ],
   "source": [
    "trainNums"
   ]
  },
  {
   "cell_type": "code",
   "execution_count": 141,
   "metadata": {},
   "outputs": [],
   "source": [
    "from PIL import Image\n",
    "from numpy import asarray\n",
    "import os\n",
    "# load the image\n",
    "portrait_dir = os.path.join(src_img_path,'portraits')\n",
    "landscapes_dir = os.path.join(src_img_path,'landscapes')"
   ]
  },
  {
   "cell_type": "code",
   "execution_count": 142,
   "metadata": {},
   "outputs": [],
   "source": [
    "def data_mat(path):\n",
    "    lst = []\n",
    "    images = os.listdir(path)\n",
    "    for image in images:\n",
    "        try:\n",
    "            img = Image.open(os.path.join(path,image))\n",
    "            data = asarray(img)\n",
    "            lst.append(data)\n",
    "        except Exception:\n",
    "            pass\n",
    "    return lst"
   ]
  },
  {
   "cell_type": "code",
   "execution_count": 144,
   "metadata": {},
   "outputs": [],
   "source": [
    "# portraits = data_mat(portrait_dir)\n",
    "# landscapes = data_mat(landscapes_dir)"
   ]
  },
  {
   "cell_type": "code",
   "execution_count": null,
   "metadata": {},
   "outputs": [],
   "source": [
    "train = portraits[:int(len(portraits)*0.8)] + landscapes[:int(len(landscapes)*0.8)]\n",
    "test = portraits[int(len(portraits)*0.8):] + landscapes[int(len(landscapes)*0.8):]"
   ]
  },
  {
   "cell_type": "code",
   "execution_count": 84,
   "metadata": {},
   "outputs": [],
   "source": [
    "for i in range(len(train)):\n",
    "    train[i] = train[i].astype('float32') / 255.\n",
    "    train[i] = train[i].reshape((len(train[i]), np.prod(train[i].shape[1:])))\n",
    "for i in range(len(test)):\n",
    "    test[i] = test[i].astype('float32') / 255.\n",
    "    test[i] = test[i].reshape((len(test[i]), np.prod(test[i].shape[1:])))"
   ]
  },
  {
   "cell_type": "code",
   "execution_count": 88,
   "metadata": {},
   "outputs": [
    {
     "data": {
      "text/plain": [
       "(60000, 784)"
      ]
     },
     "execution_count": 88,
     "metadata": {},
     "output_type": "execute_result"
    }
   ],
   "source": [
    "x_train.shape"
   ]
  },
  {
   "cell_type": "code",
   "execution_count": 95,
   "metadata": {},
   "outputs": [],
   "source": [
    "# pip install tensorflow_datasets"
   ]
  },
  {
   "cell_type": "code",
   "execution_count": 96,
   "metadata": {},
   "outputs": [],
   "source": [
    "import tensorflow as tf\n",
    "import tensorflow_datasets as tfds"
   ]
  },
  {
   "cell_type": "code",
   "execution_count": 108,
   "metadata": {},
   "outputs": [],
   "source": [
    "builder = tfds.ImageFolder('/home/ec2-user/SageMaker/wikiart_post')\n",
    "# print(builder.info)  # num examples, labels... are automatically calculated\n",
    "ds = builder.as_dataset(split='train', shuffle_files=True)\n",
    "# tfds.show_examples(ds, builder.info)"
   ]
  },
  {
   "cell_type": "code",
   "execution_count": 106,
   "metadata": {},
   "outputs": [
    {
     "ename": "AttributeError",
     "evalue": "'_OptionsDataset' object has no attribute 'load_data'",
     "output_type": "error",
     "traceback": [
      "\u001b[0;31m---------------------------------------------------------------------------\u001b[0m",
      "\u001b[0;31mAttributeError\u001b[0m                            Traceback (most recent call last)",
      "\u001b[0;32m<ipython-input-106-7cbb9ede934c>\u001b[0m in \u001b[0;36m<module>\u001b[0;34m\u001b[0m\n\u001b[0;32m----> 1\u001b[0;31m \u001b[0mds\u001b[0m\u001b[0;34m.\u001b[0m\u001b[0mload_data\u001b[0m\u001b[0;34m(\u001b[0m\u001b[0;34m)\u001b[0m\u001b[0;34m\u001b[0m\u001b[0;34m\u001b[0m\u001b[0m\n\u001b[0m",
      "\u001b[0;31mAttributeError\u001b[0m: '_OptionsDataset' object has no attribute 'load_data'"
     ]
    }
   ],
   "source": [
    "ds.load_data()"
   ]
  },
  {
   "cell_type": "code",
   "execution_count": 71,
   "metadata": {},
   "outputs": [
    {
     "ename": "AttributeError",
     "evalue": "'list' object has no attribute 'shape'",
     "output_type": "error",
     "traceback": [
      "\u001b[0;31m---------------------------------------------------------------------------\u001b[0m",
      "\u001b[0;31mAttributeError\u001b[0m                            Traceback (most recent call last)",
      "\u001b[0;32m<ipython-input-71-6c4726c7571d>\u001b[0m in \u001b[0;36m<module>\u001b[0;34m\u001b[0m\n\u001b[0;32m----> 1\u001b[0;31m \u001b[0mprint\u001b[0m\u001b[0;34m(\u001b[0m\u001b[0mtrain\u001b[0m\u001b[0;34m.\u001b[0m\u001b[0mshape\u001b[0m\u001b[0;34m,\u001b[0m\u001b[0mtrain\u001b[0m\u001b[0;34m[\u001b[0m\u001b[0;36m0\u001b[0m\u001b[0;34m]\u001b[0m\u001b[0;34m.\u001b[0m\u001b[0mshape\u001b[0m\u001b[0;34m)\u001b[0m\u001b[0;34m\u001b[0m\u001b[0;34m\u001b[0m\u001b[0m\n\u001b[0m",
      "\u001b[0;31mAttributeError\u001b[0m: 'list' object has no attribute 'shape'"
     ]
    }
   ],
   "source": [
    "print(train.shape,train[0].shape)"
   ]
  },
  {
   "cell_type": "code",
   "execution_count": null,
   "metadata": {},
   "outputs": [],
   "source": []
  },
  {
   "cell_type": "code",
   "execution_count": null,
   "metadata": {},
   "outputs": [],
   "source": []
  },
  {
   "cell_type": "code",
   "execution_count": null,
   "metadata": {},
   "outputs": [],
   "source": []
  },
  {
   "cell_type": "code",
   "execution_count": null,
   "metadata": {},
   "outputs": [],
   "source": []
  },
  {
   "cell_type": "code",
   "execution_count": 26,
   "metadata": {},
   "outputs": [
    {
     "name": "stdout",
     "output_type": "stream",
     "text": [
      "(50000, 32, 32, 3) (32, 32, 3)\n",
      "(50000, 3072) (3072,)\n"
     ]
    }
   ],
   "source": [
    "# train the VAE on CIFAR digits\n",
    "(x_train, y_train), (x_test, y_test) = cifar10.load_data()\n",
    "\n",
    "x_train = x_train.astype('float32') / 255.\n",
    "print(x_train.shape,x_train[0].shape)\n",
    "x_test = x_test.astype('float32') / 255.\n",
    "x_train = x_train.reshape((len(x_train), np.prod(x_train.shape[1:])))\n",
    "print(x_train.shape,x_train[0].shape)\n",
    "x_test = x_test.reshape((len(x_test), np.prod(x_test.shape[1:])))"
   ]
  },
  {
   "cell_type": "code",
   "execution_count": 27,
   "metadata": {},
   "outputs": [
    {
     "name": "stdout",
     "output_type": "stream",
     "text": [
      "Train on 50000 samples, validate on 10000 samples\n",
      "Epoch 1/50\n",
      "50000/50000 [==============================] - 117s 2ms/step - loss: 2059.4693 - val_loss: 2123.0254\n",
      "Epoch 2/50\n",
      "50000/50000 [==============================] - 111s 2ms/step - loss: 1988.7817 - val_loss: 2120.9784\n",
      "Epoch 3/50\n",
      "50000/50000 [==============================] - 111s 2ms/step - loss: 1976.8518 - val_loss: 2116.3747\n",
      "Epoch 4/50\n",
      "50000/50000 [==============================] - 111s 2ms/step - loss: 1970.1688 - val_loss: 2106.5342\n",
      "Epoch 5/50\n",
      "50000/50000 [==============================] - 109s 2ms/step - loss: 1965.2882 - val_loss: 2093.7808\n",
      "Epoch 6/50\n",
      "50000/50000 [==============================] - 109s 2ms/step - loss: 1963.5592 - val_loss: 2073.9504\n",
      "Epoch 7/50\n",
      "50000/50000 [==============================] - 107s 2ms/step - loss: 1962.5047 - val_loss: 2049.9410\n",
      "Epoch 8/50\n",
      "50000/50000 [==============================] - 106s 2ms/step - loss: 1959.5899 - val_loss: 2022.2566\n",
      "Epoch 9/50\n",
      "50000/50000 [==============================] - 107s 2ms/step - loss: 1956.5313 - val_loss: 2019.8299\n",
      "Epoch 10/50\n",
      "50000/50000 [==============================] - 106s 2ms/step - loss: 1957.4727 - val_loss: 1982.8861\n",
      "Epoch 11/50\n",
      "50000/50000 [==============================] - 107s 2ms/step - loss: 1955.2713 - val_loss: 1965.5506\n",
      "Epoch 12/50\n",
      "50000/50000 [==============================] - 173s 3ms/step - loss: 1955.3434 - val_loss: 1965.4718\n",
      "Epoch 13/50\n",
      "50000/50000 [==============================] - 304s 6ms/step - loss: 1954.7745 - val_loss: 1970.0100\n",
      "Epoch 14/50\n",
      "50000/50000 [==============================] - 306s 6ms/step - loss: 1953.7430 - val_loss: 1956.8063\n",
      "Epoch 15/50\n",
      "50000/50000 [==============================] - 306s 6ms/step - loss: 1953.3156 - val_loss: 1969.2881\n",
      "Epoch 16/50\n",
      "50000/50000 [==============================] - 307s 6ms/step - loss: 1953.6055 - val_loss: 1967.2643\n",
      "Epoch 17/50\n",
      "50000/50000 [==============================] - 306s 6ms/step - loss: 1951.8315 - val_loss: 1973.0591\n",
      "Epoch 18/50\n",
      "50000/50000 [==============================] - 328s 7ms/step - loss: 1951.5433 - val_loss: 1959.1103\n",
      "Epoch 19/50\n",
      "50000/50000 [==============================] - 351s 7ms/step - loss: 1951.8443 - val_loss: 1955.7301\n",
      "Epoch 20/50\n",
      "50000/50000 [==============================] - 372s 7ms/step - loss: 1951.0193 - val_loss: 1953.9766\n",
      "Epoch 21/50\n",
      "50000/50000 [==============================] - 374s 7ms/step - loss: 1950.8045 - val_loss: 1954.0641\n",
      "Epoch 22/50\n",
      "50000/50000 [==============================] - 340s 7ms/step - loss: 1950.1407 - val_loss: 1961.9919\n",
      "Epoch 23/50\n",
      "50000/50000 [==============================] - 313s 6ms/step - loss: 1950.1193 - val_loss: 1956.1425\n",
      "Epoch 24/50\n",
      "50000/50000 [==============================] - 316s 6ms/step - loss: 1949.5877 - val_loss: 1957.1860\n",
      "Epoch 25/50\n",
      "50000/50000 [==============================] - 321s 6ms/step - loss: 1949.3484 - val_loss: 1951.9926\n",
      "Epoch 26/50\n",
      "50000/50000 [==============================] - 368s 7ms/step - loss: 1949.3612 - val_loss: 1953.8097\n",
      "Epoch 27/50\n",
      "50000/50000 [==============================] - 379s 8ms/step - loss: 1948.8418 - val_loss: 1963.5986\n",
      "Epoch 28/50\n",
      "50000/50000 [==============================] - 368s 7ms/step - loss: 1948.8444 - val_loss: 1956.1742\n",
      "Epoch 29/50\n",
      "50000/50000 [==============================] - 335s 7ms/step - loss: 1948.3790 - val_loss: 1959.0404\n",
      "Epoch 30/50\n",
      "50000/50000 [==============================] - 310s 6ms/step - loss: 1948.0241 - val_loss: 1954.8056\n",
      "Epoch 31/50\n",
      "50000/50000 [==============================] - 314s 6ms/step - loss: 1947.7274 - val_loss: 1951.6258\n",
      "Epoch 32/50\n",
      "50000/50000 [==============================] - 316s 6ms/step - loss: 1947.7341 - val_loss: 1956.6207\n",
      "Epoch 33/50\n",
      "50000/50000 [==============================] - 358s 7ms/step - loss: 1948.0271 - val_loss: 1951.0249\n",
      "Epoch 34/50\n",
      "50000/50000 [==============================] - 376s 8ms/step - loss: 1947.3906 - val_loss: 1953.6432\n",
      "Epoch 35/50\n",
      "50000/50000 [==============================] - 379s 8ms/step - loss: 1946.9661 - val_loss: 1952.6302\n",
      "Epoch 36/50\n",
      "50000/50000 [==============================] - 350s 7ms/step - loss: 1947.0806 - val_loss: 1950.1045\n",
      "Epoch 37/50\n",
      "50000/50000 [==============================] - 316s 6ms/step - loss: 1946.5791 - val_loss: 1951.0749\n",
      "Epoch 38/50\n",
      "50000/50000 [==============================] - 314s 6ms/step - loss: 1946.2974 - val_loss: 1951.5448\n",
      "Epoch 39/50\n",
      "50000/50000 [==============================] - 332s 7ms/step - loss: 1946.5595 - val_loss: 1950.5375\n",
      "Epoch 40/50\n",
      "50000/50000 [==============================] - 352s 7ms/step - loss: 1946.0104 - val_loss: 1949.8658\n",
      "Epoch 41/50\n",
      "50000/50000 [==============================] - 357s 7ms/step - loss: 1946.1290 - val_loss: 1952.2118\n",
      "Epoch 42/50\n",
      "50000/50000 [==============================] - 351s 7ms/step - loss: 1945.7464 - val_loss: 1951.1137\n",
      "Epoch 43/50\n",
      "50000/50000 [==============================] - 350s 7ms/step - loss: 1945.5987 - val_loss: 1949.0759\n",
      "Epoch 44/50\n",
      "50000/50000 [==============================] - 329s 7ms/step - loss: 1945.7074 - val_loss: 1951.1938\n",
      "Epoch 45/50\n",
      "50000/50000 [==============================] - 315s 6ms/step - loss: 1945.1635 - val_loss: 1951.7958\n",
      "Epoch 46/50\n",
      "50000/50000 [==============================] - 318s 6ms/step - loss: 1945.2854 - val_loss: 1951.8774\n",
      "Epoch 47/50\n",
      "50000/50000 [==============================] - 351s 7ms/step - loss: 1945.2047 - val_loss: 1950.7514\n",
      "Epoch 48/50\n",
      "50000/50000 [==============================] - 393s 8ms/step - loss: 1945.0801 - val_loss: 1950.1540\n",
      "Epoch 49/50\n",
      "50000/50000 [==============================] - 372s 7ms/step - loss: 1944.8319 - val_loss: 1950.7618\n",
      "Epoch 50/50\n",
      "50000/50000 [==============================] - 349s 7ms/step - loss: 1945.0899 - val_loss: 1948.4979\n"
     ]
    }
   ],
   "source": [
    "vae.fit(x_train,\n",
    "        shuffle=True,\n",
    "        epochs=epochs,\n",
    "        batch_size=batch_size,\n",
    "        validation_data=(x_test, None))\n",
    "\n",
    "vae.save('vae.h5')"
   ]
  },
  {
   "cell_type": "code",
   "execution_count": 28,
   "metadata": {},
   "outputs": [
    {
     "data": {
      "image/png": "[encoded data removed]",
      "text/plain": [
       "<Figure size 432x432 with 2 Axes>"
      ]
     },
     "metadata": {
      "needs_background": "light"
     },
     "output_type": "display_data"
    }
   ],
   "source": [
    "# build a model to project inputs on the latent space\n",
    "encoder = Model(x, z_mean)\n",
    "\n",
    "# display a 2D plot of the digit classes in the latent space\n",
    "x_test_encoded = encoder.predict(x_test, batch_size=batch_size)\n",
    "plt.figure(figsize=(6, 6))\n",
    "plt.scatter(x_test_encoded[:, 0], x_test_encoded[:, 1], c=y_test)\n",
    "plt.colorbar()\n",
    "plt.show()\n",
    "\n",
    "encoder.save('encoder.h5')"
   ]
  },
  {
   "cell_type": "code",
   "execution_count": 29,
   "metadata": {},
   "outputs": [
    {
     "ename": "FileNotFoundError",
     "evalue": "[Errno 2] No such file or directory: '../src/encoded.json'",
     "output_type": "error",
     "traceback": [
      "\u001b[0;31m---------------------------------------------------------------------------\u001b[0m",
      "\u001b[0;31mFileNotFoundError\u001b[0m                         Traceback (most recent call last)",
      "\u001b[0;32m<ipython-input-29-5a6a3f6710cb>\u001b[0m in \u001b[0;36m<module>\u001b[0;34m\u001b[0m\n\u001b[1;32m      1\u001b[0m \u001b[0;32mimport\u001b[0m \u001b[0mjson\u001b[0m\u001b[0;34m\u001b[0m\u001b[0;34m\u001b[0m\u001b[0m\n\u001b[0;32m----> 2\u001b[0;31m \u001b[0;32mwith\u001b[0m \u001b[0mopen\u001b[0m\u001b[0;34m(\u001b[0m\u001b[0;34m'../src/encoded.json'\u001b[0m\u001b[0;34m,\u001b[0m \u001b[0;34m'w'\u001b[0m\u001b[0;34m)\u001b[0m \u001b[0;32mas\u001b[0m \u001b[0moutfile\u001b[0m\u001b[0;34m:\u001b[0m\u001b[0;34m\u001b[0m\u001b[0;34m\u001b[0m\u001b[0m\n\u001b[0m\u001b[1;32m      3\u001b[0m     \u001b[0mdata\u001b[0m \u001b[0;34m=\u001b[0m \u001b[0;34m[\u001b[0m\u001b[0;34m[\u001b[0m\u001b[0mfloat\u001b[0m\u001b[0;34m(\u001b[0m\u001b[0mx\u001b[0m\u001b[0;34m)\u001b[0m\u001b[0;34m,\u001b[0m \u001b[0mfloat\u001b[0m\u001b[0;34m(\u001b[0m\u001b[0my\u001b[0m\u001b[0;34m)\u001b[0m\u001b[0;34m,\u001b[0m \u001b[0mint\u001b[0m\u001b[0;34m(\u001b[0m\u001b[0ml\u001b[0m\u001b[0;34m)\u001b[0m\u001b[0;34m]\u001b[0m \u001b[0;32mfor\u001b[0m \u001b[0;34m[\u001b[0m\u001b[0mx\u001b[0m\u001b[0;34m,\u001b[0m \u001b[0my\u001b[0m\u001b[0;34m]\u001b[0m\u001b[0;34m,\u001b[0m \u001b[0ml\u001b[0m \u001b[0;32min\u001b[0m \u001b[0mzip\u001b[0m\u001b[0;34m(\u001b[0m\u001b[0mx_test_encoded\u001b[0m\u001b[0;34m,\u001b[0m \u001b[0my_test\u001b[0m\u001b[0;34m)\u001b[0m\u001b[0;34m]\u001b[0m\u001b[0;34m\u001b[0m\u001b[0;34m\u001b[0m\u001b[0m\n\u001b[1;32m      4\u001b[0m     \u001b[0mjson\u001b[0m\u001b[0;34m.\u001b[0m\u001b[0mdump\u001b[0m\u001b[0;34m(\u001b[0m\u001b[0mdata\u001b[0m\u001b[0;34m,\u001b[0m \u001b[0moutfile\u001b[0m\u001b[0;34m)\u001b[0m\u001b[0;34m\u001b[0m\u001b[0;34m\u001b[0m\u001b[0m\n",
      "\u001b[0;31mFileNotFoundError\u001b[0m: [Errno 2] No such file or directory: '../src/encoded.json'"
     ]
    }
   ],
   "source": [
    "import json\n",
    "with open('../src/encoded.json', 'w') as outfile:\n",
    "    data = [[float(x), float(y), int(l)] for [x, y], l in zip(x_test_encoded, y_test)]\n",
    "    json.dump(data, outfile)\n"
   ]
  },
  {
   "cell_type": "code",
   "execution_count": 31,
   "metadata": {
    "scrolled": true
   },
   "outputs": [
    {
     "ename": "ValueError",
     "evalue": "cannot reshape array of size 3072 into shape (32,32)",
     "output_type": "error",
     "traceback": [
      "\u001b[0;31m---------------------------------------------------------------------------\u001b[0m",
      "\u001b[0;31mValueError\u001b[0m                                Traceback (most recent call last)",
      "\u001b[0;32m<ipython-input-31-108399f97f4f>\u001b[0m in \u001b[0;36m<module>\u001b[0;34m\u001b[0m\n\u001b[1;32m     28\u001b[0m         \u001b[0mz_sample\u001b[0m \u001b[0;34m=\u001b[0m \u001b[0mnp\u001b[0m\u001b[0;34m.\u001b[0m\u001b[0marray\u001b[0m\u001b[0;34m(\u001b[0m\u001b[0;34m[\u001b[0m\u001b[0;34m[\u001b[0m\u001b[0mxi\u001b[0m\u001b[0;34m,\u001b[0m \u001b[0myi\u001b[0m\u001b[0;34m]\u001b[0m\u001b[0;34m]\u001b[0m\u001b[0;34m)\u001b[0m\u001b[0;34m\u001b[0m\u001b[0;34m\u001b[0m\u001b[0m\n\u001b[1;32m     29\u001b[0m         \u001b[0mx_decoded\u001b[0m \u001b[0;34m=\u001b[0m \u001b[0mgenerator\u001b[0m\u001b[0;34m.\u001b[0m\u001b[0mpredict\u001b[0m\u001b[0;34m(\u001b[0m\u001b[0mz_sample\u001b[0m\u001b[0;34m)\u001b[0m\u001b[0;34m\u001b[0m\u001b[0;34m\u001b[0m\u001b[0m\n\u001b[0;32m---> 30\u001b[0;31m         \u001b[0mdigit\u001b[0m \u001b[0;34m=\u001b[0m \u001b[0mx_decoded\u001b[0m\u001b[0;34m[\u001b[0m\u001b[0;36m0\u001b[0m\u001b[0;34m]\u001b[0m\u001b[0;34m.\u001b[0m\u001b[0mreshape\u001b[0m\u001b[0;34m(\u001b[0m\u001b[0mdigit_size\u001b[0m\u001b[0;34m,\u001b[0m \u001b[0mdigit_size\u001b[0m\u001b[0;34m)\u001b[0m\u001b[0;34m\u001b[0m\u001b[0;34m\u001b[0m\u001b[0m\n\u001b[0m\u001b[1;32m     31\u001b[0m         figure[i * digit_size: (i + 1) * digit_size,\n\u001b[1;32m     32\u001b[0m                j * digit_size: (j + 1) * digit_size] = digit\n",
      "\u001b[0;31mValueError\u001b[0m: cannot reshape array of size 3072 into shape (32,32)"
     ]
    }
   ],
   "source": [
    "# build a digit generator that can sample from the learned distribution\n",
    "decoder_input = Input(shape=(latent_dim,))\n",
    "_h_decoded = decoder_h(decoder_input)\n",
    "_a = decoder_fc(_h_decoded)\n",
    "_a = decoder_reshape(_a)\n",
    "_a = decoder_conv1(_a)\n",
    "_a = decoder_bn1(_a)\n",
    "_a = decoder_activ1(_a)\n",
    "_a = decoder_conv2(_a)\n",
    "_a = decoder_bn2(_a)\n",
    "_a = decoder_activ2(_a)\n",
    "_a = decoder_conv3(_a)\n",
    "_a = decoder_flatten(_a)\n",
    "_x_decoded_mean = decoder_mean(_a)\n",
    "generator = Model(decoder_input, _x_decoded_mean)\n",
    "\n",
    "# display a 2D manifold of the digits\n",
    "n = 15  # figure with 15x15 digits\n",
    "digit_size = 32\n",
    "figure = np.zeros((digit_size * n, digit_size * n))\n",
    "# linearly spaced coordinates on the unit square were transformed through the inverse CDF (ppf) of the Gaussian\n",
    "# to produce values of the latent variables z, since the prior of the latent space is Gaussian\n",
    "grid_x = norm.ppf(np.linspace(0.05, 0.95, n))\n",
    "grid_y = norm.ppf(np.linspace(0.05, 0.95, n))\n",
    "\n",
    "for i, yi in enumerate(grid_x):\n",
    "    for j, xi in enumerate(grid_y):\n",
    "        z_sample = np.array([[xi, yi]])\n",
    "        x_decoded = generator.predict(z_sample)\n",
    "        digit = x_decoded[0].reshape(digit_size, digit_size)\n",
    "        figure[i * digit_size: (i + 1) * digit_size,\n",
    "               j * digit_size: (j + 1) * digit_size] = digit\n",
    "\n",
    "plt.figure(figsize=(10, 10))\n",
    "plt.imshow(figure, cmap='Greys_r')\n",
    "plt.show()\n",
    "\n",
    "generator.save('generator.h5')"
   ]
  },
  {
   "cell_type": "code",
   "execution_count": null,
   "metadata": {},
   "outputs": [],
   "source": [
    "import tensorflowjs as tfjs\n",
    "\n",
    "tfjs.converters.save_keras_model(generator, '../public/models/generatorjs')"
   ]
  },
  {
   "cell_type": "code",
   "execution_count": null,
   "metadata": {},
   "outputs": [],
   "source": []
  }
 ],
 "metadata": {
  "kernelspec": {
   "display_name": "conda_tensorflow2_p36",
   "language": "python",
   "name": "conda_tensorflow2_p36"
  },
  "language_info": {
   "codemirror_mode": {
    "name": "ipython",
    "version": 3
   },
   "file_extension": ".py",
   "mimetype": "text/x-python",
   "name": "python",
   "nbconvert_exporter": "python",
   "pygments_lexer": "ipython3",
   "version": "3.6.13"
  }
 },
 "nbformat": 4,
 "nbformat_minor": 4
}
