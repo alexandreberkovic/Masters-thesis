{
 "cells": [
  {
   "cell_type": "markdown",
   "id": "3b756729",
   "metadata": {},
   "source": [
    "# Deep Convolutional Neural Network for Art Classification with PyTorch\n",
    "# Part 1: connecting to AWS S3 & servers"
   ]
  },
  {
   "cell_type": "code",
   "execution_count": 1,
   "id": "a304a92e",
   "metadata": {},
   "outputs": [],
   "source": [
    "import boto3 \n",
    "from botocore.exceptions import ClientError # Not necessary\n",
    "import os \n",
    "from sagemaker import get_execution_role"
   ]
  },
  {
   "cell_type": "code",
   "execution_count": 2,
   "id": "f7186de7",
   "metadata": {},
   "outputs": [],
   "source": [
    "role = get_execution_role()"
   ]
  },
  {
   "cell_type": "code",
   "execution_count": 7,
   "id": "29529614",
   "metadata": {},
   "outputs": [
    {
     "name": "stdout",
     "output_type": "stream",
     "text": [
      "1000 landscapes_resized/10899-Landscape with Tree.jpg\n",
      "2000 landscapes_resized/118-Villa Barbaro (detail).jpg\n",
      "3000 landscapes_resized/1270-A Hilly Landscape in Auvergne.jpg\n",
      "4000 landscapes_resized/1360-Lago Maggiore.jpg\n",
      "5000 landscapes_resized/14505-Hill.jpg\n",
      "6000 landscapes_resized/1908-Mushroom.jpg\n",
      "7000 landscapes_resized/2809-The Marshes at Rhode Island.jpg\n",
      "8000 landscapes_resized/3709-Sukhum-Kale.jpg\n",
      "9000 landscapes_resized/461-Pin on the Cliff.jpg\n",
      "10000 landscapes_resized/551-Impressive View of the Go River.jpg\n",
      "11000 landscapes_resized/6412-Campfire. Kachanovka.jpg\n",
      "12000 landscapes_resized/7314-View of a Village by a River.jpg\n",
      "13000 landscapes_resized/8216-The White Bridge.jpg\n",
      "14000 landscapes_resized/9116-The Dunes at Knocke, Belgium.jpg\n"
     ]
    }
   ],
   "source": [
    "# Remember to enter the correct bucket region below\n",
    "s3 = boto3.resource('s3', region_name='us-east-2') \n",
    "# Replace the place holder with your correct bucket name\n",
    "bucket = s3.Bucket('landscapes-resized') \n",
    "i=0\n",
    "for my_bucket_object in bucket.objects.all():    \n",
    "    key = my_bucket_object.key    \n",
    "    i+=1\n",
    "#     print(key)\n",
    "    if i%1000 == 0:\n",
    "        print(i,key)\n",
    "    if not os.path.exists(os.path.dirname(key)):           \n",
    "        os.makedirs(os.path.dirname(key))\n",
    "\n",
    "# The following is basically for exception handling and not necessary to include     \n",
    "    try:         \n",
    "        bucket.download_file(key, key)     \n",
    "    except ClientError as e:         \n",
    "        if e.response['Error']['Code'] == \"404\":             \n",
    "            print(\"No object with this key.\")        \n",
    "        else:             \n",
    "            raise\n",
    "            \n",
    "    except Exception:\n",
    "        pass"
   ]
  },
  {
   "cell_type": "code",
   "execution_count": null,
   "id": "de55453f",
   "metadata": {},
   "outputs": [],
   "source": []
  }
 ],
 "metadata": {
  "kernelspec": {
   "display_name": "conda_amazonei_pytorch_latest_p36",
   "language": "python",
   "name": "conda_amazonei_pytorch_latest_p36"
  },
  "language_info": {
   "codemirror_mode": {
    "name": "ipython",
    "version": 3
   },
   "file_extension": ".py",
   "mimetype": "text/x-python",
   "name": "python",
   "nbconvert_exporter": "python",
   "pygments_lexer": "ipython3",
   "version": "3.6.13"
  }
 },
 "nbformat": 4,
 "nbformat_minor": 5
}
