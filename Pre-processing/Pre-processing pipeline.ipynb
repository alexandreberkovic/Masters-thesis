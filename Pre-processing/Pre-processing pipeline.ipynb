{
 "cells": [
  {
   "cell_type": "markdown",
   "id": "3677b541",
   "metadata": {},
   "source": [
    "# Deep Convolutional Neural Network for Art Classification with PyTorch\n",
    "# Part 3: pre-processing"
   ]
  },
  {
   "cell_type": "markdown",
   "id": "421a9dc0",
   "metadata": {},
   "source": [
    "## Imports"
   ]
  },
  {
   "cell_type": "code",
   "execution_count": 1,
   "id": "62c7588d",
   "metadata": {},
   "outputs": [],
   "source": [
    "import os\n",
    "import torch\n",
    "import torchvision\n",
    "import tarfile\n",
    "from torchvision.datasets.utils import download_url\n",
    "from torch.utils.data import random_split\n",
    "import PIL\n",
    "from PIL import Image\n",
    "import cv2\n",
    "import pathlib\n",
    "import glob\n",
    "from pathlib import Path\n",
    "import numpy as np\n",
    "import shutil\n",
    "import random\n",
    "import pandas as pd"
   ]
  },
  {
   "cell_type": "code",
   "execution_count": 2,
   "id": "41e85fed",
   "metadata": {},
   "outputs": [],
   "source": [
    "project_name='CNN_classifier'"
   ]
  },
  {
   "cell_type": "code",
   "execution_count": 3,
   "id": "2083601a",
   "metadata": {},
   "outputs": [
    {
     "data": {
      "text/plain": [
       "'/home/ec2-user/SageMaker/Masters-thesis/Pre-processing'"
      ]
     },
     "execution_count": 3,
     "metadata": {},
     "output_type": "execute_result"
    }
   ],
   "source": [
    "os.getcwd()"
   ]
  },
  {
   "cell_type": "code",
   "execution_count": 5,
   "id": "04b7f05d",
   "metadata": {},
   "outputs": [],
   "source": [
    "path_str = Path('/home/ec2-user/SageMaker')"
   ]
  },
  {
   "cell_type": "code",
   "execution_count": 6,
   "id": "92f052a7",
   "metadata": {},
   "outputs": [],
   "source": [
    "path = Path(path_str)"
   ]
  },
  {
   "cell_type": "code",
   "execution_count": 7,
   "id": "e2d69b2a",
   "metadata": {
    "scrolled": true
   },
   "outputs": [
    {
     "data": {
      "text/plain": [
       "['models',\n",
       " 'Connect to s3.ipynb',\n",
       " '.sparkmagic',\n",
       " 'Data split.ipynb',\n",
       " 'Pre-processing pipeline.ipynb',\n",
       " 'CNNs.ipynb',\n",
       " 'wikiart_post',\n",
       " 'wikiart_pre',\n",
       " 'Resnet.ipynb',\n",
       " '.ipynb_checkpoints',\n",
       " 'Masters-thesis',\n",
       " 'lost+found',\n",
       " 'wikiart_binary',\n",
       " 'Pre-trained cnn.ipynb']"
      ]
     },
     "execution_count": 7,
     "metadata": {},
     "output_type": "execute_result"
    }
   ],
   "source": [
    "os.listdir(path)"
   ]
  },
  {
   "cell_type": "code",
   "execution_count": 158,
   "id": "4f221aec",
   "metadata": {},
   "outputs": [],
   "source": [
    "# directory of image folders per mouvement\n",
    "img_folders = Path(path_str+'/'+'Dataset/wikiart')"
   ]
  },
  {
   "cell_type": "code",
   "execution_count": 159,
   "id": "ec193b8d",
   "metadata": {},
   "outputs": [],
   "source": [
    "# remove DS_Store file\n",
    "folders = list(os.listdir(img_folders))\n",
    "folders.remove('.DS_Store')"
   ]
  },
  {
   "cell_type": "markdown",
   "id": "5c5194e6",
   "metadata": {},
   "source": [
    "## Modify the CSV file after modification of dataset"
   ]
  },
  {
   "cell_type": "code",
   "execution_count": 193,
   "id": "734693cb",
   "metadata": {},
   "outputs": [],
   "source": [
    "style_train = pd.read_csv(os.path.join(path_str,'Dataset/wikiart_csv/style_train.csv'), names = ['Path','Style'])\n",
    "style_val = pd.read_csv(os.path.join(path_str,'Dataset/wikiart_csv/style_val.csv'), names = ['Path','Style'])\n",
    "\n",
    "artist_train = pd.read_csv(os.path.join(path_str,'Dataset/wikiart_csv/artist_train.csv'), names = ['Path','Artist'])\n",
    "artist_val = pd.read_csv(os.path.join(path_str,'Dataset/wikiart_csv/artist_val.csv'), names = ['Path','Artist'])\n",
    "        \n",
    "genre_train = pd.read_csv(os.path.join(path_str,'Dataset/wikiart_csv/genre_train.csv'), names = ['Path','Genre'])\n",
    "genre_val = pd.read_csv(os.path.join(path_str,'Dataset/wikiart_csv/genre_val.csv'), names = ['Path','Genre'])"
   ]
  },
  {
   "cell_type": "code",
   "execution_count": 194,
   "id": "a0966b88",
   "metadata": {},
   "outputs": [],
   "source": [
    "datasets = [style_train,style_val,artist_train,artist_val,genre_train,genre_val]"
   ]
  },
  {
   "cell_type": "code",
   "execution_count": 218,
   "id": "47b897da",
   "metadata": {},
   "outputs": [],
   "source": [
    "def replace_path(df):\n",
    "    df['Path'] = df['Path'].replace({'Analytical_Cubism': 'Cubism'}, regex=True)\n",
    "    df['Path'] = df['Path'].replace({'Synthetic_Cubism': 'Cubism'}, regex=True)\n",
    "    df['Path'] = df['Path'].replace({'Action_painting': 'Abstract_Expressionism'}, regex=True)\n",
    "    df['Path'] = df['Path'].replace({'New_Realism': 'Contemporary_realism'}, regex=True)\n",
    "    df['Path'] = df['Path'].replace({'Color_Field_Painting': 'Minimalism'}, regex=True)"
   ]
  },
  {
   "cell_type": "code",
   "execution_count": 219,
   "id": "ca0740ec",
   "metadata": {},
   "outputs": [],
   "source": [
    "for i in range(len(datasets)):\n",
    "    replace_path(datasets[i])"
   ]
  },
  {
   "cell_type": "code",
   "execution_count": 222,
   "id": "e659b297",
   "metadata": {},
   "outputs": [],
   "source": [
    "def replace_num(df):\n",
    "    df['Style'] = df['Style'].replace({2:7}, regex=True)\n",
    "    df['Style'] = df['Style'].replace({5:7}, regex=True)\n",
    "    df['Style'] = df['Style'].replace({1:0}, regex=True)\n",
    "    df['Style'] = df['Style'].replace({16:6}, regex=True)\n",
    "    df['Style'] = df['Style'].replace({5:14}, regex=True)"
   ]
  },
  {
   "cell_type": "code",
   "execution_count": 223,
   "id": "b685fd56",
   "metadata": {},
   "outputs": [],
   "source": [
    "replace_num(style_train)\n",
    "replace_num(style_val)"
   ]
  },
  {
   "cell_type": "code",
   "execution_count": 227,
   "id": "274cc144",
   "metadata": {},
   "outputs": [],
   "source": [
    "style_train.to_csv(os.path.join(path_str,'Dataset/wikiart_csv/style_train.csv'))\n",
    "style_val.to_csv(os.path.join(path_str,'Dataset/wikiart_csv/style_val.csv'))\n",
    "\n",
    "artist_train.to_csv(os.path.join(path_str,'Dataset/wikiart_csv/artist_train.csv'))\n",
    "artist_val.to_csv(os.path.join(path_str,'Dataset/wikiart_csv/artist_val.csv'))\n",
    "        \n",
    "genre_train.to_csv(os.path.join(path_str,'Dataset/wikiart_csv/genre_train.csv'))\n",
    "genre_val.to_csv(os.path.join(path_str,'Dataset/wikiart_csv/genre_val.csv'))"
   ]
  },
  {
   "cell_type": "markdown",
   "id": "c8c70afe",
   "metadata": {},
   "source": [
    "## Create a subset of the dataset to play with during the CNN"
   ]
  },
  {
   "cell_type": "code",
   "execution_count": 160,
   "id": "0f6ac44d",
   "metadata": {},
   "outputs": [],
   "source": [
    "def subset(path):\n",
    "    for i in range(len(folders)):\n",
    "        dirpath = os.path.join(path,folders[i])\n",
    "        directory_length = len(list(os.listdir(dirpath)))\n",
    "        if directory_length < 2500:\n",
    "            subset_length = 250\n",
    "        elif directory_length > 12500:\n",
    "            subset_length = 1250\n",
    "        else:\n",
    "            subset_length = int(0.1*len(list(os.listdir(dirpath))))\n",
    "        filenames = random.sample(os.listdir(dirpath),subset_length)\n",
    "        print('{} has {} images'.format(folders[i], subset_length))\n",
    "#         print('Mouvement' + folders[i] \"has\" + str(directory_length) + 'images') \n",
    "        \n",
    "        destDirectory = os.path.join(path_str,'Dataset/Dataset_subset/',folders[i])\n",
    "        if not os.path.exists(destDirectory):\n",
    "            os.makedirs(destDirectory)\n",
    "            \n",
    "        else:\n",
    "            for f in os.listdir(destDirectory):\n",
    "                os.remove(os.path.join(destDirectory, f))\n",
    "       \n",
    "        for fname in filenames:\n",
    "            srcpath = os.path.join(dirpath, fname)\n",
    "            shutil.copy(srcpath, destDirectory)"
   ]
  },
  {
   "cell_type": "code",
   "execution_count": 163,
   "id": "0f863679",
   "metadata": {},
   "outputs": [
    {
     "name": "stdout",
     "output_type": "stream",
     "text": [
      "Early_Renaissance has 250 images\n",
      "Mannerism_Late_Renaissance has 250 images\n",
      "Expressionism has 673 images\n",
      "Contemporary_Realism has 250 images\n",
      "Fauvism has 250 images\n",
      "Northern_Renaissance has 255 images\n",
      "Rococo has 250 images\n",
      "Ukiyo_e has 250 images\n",
      "Pop_Art has 250 images\n",
      "High_Renaissance has 250 images\n",
      "Minimalism has 291 images\n",
      "Art_Nouveau_Modern has 433 images\n",
      "Symbolism has 452 images\n",
      "Realism has 1073 images\n",
      "Romanticism has 701 images\n",
      "Cubism has 256 images\n",
      "Impressionism has 1250 images\n",
      "Baroque has 424 images\n",
      "Post_Impressionism has 645 images\n",
      "Abstract_Expressionism has 287 images\n",
      "Pointillism has 250 images\n",
      "Naive_Art_Primitivism has 250 images\n"
     ]
    }
   ],
   "source": [
    "subset(img_folders)"
   ]
  },
  {
   "cell_type": "markdown",
   "id": "dee9175a",
   "metadata": {},
   "source": [
    "## Data exploration"
   ]
  },
  {
   "cell_type": "markdown",
   "id": "632690d1",
   "metadata": {},
   "source": [
    "### Image resizing functions"
   ]
  },
  {
   "cell_type": "code",
   "execution_count": 164,
   "id": "efd6ce0e",
   "metadata": {},
   "outputs": [],
   "source": [
    "# directory of image folders per mouvement\n",
    "subset_folders = os.path.join(path_str, 'Dataset/Dataset_subset')\n",
    "# Path(path_str+'/'+'Dataset/Dataset_subset')"
   ]
  },
  {
   "cell_type": "code",
   "execution_count": 165,
   "id": "57ea4fcb",
   "metadata": {},
   "outputs": [
    {
     "data": {
      "text/plain": [
       "['Early_Renaissance',\n",
       " 'Mannerism_Late_Renaissance',\n",
       " 'Expressionism',\n",
       " 'Contemporary_Realism',\n",
       " 'Fauvism',\n",
       " 'Northern_Renaissance',\n",
       " 'Rococo',\n",
       " 'Ukiyo_e',\n",
       " 'Pop_Art',\n",
       " 'High_Renaissance',\n",
       " 'Minimalism',\n",
       " 'Art_Nouveau_Modern',\n",
       " 'Symbolism',\n",
       " 'Realism',\n",
       " 'Romanticism',\n",
       " 'Cubism',\n",
       " 'Impressionism',\n",
       " 'Baroque',\n",
       " 'Post_Impressionism',\n",
       " 'Abstract_Expressionism',\n",
       " 'Pointillism',\n",
       " 'Naive_Art_Primitivism']"
      ]
     },
     "execution_count": 165,
     "metadata": {},
     "output_type": "execute_result"
    }
   ],
   "source": [
    "os.listdir(subset_folders)"
   ]
  },
  {
   "cell_type": "code",
   "execution_count": 173,
   "id": "52e01060",
   "metadata": {},
   "outputs": [],
   "source": [
    "def resize_upper(path,cnn_size):\n",
    "    '''\n",
    "    Resizes the images so that one side is 256 and the other is larger\n",
    "    Crops it so that the output is 256x256\n",
    "    '''\n",
    "    for i in range(len(folders)):\n",
    "        dirpath = os.path.join(path,folders[i])\n",
    "        \n",
    "        images = [file for file in os.listdir(dirpath) if file.endswith(('jpeg', 'png', 'jpg'))]\n",
    "        name = folders[i]\n",
    "        saving_dir = os.path.join(path_str,'Dataset/Resized_cropped',name)\n",
    "        \n",
    "        if not os.path.exists(saving_dir):\n",
    "            os.makedirs(saving_dir)\n",
    "            \n",
    "        else:\n",
    "            for f in os.listdir(saving_dir):\n",
    "                os.remove(os.path.join(saving_dir, f))\n",
    "\n",
    "        for image in images:\n",
    "            img = Image.open(Path(str(subset_folders)+'/'+name+'/'+image))\n",
    "\n",
    "            if img.size[0] >= img.size[1] and img.size[1] > cnn_size:\n",
    "\n",
    "                fixed_height = cnn_size\n",
    "                height_percent = (fixed_height / float(img.size[1]))\n",
    "                width_size = int((float(img.size[0]) * float(height_percent)))\n",
    "                img = img.resize((width_size, fixed_height), PIL.Image.NEAREST)\n",
    "                cropped = crop(img)\n",
    "                cropped.save(os.path.join(saving_dir,image), optimize=True, quality=100)\n",
    "\n",
    "            elif img.size[0] < img.size[1] and img.size[0] > cnn_size:\n",
    "                fixed_width = cnn_size\n",
    "                width_percent = (fixed_width / float(img.size[0]))\n",
    "                height_size = int((float(img.size[1]) * float(width_percent)))\n",
    "                img = img.resize((fixed_width, height_size), PIL.Image.NEAREST)\n",
    "                cropped = crop(img)\n",
    "                cropped.save(os.path.join(saving_dir,image), optimize=True, quality=100)\n",
    "\n"
   ]
  },
  {
   "cell_type": "code",
   "execution_count": 174,
   "id": "38398ed9",
   "metadata": {},
   "outputs": [],
   "source": [
    "def resize_lower(path,cnn_size):\n",
    "    '''\n",
    "    Resizes the images so that one side is 256 and the other is smaller\n",
    "    Fills blank space with 0s so that the output is 256x256\n",
    "    ''' \n",
    "    for i in range(len(folders)):\n",
    "        dirpath = os.path.join(path,folders[i])\n",
    "        \n",
    "        images = [file for file in os.listdir(dirpath) if file.endswith(('jpeg', 'png', 'jpg'))]\n",
    "        name = folders[i]\n",
    "        saving_dir = os.path.join(path_str,'Dataset/Resized_blank',name)\n",
    "\n",
    "        if not os.path.exists(saving_dir):\n",
    "            os.makedirs(saving_dir)\n",
    "        \n",
    "        else:\n",
    "            for f in os.listdir(saving_dir):\n",
    "                os.remove(os.path.join(saving_dir, f))\n",
    "\n",
    "        for image in images:\n",
    "            img = Image.open(Path(str(subset_folders)+'/'+name+'/'+image))\n",
    "        \n",
    "            if img.size[1] >= img.size[0] and img.size[0] > cnn_size:\n",
    "\n",
    "                fixed_height = cnn_size\n",
    "                height_percent = (fixed_height / float(img.size[1]))\n",
    "                width_size = int((float(img.size[0]) * float(height_percent)))\n",
    "                img = img.resize((width_size, fixed_height), PIL.Image.NEAREST)\n",
    "                filled = fill(img,(0, 0, 0))\n",
    "                filled.save(os.path.join(saving_dir,image), optimize=True, quality=100)\n",
    "\n",
    "            elif img.size[1] < img.size[0] and img.size[1] > cnn_size:\n",
    "                fixed_width = cnn_size\n",
    "                width_percent = (fixed_width / float(img.size[0]))\n",
    "                height_size = int((float(img.size[1]) * float(width_percent)))\n",
    "                img = img.resize((fixed_width, height_size), PIL.Image.NEAREST)\n",
    "                filled = fill(img,(0, 0, 0))\n",
    "                filled.save(os.path.join(saving_dir,image), optimize=True, quality=100)\n",
    "\n"
   ]
  },
  {
   "cell_type": "code",
   "execution_count": 175,
   "id": "17906373",
   "metadata": {},
   "outputs": [],
   "source": [
    "def resize_compress(path,cnn_size):\n",
    "    '''\n",
    "    Resizes the images by compressing them\n",
    "    Output is 256x256\n",
    "    ''' \n",
    "    for i in range(len(folders)):\n",
    "        dirpath = os.path.join(path,folders[i])\n",
    "        \n",
    "        images = [file for file in os.listdir(dirpath) if file.endswith(('jpeg', 'png', 'jpg'))]\n",
    "        name = folders[i]\n",
    "        saving_dir = os.path.join(path_str,'Dataset/Resized_compressed',name)\n",
    "\n",
    "        if not os.path.exists(saving_dir):\n",
    "            os.makedirs(saving_dir)\n",
    "            \n",
    "        else:\n",
    "            for f in os.listdir(saving_dir):\n",
    "                os.remove(os.path.join(saving_dir, f))\n",
    "\n",
    "        for image in images:\n",
    "            img = Image.open(Path(str(subset_folders)+'/'+name+'/'+image))\n",
    "\n",
    "            if img.size[0] > cnn_size and img.size[1] > cnn_size:\n",
    "                resized_image = img.resize((256,256))\n",
    "                resized_image.save(os.path.join(saving_dir,image), optimize=True, quality=100)\n",
    "            else:\n",
    "                pass"
   ]
  },
  {
   "cell_type": "markdown",
   "id": "1cd9eb74",
   "metadata": {},
   "source": [
    "### Helper functions used after resizing to uniform image dimensions"
   ]
  },
  {
   "cell_type": "code",
   "execution_count": 169,
   "id": "d3350db3",
   "metadata": {},
   "outputs": [],
   "source": [
    "def crop(im,size):\n",
    "    '''\n",
    "    Crops the image when one side is 256 and the other is bigger\n",
    "    Outputs a 256x256 centred image\n",
    "    '''\n",
    "    # Opens a image in RGB mode\n",
    "#     im = Image.open(r\"C:\\Users\\Admin\\Pictures\\network.png\")\n",
    " \n",
    "    # Setting the points for cropped image\n",
    "    width, height = im.size\n",
    "    if width == size:\n",
    "        left = 0\n",
    "        right = size\n",
    "        top = height//2 - size//2\n",
    "        bottom = height//2 + size//2\n",
    "\n",
    "    elif height == size:\n",
    "        left = width//2 - size\n",
    "        right = width//2 + size\n",
    "        top = 0\n",
    "        bottom = size\n",
    "        \n",
    "    # Cropped image of above dimension\n",
    "    # (It will not change original image)\n",
    "    im1 = im.crop((left, top, right, bottom))\n",
    "    return im1"
   ]
  },
  {
   "cell_type": "code",
   "execution_count": 170,
   "id": "3c71db6d",
   "metadata": {},
   "outputs": [],
   "source": [
    "def fill(pil_img, background_color):\n",
    "    '''\n",
    "    Fills the image with 0s when one side is 256 and the other is smaller\n",
    "    Outputs a 256x256 centred image\n",
    "    '''\n",
    "    width, height = pil_img.size\n",
    "    if width == height:\n",
    "        return pil_img\n",
    "    elif width > height:\n",
    "        result = Image.new(pil_img.mode, (width, width), background_color)\n",
    "        result.paste(pil_img, (0, (width - height) // 2))\n",
    "        return result\n",
    "    else:\n",
    "        result = Image.new(pil_img.mode, (height, height), background_color)\n",
    "        result.paste(pil_img, ((height - width) // 2, 0))\n",
    "        return result"
   ]
  },
  {
   "cell_type": "markdown",
   "id": "b8c81a91",
   "metadata": {},
   "source": [
    "### Creating the usable dataset"
   ]
  },
  {
   "cell_type": "code",
   "execution_count": 172,
   "id": "a39006ba",
   "metadata": {},
   "outputs": [],
   "source": [
    "# resize_upper(subset_folders,256)"
   ]
  },
  {
   "cell_type": "code",
   "execution_count": 176,
   "id": "d07e169c",
   "metadata": {},
   "outputs": [],
   "source": [
    "# resize_lower(subset_folders,256)"
   ]
  },
  {
   "cell_type": "code",
   "execution_count": 177,
   "id": "9cb150be",
   "metadata": {},
   "outputs": [],
   "source": [
    "# resize_compress(subset_folders,256)"
   ]
  },
  {
   "cell_type": "markdown",
   "id": "243cd5f8",
   "metadata": {},
   "source": [
    "## Renaming files"
   ]
  },
  {
   "cell_type": "code",
   "execution_count": 9,
   "id": "182be8f1",
   "metadata": {},
   "outputs": [],
   "source": [
    "path = '/home/ec2-user/SageMaker/wikiart-portrait/0'\n",
    "images = [file for file in os.listdir(path) if file.endswith(('jpeg', 'png', 'jpg'))]"
   ]
  },
  {
   "cell_type": "code",
   "execution_count": 10,
   "id": "f8c5e9cb",
   "metadata": {},
   "outputs": [],
   "source": [
    "def rename_files(path,images):\n",
    "    for i in range(len(images)):\n",
    "        suffix = images[i].split('.')[-1]\n",
    "        new_name = str(i) + '.' + suffix\n",
    "        old = os.path.join(path,images[i])\n",
    "        new = os.path.join(path,new_name)\n",
    "        os.rename(old, new)"
   ]
  },
  {
   "cell_type": "code",
   "execution_count": 11,
   "id": "7cc18b85",
   "metadata": {},
   "outputs": [],
   "source": [
    "rename_files(path,images)"
   ]
  },
  {
   "cell_type": "markdown",
   "id": "7d8af06d",
   "metadata": {},
   "source": [
    "## Convert to RGB PNG"
   ]
  },
  {
   "cell_type": "code",
   "execution_count": 23,
   "id": "cd10a60d",
   "metadata": {},
   "outputs": [],
   "source": [
    "from PIL import Image\n",
    "def jpg_to_png(path,images,saving):\n",
    "    for i in range(len(images)):\n",
    "        prefix = images[i].split('.')[0]\n",
    "        new_name = prefix + '.png' \n",
    "        im1 = Image.open(os.path.join(path,images[i]))\n",
    "        im1.convert('RGB').save(os.path.join(saving,new_name))"
   ]
  },
  {
   "cell_type": "code",
   "execution_count": 39,
   "id": "50e1ad28",
   "metadata": {},
   "outputs": [],
   "source": [
    "path = '/home/ec2-user/SageMaker/genre-224/1'\n",
    "saving = '/home/ec2-user/SageMaker/genre-224/1_png'\n",
    "images = [file for file in os.listdir(path) if file.endswith(('jpeg', 'png', 'jpg'))]"
   ]
  },
  {
   "cell_type": "code",
   "execution_count": 40,
   "id": "738fbea5",
   "metadata": {},
   "outputs": [
    {
     "data": {
      "text/plain": [
       "False"
      ]
     },
     "execution_count": 40,
     "metadata": {},
     "output_type": "execute_result"
    }
   ],
   "source": [
    "'13962.png' in os.listdir(path)"
   ]
  },
  {
   "cell_type": "code",
   "execution_count": 41,
   "id": "5f201d17",
   "metadata": {},
   "outputs": [],
   "source": [
    "# jpg_to_png(path,images,saving)"
   ]
  },
  {
   "cell_type": "code",
   "execution_count": 38,
   "id": "5dc1f8a9",
   "metadata": {},
   "outputs": [],
   "source": [
    "# for i in range(len(images)):\n",
    "#     if images[i].split('.')[-1] == 'png':\n",
    "#         os.remove(os.path.join(path,images[i]))"
   ]
  },
  {
   "cell_type": "code",
   "execution_count": null,
   "id": "43eac73b",
   "metadata": {},
   "outputs": [],
   "source": [
    "# shutil.rmtree()"
   ]
  },
  {
   "cell_type": "code",
   "execution_count": 42,
   "id": "3d54ed5e",
   "metadata": {},
   "outputs": [
    {
     "data": {
      "text/plain": [
       "14971"
      ]
     },
     "execution_count": 42,
     "metadata": {},
     "output_type": "execute_result"
    }
   ],
   "source": [
    "len(os.listdir(saving))"
   ]
  },
  {
   "cell_type": "markdown",
   "id": "e3cd88e2",
   "metadata": {},
   "source": [
    "## Resize single folder"
   ]
  },
  {
   "cell_type": "code",
   "execution_count": 12,
   "id": "d5fd608d",
   "metadata": {},
   "outputs": [],
   "source": [
    "def resize(path,cnn_size,saving):\n",
    "    '''\n",
    "    Resizes the images so that one side is 256 and the other is larger\n",
    "    Crops it so that the output is 256x256\n",
    "    '''\n",
    "    dirpath = os.path.join(path)\n",
    "    saving_dir = saving\n",
    "    images = [file for file in os.listdir(dirpath) if file.endswith(('jpeg', 'png', 'jpg'))]\n",
    "\n",
    "    if not os.path.exists(saving_dir):\n",
    "        os.makedirs(saving_dir)\n",
    "\n",
    "    else:\n",
    "        for f in os.listdir(saving_dir):\n",
    "            os.remove(os.path.join(saving_dir, f))\n",
    "\n",
    "    for image in images:\n",
    "        try:\n",
    "            img = Image.open(path+'/'+image)\n",
    "            \n",
    "            if img.size[0] >= img.size[1] and img.size[1] > cnn_size:\n",
    "\n",
    "                fixed_height = cnn_size\n",
    "                height_percent = (fixed_height / float(img.size[1]))\n",
    "                width_size = int((float(img.size[0]) * float(height_percent)))\n",
    "                img = img.resize((width_size, fixed_height), PIL.Image.NEAREST)\n",
    "                cropped = centre_crop(img,cnn_size)\n",
    "                cropped.save(os.path.join(saving_dir,image), optimize=True, quality=100)\n",
    "\n",
    "            elif img.size[0] < img.size[1] and img.size[0] > cnn_size:\n",
    "                fixed_width = cnn_size\n",
    "                width_percent = (fixed_width / float(img.size[0]))\n",
    "                height_size = int((float(img.size[1]) * float(width_percent)))\n",
    "                img = img.resize((fixed_width, height_size), PIL.Image.NEAREST)\n",
    "                cropped = centre_crop(img,cnn_size)\n",
    "                cropped.save(os.path.join(saving_dir,image), optimize=True, quality=100)\n",
    "                \n",
    "        except Exception: \n",
    "            pass"
   ]
  },
  {
   "cell_type": "code",
   "execution_count": 13,
   "id": "b7848e8c",
   "metadata": {},
   "outputs": [],
   "source": [
    "def centre_crop(im,size):\n",
    "    '''\n",
    "    Crops the image when one side is 256 and the other is bigger\n",
    "    Outputs a 256x256 centred image\n",
    "    '''\n",
    "    # Opens a image in RGB mode\n",
    "#     im = Image.open(r\"C:\\Users\\Admin\\Pictures\\network.png\")\n",
    " \n",
    "    # Setting the points for cropped image\n",
    "    width, height = im.size\n",
    "    \n",
    "    left = (width - size)/2\n",
    "    top = (height - size)/2\n",
    "    right = (width + size)/2\n",
    "    bottom = (height + size)/2\n",
    "\n",
    "        \n",
    "    # Cropped image of above dimension\n",
    "    # (It will not change original image)\n",
    "    im1 = im.crop((left, top, right, bottom))\n",
    "    return im1"
   ]
  },
  {
   "cell_type": "code",
   "execution_count": 21,
   "id": "f979aa5b",
   "metadata": {},
   "outputs": [],
   "source": [
    "saving_dir = '/home/ec2-user/SageMaker/genre-224/1_resized'"
   ]
  },
  {
   "cell_type": "code",
   "execution_count": 22,
   "id": "1e167130",
   "metadata": {},
   "outputs": [],
   "source": [
    "path = '/home/ec2-user/SageMaker/genre-224/1'"
   ]
  },
  {
   "cell_type": "code",
   "execution_count": 23,
   "id": "78257967",
   "metadata": {},
   "outputs": [],
   "source": [
    "resize(path,128,saving_dir)"
   ]
  },
  {
   "cell_type": "code",
   "execution_count": 24,
   "id": "654db932",
   "metadata": {},
   "outputs": [],
   "source": [
    "import os"
   ]
  },
  {
   "cell_type": "code",
   "execution_count": 25,
   "id": "b7000d39",
   "metadata": {},
   "outputs": [
    {
     "data": {
      "text/plain": [
       "14971"
      ]
     },
     "execution_count": 25,
     "metadata": {},
     "output_type": "execute_result"
    }
   ],
   "source": [
    "len(os.listdir(saving_dir))"
   ]
  },
  {
   "cell_type": "markdown",
   "id": "adeb6e1b",
   "metadata": {},
   "source": [
    "## Rename files"
   ]
  },
  {
   "cell_type": "code",
   "execution_count": 12,
   "id": "de10a2af",
   "metadata": {},
   "outputs": [],
   "source": [
    "import os\n",
    "os.getcwd()\n",
    "collection = \"/home/ec2-user/SageMaker/genre-224/1\"\n",
    "for i, filename in enumerate(os.listdir(collection)):\n",
    "    os.rename(str(collection)+ '/' + filename, str(collection)+ '/' + str(i) + \".jpg\")"
   ]
  },
  {
   "cell_type": "code",
   "execution_count": 13,
   "id": "d33000c9",
   "metadata": {},
   "outputs": [],
   "source": [
    "lst = []\n",
    "directory = os.listdir(collection)\n",
    "for i in range(len(os.listdir(collection))):\n",
    "    num = int(directory[i].split('.')[0])\n",
    "#     print(num)\n",
    "    lst.append(num)"
   ]
  },
  {
   "cell_type": "code",
   "execution_count": 14,
   "id": "4298bbae",
   "metadata": {},
   "outputs": [
    {
     "data": {
      "text/plain": [
       "14972"
      ]
     },
     "execution_count": 14,
     "metadata": {},
     "output_type": "execute_result"
    }
   ],
   "source": [
    "len(lst)"
   ]
  },
  {
   "cell_type": "code",
   "execution_count": 17,
   "id": "19492879",
   "metadata": {},
   "outputs": [],
   "source": [
    "lst.sort()"
   ]
  },
  {
   "cell_type": "code",
   "execution_count": 19,
   "id": "83fff70c",
   "metadata": {},
   "outputs": [],
   "source": [
    "# lst"
   ]
  },
  {
   "cell_type": "code",
   "execution_count": 20,
   "id": "4ddc3011",
   "metadata": {},
   "outputs": [],
   "source": [
    "# shutil.rmtree('/home/ec2-user/SageMaker/wikiart-portrait/1')"
   ]
  },
  {
   "cell_type": "code",
   "execution_count": null,
   "id": "ba9b169c",
   "metadata": {},
   "outputs": [],
   "source": []
  }
 ],
 "metadata": {
  "kernelspec": {
   "display_name": "conda_amazonei_pytorch_latest_p36",
   "language": "python",
   "name": "conda_amazonei_pytorch_latest_p36"
  },
  "language_info": {
   "codemirror_mode": {
    "name": "ipython",
    "version": 3
   },
   "file_extension": ".py",
   "mimetype": "text/x-python",
   "name": "python",
   "nbconvert_exporter": "python",
   "pygments_lexer": "ipython3",
   "version": "3.6.13"
  }
 },
 "nbformat": 4,
 "nbformat_minor": 5
}
