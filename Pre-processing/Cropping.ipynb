{
 "cells": [
  {
   "cell_type": "code",
   "execution_count": 54,
   "id": "6a5af974",
   "metadata": {},
   "outputs": [],
   "source": [
    "import os\n",
    "from PIL import Image  \n",
    "import PIL  \n",
    "import cv2"
   ]
  },
  {
   "cell_type": "code",
   "execution_count": 55,
   "id": "16760104",
   "metadata": {},
   "outputs": [],
   "source": [
    "imgs_path = []\n",
    "directory = 'Gen2/GAN'\n",
    "for filename in os.listdir(directory):\n",
    "    imgs_path.append('Gen2/GAN/' + filename)"
   ]
  },
  {
   "cell_type": "code",
   "execution_count": 56,
   "id": "d22808e2",
   "metadata": {},
   "outputs": [
    {
     "data": {
      "text/plain": [
       "['Gen2/GAN/samples_0_12500_realism.png',\n",
       " 'Gen2/GAN/samples_1_17000.png',\n",
       " 'Gen2/GAN/samples_1_14000_64_2.png',\n",
       " 'Gen2/GAN/samples_1_12500_realism.png',\n",
       " 'Gen2/GAN/samples_0_19999_64_1.png',\n",
       " 'Gen2/GAN/samples_0_14000_64_2.png',\n",
       " 'Gen2/GAN/samples_0_21999_64_1.png',\n",
       " 'Gen2/GAN/samples_1_12000_64_3.png',\n",
       " 'Gen2/GAN/samples_1_19000_expressionism.png',\n",
       " 'Gen2/GAN/samples_2_12500 15.35.59.png',\n",
       " 'Gen2/GAN/samples_1_20500_impressionism.png',\n",
       " 'Gen2/GAN/samples_1_10500_realism.png',\n",
       " 'Gen2/GAN/samples_1_15500_64_3.png',\n",
       " 'Gen2/GAN/samples_2_11000 15.35.59.png',\n",
       " 'Gen2/GAN/samples_0_15500_64_3.png',\n",
       " 'Gen2/GAN/samples_13_9500_styles.png',\n",
       " 'Gen2/GAN/samples_1_30999_64_1.png',\n",
       " 'Gen2/GAN/samples_0_20500_impressionism.png',\n",
       " 'Gen2/GAN/samples_2_9500_styles.png',\n",
       " 'Gen2/GAN/samples_0_19000_expressionism.png']"
      ]
     },
     "execution_count": 56,
     "metadata": {},
     "output_type": "execute_result"
    }
   ],
   "source": [
    "imgs_path"
   ]
  },
  {
   "cell_type": "code",
   "execution_count": 57,
   "id": "34bf1fb2",
   "metadata": {},
   "outputs": [],
   "source": [
    "rows = 7\n",
    "cols = 12"
   ]
  },
  {
   "cell_type": "code",
   "execution_count": 58,
   "id": "b398a668",
   "metadata": {},
   "outputs": [],
   "source": [
    "for i in range(len(imgs_path)):\n",
    "    name = imgs_path[i].split('/')[-1].split('.')[0]\n",
    "    right = 64\n",
    "    left = 0\n",
    "    top = 0\n",
    "    bottom = 64\n",
    "    try:\n",
    "        img = Image.open(imgs_path[i])\n",
    "    except FileNotFoundError:\n",
    "        pass\n",
    "    \n",
    "    for j in range(rows):\n",
    "        for k in range(cols):\n",
    "            im1 = img.crop((left, top, right, bottom))\n",
    "            im1.save('cropped/{}_{}_{}.png'.format(name,j,k))\n",
    "            right += 64\n",
    "            left += 64\n",
    "        top += 64\n",
    "        bottom += 64\n",
    "        right = 64\n",
    "        left = 0"
   ]
  },
  {
   "cell_type": "code",
   "execution_count": null,
   "id": "23fcb9f5",
   "metadata": {},
   "outputs": [],
   "source": []
  }
 ],
 "metadata": {
  "kernelspec": {
   "display_name": "Python 3 (ipykernel)",
   "language": "python",
   "name": "python3"
  },
  "language_info": {
   "codemirror_mode": {
    "name": "ipython",
    "version": 3
   },
   "file_extension": ".py",
   "mimetype": "text/x-python",
   "name": "python",
   "nbconvert_exporter": "python",
   "pygments_lexer": "ipython3",
   "version": "3.9.7"
  }
 },
 "nbformat": 4,
 "nbformat_minor": 5
}
