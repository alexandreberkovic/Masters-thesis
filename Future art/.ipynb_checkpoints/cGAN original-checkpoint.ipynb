{
 "cells": [
  {
   "cell_type": "code",
   "execution_count": 1,
   "id": "c3d356aa",
   "metadata": {},
   "outputs": [
    {
     "name": "stderr",
     "output_type": "stream",
     "text": [
      "Using TensorFlow backend.\n"
     ]
    },
    {
     "name": "stdout",
     "output_type": "stream",
     "text": [
      "WARNING:tensorflow:From /home/ec2-user/anaconda3/envs/tensorflow_p36/gpu_cuda10.0/lib/python3.6/site-packages/tensorflow_core/__init__.py:1473: The name tf.estimator.inputs is deprecated. Please use tf.compat.v1.estimator.inputs instead.\n",
      "\n"
     ]
    }
   ],
   "source": [
    "import numpy as np\n",
    "from keras.models import Model, load_model\n",
    "from keras.layers import Dense, Dropout, Flatten, Input, Conv2D, Reshape\n",
    "from keras.layers import Concatenate, Conv2DTranspose\n",
    "from keras.layers.advanced_activations import LeakyReLU\n",
    "from keras.optimizers import Adam\n",
    "from keras import backend\n",
    "backend.set_image_dim_ordering('th')"
   ]
  },
  {
   "cell_type": "code",
   "execution_count": 2,
   "id": "7a067d9d",
   "metadata": {},
   "outputs": [],
   "source": [
    "import os\n",
    "import shutil"
   ]
  },
  {
   "cell_type": "code",
   "execution_count": 3,
   "id": "4efe3dd7",
   "metadata": {},
   "outputs": [],
   "source": [
    "# set parameters\n",
    "BATCH_SIZE = 512\n",
    "N_EPOCHS = 200\n",
    "RANDOM_DIM = 128\n",
    "adam = Adam(lr=0.0002, beta_1=0.5)\n",
    "exp_replay = []\n",
    "dLosses = []\n",
    "gLosses = []\n",
    "# load images\n",
    "X_train = np.load('x.npy')\n",
    "# load latent codes and normalise each dimension to mean=0 sd=1\n",
    "c_train = np.load('c.npy')\n",
    "CODE_DIM = c_train.shape[1]\n",
    "for i in range(1,CODE_DIM):\n",
    "    c_train[:,i] = (c_train[:,i] - c_train[:,i].mean())/ np.sqrt(c_train[:,i].var())\n",
    "num_batches = int(X_train.shape[0]/BATCH_SIZE)\n",
    "# store mean and covariance of the latent distribution as a whole\n",
    "mu = np.zeros((CODE_DIM,))"
   ]
  },
  {
   "cell_type": "code",
   "execution_count": 4,
   "id": "2183c18b",
   "metadata": {},
   "outputs": [
    {
     "data": {
      "text/plain": [
       "8"
      ]
     },
     "execution_count": 4,
     "metadata": {},
     "output_type": "execute_result"
    }
   ],
   "source": [
    "len(mu)"
   ]
  },
  {
   "cell_type": "code",
   "execution_count": 5,
   "id": "b2e589d7",
   "metadata": {},
   "outputs": [
    {
     "data": {
      "text/plain": [
       "(8521, 64, 64, 3)"
      ]
     },
     "execution_count": 5,
     "metadata": {},
     "output_type": "execute_result"
    }
   ],
   "source": [
    "np.shape(X_train)"
   ]
  },
  {
   "cell_type": "code",
   "execution_count": 6,
   "id": "5bf296a3",
   "metadata": {},
   "outputs": [],
   "source": [
    "X_train=np.transpose(X_train,(0,3, 2, 1))"
   ]
  },
  {
   "cell_type": "code",
   "execution_count": 7,
   "id": "bb912b45",
   "metadata": {},
   "outputs": [
    {
     "data": {
      "text/plain": [
       "(8521, 3, 64, 64)"
      ]
     },
     "execution_count": 7,
     "metadata": {},
     "output_type": "execute_result"
    }
   ],
   "source": [
    "np.shape(X_train)"
   ]
  },
  {
   "cell_type": "code",
   "execution_count": 8,
   "id": "ffd01406",
   "metadata": {},
   "outputs": [
    {
     "data": {
      "text/plain": [
       "8"
      ]
     },
     "execution_count": 8,
     "metadata": {},
     "output_type": "execute_result"
    }
   ],
   "source": [
    "len(c_train[0])"
   ]
  },
  {
   "cell_type": "code",
   "execution_count": 9,
   "id": "56de2640",
   "metadata": {},
   "outputs": [],
   "source": [
    "new = c_train.reshape(8521*8*8,8)"
   ]
  },
  {
   "cell_type": "code",
   "execution_count": 10,
   "id": "3d7917a9",
   "metadata": {},
   "outputs": [
    {
     "data": {
      "text/plain": [
       "(545344, 8)"
      ]
     },
     "execution_count": 10,
     "metadata": {},
     "output_type": "execute_result"
    }
   ],
   "source": [
    "np.shape(new)"
   ]
  },
  {
   "cell_type": "code",
   "execution_count": 11,
   "id": "2cfe366c",
   "metadata": {},
   "outputs": [],
   "source": [
    "c_train =new"
   ]
  },
  {
   "cell_type": "code",
   "execution_count": 12,
   "id": "3531056b",
   "metadata": {},
   "outputs": [],
   "source": [
    "Sigma = np.cov(new.transpose())"
   ]
  },
  {
   "cell_type": "code",
   "execution_count": 13,
   "id": "7706ad2f",
   "metadata": {},
   "outputs": [
    {
     "data": {
      "text/plain": [
       "array([[ 0.31443516,  0.4374253 , -0.05384316, -0.03351109, -0.02307182,\n",
       "         0.00261757, -0.02666501, -0.03283941],\n",
       "       [ 0.4374253 ,  2.0401889 , -0.12802434, -0.08620965, -0.1661456 ,\n",
       "        -0.01234746, -0.07865216, -0.08443822],\n",
       "       [-0.05384316, -0.12802434,  0.09895167,  0.03987367,  0.09886597,\n",
       "        -0.02348028,  0.02179384,  0.03877472],\n",
       "       [-0.03351109, -0.08620965,  0.03987367,  0.03867049,  0.03140197,\n",
       "        -0.0132292 ,  0.01926484,  0.03790667],\n",
       "       [-0.02307182, -0.1661456 ,  0.09886597,  0.03140197,  0.27523073,\n",
       "        -0.02970917,  0.05260029,  0.0288351 ],\n",
       "       [ 0.00261757, -0.01234746, -0.02348028, -0.0132292 , -0.02970917,\n",
       "         0.24519749,  0.08742931, -0.01582413],\n",
       "       [-0.02666501, -0.07865216,  0.02179384,  0.01926484,  0.05260029,\n",
       "         0.08742931,  0.13552722,  0.01105991],\n",
       "       [-0.03283941, -0.08443822,  0.03877472,  0.03790667,  0.0288351 ,\n",
       "        -0.01582413,  0.01105991,  0.03924199]])"
      ]
     },
     "execution_count": 13,
     "metadata": {},
     "output_type": "execute_result"
    }
   ],
   "source": [
    "Sigma"
   ]
  },
  {
   "cell_type": "code",
   "execution_count": 14,
   "id": "07efca82",
   "metadata": {},
   "outputs": [
    {
     "name": "stdout",
     "output_type": "stream",
     "text": [
      "WARNING:tensorflow:From /home/ec2-user/anaconda3/envs/tensorflow_p36/lib/python3.6/site-packages/keras/backend/tensorflow_backend.py:74: The name tf.get_default_graph is deprecated. Please use tf.compat.v1.get_default_graph instead.\n",
      "\n",
      "WARNING:tensorflow:From /home/ec2-user/anaconda3/envs/tensorflow_p36/lib/python3.6/site-packages/keras/backend/tensorflow_backend.py:517: The name tf.placeholder is deprecated. Please use tf.compat.v1.placeholder instead.\n",
      "\n",
      "WARNING:tensorflow:From /home/ec2-user/anaconda3/envs/tensorflow_p36/lib/python3.6/site-packages/keras/backend/tensorflow_backend.py:4138: The name tf.random_uniform is deprecated. Please use tf.random.uniform instead.\n",
      "\n",
      "WARNING:tensorflow:From /home/ec2-user/anaconda3/envs/tensorflow_p36/lib/python3.6/site-packages/keras/backend/tensorflow_backend.py:174: The name tf.get_default_session is deprecated. Please use tf.compat.v1.get_default_session instead.\n",
      "\n",
      "WARNING:tensorflow:From /home/ec2-user/anaconda3/envs/tensorflow_p36/lib/python3.6/site-packages/keras/backend/tensorflow_backend.py:181: The name tf.ConfigProto is deprecated. Please use tf.compat.v1.ConfigProto instead.\n",
      "\n",
      "WARNING:tensorflow:From /home/ec2-user/anaconda3/envs/tensorflow_p36/lib/python3.6/site-packages/keras/backend/tensorflow_backend.py:186: The name tf.Session is deprecated. Please use tf.compat.v1.Session instead.\n",
      "\n",
      "WARNING:tensorflow:From /home/ec2-user/anaconda3/envs/tensorflow_p36/lib/python3.6/site-packages/keras/backend/tensorflow_backend.py:190: The name tf.global_variables is deprecated. Please use tf.compat.v1.global_variables instead.\n",
      "\n",
      "WARNING:tensorflow:From /home/ec2-user/anaconda3/envs/tensorflow_p36/lib/python3.6/site-packages/keras/backend/tensorflow_backend.py:199: The name tf.is_variable_initialized is deprecated. Please use tf.compat.v1.is_variable_initialized instead.\n",
      "\n",
      "WARNING:tensorflow:From /home/ec2-user/anaconda3/envs/tensorflow_p36/lib/python3.6/site-packages/keras/backend/tensorflow_backend.py:206: The name tf.variables_initializer is deprecated. Please use tf.compat.v1.variables_initializer instead.\n",
      "\n",
      "WARNING:tensorflow:From /home/ec2-user/anaconda3/envs/tensorflow_p36/lib/python3.6/site-packages/keras/optimizers.py:790: The name tf.train.Optimizer is deprecated. Please use tf.compat.v1.train.Optimizer instead.\n",
      "\n",
      "WARNING:tensorflow:From /home/ec2-user/anaconda3/envs/tensorflow_p36/lib/python3.6/site-packages/keras/backend/tensorflow_backend.py:3376: The name tf.log is deprecated. Please use tf.math.log instead.\n",
      "\n",
      "WARNING:tensorflow:From /home/ec2-user/anaconda3/envs/tensorflow_p36/gpu_cuda10.0/lib/python3.6/site-packages/tensorflow_core/python/ops/nn_impl.py:183: where (from tensorflow.python.ops.array_ops) is deprecated and will be removed in a future version.\n",
      "Instructions for updating:\n",
      "Use tf.where in 2.0, which has the same broadcast rule as np.where\n"
     ]
    }
   ],
   "source": [
    "g_in_ran = Input(shape=(RANDOM_DIM,))\n",
    "g_in_cod = Input(shape=(CODE_DIM,))\n",
    "g_in = Concatenate()([g_in_ran, g_in_cod])\n",
    "g = Dense(2048*4*4, activation='relu')(g_in)\n",
    "g = Reshape((2048,4,4))(g)\n",
    "g = Conv2DTranspose(1024, kernel_size=(4,4), strides=2, padding='same', activation='relu')(g)\n",
    "g = Conv2DTranspose(512, kernel_size=(4,4), strides=2, padding='same', activation='relu')(g)\n",
    "g = Conv2DTranspose(256, kernel_size=(4,4), strides=2, padding='same', activation='relu')(g)\n",
    "# g = Conv2DTranspose(128, kernel_size=(4,4), strides=2, padding='same', activation='relu')(g)\n",
    "# g = Conv2DTranspose(64, kernel_size=(4,4), strides=2, padding='same', activation='relu')(g)\n",
    "g_out = Conv2DTranspose(3, kernel_size=(4,4), strides=2, padding='same', activation='tanh')(g)\n",
    "generator = Model([g_in_ran, g_in_cod], g_out)\n",
    "generator.compile(loss='binary_crossentropy', optimizer=adam)"
   ]
  },
  {
   "cell_type": "code",
   "execution_count": 15,
   "id": "c76f50c8",
   "metadata": {},
   "outputs": [
    {
     "name": "stdout",
     "output_type": "stream",
     "text": [
      "WARNING:tensorflow:From /home/ec2-user/anaconda3/envs/tensorflow_p36/lib/python3.6/site-packages/keras/backend/tensorflow_backend.py:133: The name tf.placeholder_with_default is deprecated. Please use tf.compat.v1.placeholder_with_default instead.\n",
      "\n",
      "WARNING:tensorflow:From /home/ec2-user/anaconda3/envs/tensorflow_p36/lib/python3.6/site-packages/keras/backend/tensorflow_backend.py:3445: calling dropout (from tensorflow.python.ops.nn_ops) with keep_prob is deprecated and will be removed in a future version.\n",
      "Instructions for updating:\n",
      "Please use `rate` instead of `keep_prob`. Rate should be set to `rate = 1 - keep_prob`.\n"
     ]
    }
   ],
   "source": [
    "# define conditional discriminator with Keras\n",
    "d_in_img = Input(shape=(3,64,64))\n",
    "d_in_cod = Input(shape=(CODE_DIM,))\n",
    "d = Conv2D(64, kernel_size=(5,5), strides=(2,2), padding='same')(d_in_img)\n",
    "d = LeakyReLU(0.2)(d)\n",
    "d = Dropout(0.3)(d)\n",
    "d = Conv2D(128, kernel_size=(5,5), strides=(2,2), padding='same')(d)\n",
    "d = LeakyReLU(0.2)(d)\n",
    "d = Dropout(0.3)(d)\n",
    "d = Conv2D(256, kernel_size=(5,5), strides=(2,2), padding='same')(d)\n",
    "d = LeakyReLU(0.2)(d)\n",
    "d = Dropout(0.3)(d)\n",
    "d = Conv2D(512, kernel_size=(5,5), strides=(2,2), padding='same')(d)\n",
    "d = LeakyReLU(0.2)(d)\n",
    "d = Dropout(0.3)(d)\n",
    "d = Flatten()(d)\n",
    "d = Dense(256)(d)\n",
    "d = LeakyReLU(0.2)(d)\n",
    "d = Dropout(0.3)(d)\n",
    "d = Concatenate()([d, d_in_cod])\n",
    "# d = Dense(256)(d)\n",
    "# d = LeakyReLU(0.2)(d)\n",
    "# d = Dropout(0.3)(d)\n",
    "d_out = Dense(1, activation='sigmoid')(d)\n",
    "discriminator = Model([d_in_img, d_in_cod], d_out)\n",
    "discriminator.compile(loss='binary_crossentropy', optimizer=adam)\n"
   ]
  },
  {
   "cell_type": "code",
   "execution_count": 16,
   "id": "f5fb4d77",
   "metadata": {},
   "outputs": [],
   "source": [
    "# define joint CGAN network with Keras\n",
    "discriminator.trainable = False\n",
    "loaded_model = True\n",
    "disc_condition_input = Input(shape=(CODE_DIM,))\n",
    "gen_condition_input = Input(shape=(CODE_DIM,))\n",
    "gan_input = Input(shape=(RANDOM_DIM,))\n",
    "x = generator([gan_input, gen_condition_input])\n",
    "gan_out = discriminator([x, disc_condition_input])\n",
    "gan = Model([gan_input, gen_condition_input, disc_condition_input], gan_out)\n",
    "# gan =  keras.models.load_model('cGAN_checkpoints/G_140.h5')\n",
    "gan.compile(optimizer=Adam(0.0002, 0.5), loss='binary_crossentropy')\n"
   ]
  },
  {
   "cell_type": "code",
   "execution_count": 17,
   "id": "fb8d1cd9",
   "metadata": {},
   "outputs": [],
   "source": [
    "# functions to sample random noise z and random code c\n",
    "def generate_noise(n_samples, noise_dim):\n",
    "    X = np.random.normal(0, 1, size=(n_samples, noise_dim))\n",
    "    return X\n",
    "\n",
    "def generate_random_code(n_samples):\n",
    "    random_codes = np.random.multivariate_normal(mu, Sigma, n_samples)\n",
    "    return random_codes\n"
   ]
  },
  {
   "cell_type": "code",
   "execution_count": 18,
   "id": "980c0093",
   "metadata": {},
   "outputs": [
    {
     "data": {
      "text/plain": [
       "8521"
      ]
     },
     "execution_count": 18,
     "metadata": {},
     "output_type": "execute_result"
    }
   ],
   "source": [
    "X_train.shape[0]"
   ]
  },
  {
   "cell_type": "code",
   "execution_count": 19,
   "id": "9eed55ef",
   "metadata": {},
   "outputs": [
    {
     "name": "stdout",
     "output_type": "stream",
     "text": [
      "0\n",
      "WARNING:tensorflow:From /home/ec2-user/anaconda3/envs/tensorflow_p36/lib/python3.6/site-packages/keras/backend/tensorflow_backend.py:986: The name tf.assign_add is deprecated. Please use tf.compat.v1.assign_add instead.\n",
      "\n",
      "WARNING:tensorflow:From /home/ec2-user/anaconda3/envs/tensorflow_p36/lib/python3.6/site-packages/keras/backend/tensorflow_backend.py:973: The name tf.assign is deprecated. Please use tf.compat.v1.assign instead.\n",
      "\n",
      "1\n",
      "2\n",
      "3\n",
      "4\n",
      "5\n",
      "6\n",
      "7\n",
      "8\n",
      "9\n",
      "10\n",
      "11\n",
      "12\n",
      "13\n",
      "14\n",
      "15\n",
      "16\n",
      "17\n",
      "18\n",
      "19\n",
      "Model saved !\n",
      "20\n",
      "21\n",
      "22\n",
      "23\n",
      "24\n",
      "25\n",
      "26\n",
      "27\n",
      "28\n",
      "29\n",
      "30\n",
      "31\n",
      "32\n",
      "33\n",
      "34\n",
      "35\n",
      "36\n",
      "37\n",
      "38\n",
      "39\n",
      "Model saved !\n",
      "40\n",
      "41\n",
      "42\n",
      "43\n",
      "44\n",
      "45\n",
      "46\n",
      "47\n",
      "48\n",
      "49\n",
      "50\n",
      "51\n",
      "52\n",
      "53\n",
      "54\n",
      "55\n",
      "56\n",
      "57\n",
      "58\n",
      "59\n",
      "Model saved !\n",
      "60\n",
      "61\n",
      "62\n",
      "63\n",
      "64\n",
      "65\n",
      "66\n",
      "67\n",
      "68\n",
      "69\n",
      "70\n",
      "71\n",
      "72\n",
      "73\n",
      "74\n",
      "75\n",
      "76\n",
      "77\n",
      "78\n",
      "79\n",
      "Model saved !\n",
      "80\n",
      "81\n",
      "82\n",
      "83\n",
      "84\n",
      "85\n",
      "86\n",
      "87\n",
      "88\n",
      "89\n",
      "90\n",
      "91\n",
      "92\n",
      "93\n",
      "94\n",
      "95\n",
      "96\n",
      "97\n",
      "98\n",
      "99\n",
      "Model saved !\n",
      "100\n",
      "101\n",
      "102\n",
      "103\n",
      "104\n",
      "105\n",
      "106\n",
      "107\n",
      "108\n",
      "109\n",
      "110\n",
      "111\n",
      "112\n",
      "113\n",
      "114\n",
      "115\n",
      "116\n",
      "117\n",
      "118\n",
      "119\n",
      "Model saved !\n",
      "120\n",
      "121\n",
      "122\n",
      "123\n",
      "124\n",
      "125\n",
      "126\n",
      "127\n",
      "128\n",
      "129\n",
      "130\n",
      "131\n",
      "132\n",
      "133\n",
      "134\n",
      "135\n",
      "136\n",
      "137\n",
      "138\n",
      "139\n",
      "Model saved !\n",
      "140\n",
      "141\n",
      "142\n",
      "143\n",
      "144\n",
      "145\n",
      "146\n",
      "147\n",
      "148\n",
      "149\n",
      "150\n",
      "151\n",
      "152\n",
      "153\n",
      "154\n",
      "155\n",
      "156\n",
      "157\n",
      "158\n",
      "159\n",
      "Model saved !\n",
      "160\n",
      "161\n",
      "162\n",
      "163\n",
      "164\n",
      "165\n",
      "166\n",
      "167\n",
      "168\n",
      "169\n",
      "170\n",
      "171\n",
      "172\n",
      "173\n",
      "174\n",
      "175\n",
      "176\n",
      "177\n",
      "178\n",
      "179\n",
      "Model saved !\n",
      "180\n",
      "181\n",
      "182\n",
      "183\n",
      "184\n",
      "185\n",
      "186\n",
      "187\n",
      "188\n",
      "189\n",
      "190\n",
      "191\n",
      "192\n",
      "193\n",
      "194\n",
      "195\n",
      "196\n",
      "197\n",
      "198\n",
      "199\n",
      "Model saved !\n"
     ]
    }
   ],
   "source": [
    "# training\n",
    "for epoch in range(N_EPOCHS):\n",
    "\n",
    "    cum_d_loss = 0.\n",
    "    cum_g_loss = 0.\n",
    "    # at each epoch, shuffle dataset\n",
    "    idx_shuffle = np.random.choice(X_train.shape[0], X_train.shape[0], replace=False)\n",
    "    X_train = X_train[idx_shuffle]\n",
    "    c_train = c_train[idx_shuffle]\n",
    "    print(epoch)\n",
    "    for batch_idx in range(num_batches):\n",
    "#         print(batch_idx)\n",
    "        # get the set of real images and codes to be used in this iteration\n",
    "        images = X_train[batch_idx*BATCH_SIZE : (batch_idx+1)*BATCH_SIZE].astype(np.float32)/127.5 - 1.0\n",
    "        codes = c_train[batch_idx*BATCH_SIZE : (batch_idx+1)*BATCH_SIZE]\n",
    "        \n",
    "        # generate noise, random codes and then images\n",
    "        noise = generate_noise(BATCH_SIZE, RANDOM_DIM)\n",
    "        rand_codes = generate_random_code(BATCH_SIZE)\n",
    "        generated_images = generator.predict([noise, rand_codes])\n",
    "        \n",
    "        # train on soft targets (add noise) and randomly flip 5% of targets\n",
    "        noise_prop = 0.05\n",
    "        \n",
    "        # prepare labels for real data\n",
    "        true_labels = np.zeros((BATCH_SIZE, 1)) + np.random.uniform(low=0.0,\n",
    "                              high=0.1, size=(BATCH_SIZE, 1))\n",
    "        flipped_idx = np.random.choice(np.arange(len(true_labels)),\n",
    "                                       size=int(noise_prop*len(true_labels)))\n",
    "        true_labels[flipped_idx] = 1 - true_labels[flipped_idx]\n",
    "        \n",
    "        # train discriminator on real data\n",
    "        discriminator.trainable = True\n",
    "        d_loss_true = discriminator.train_on_batch([images, codes],\n",
    "                                                   true_labels)\n",
    "        \n",
    "        # prepare labels for generated data\n",
    "        gene_labels = np.ones((BATCH_SIZE, 1)) - np.random.uniform(low=0.0,\n",
    "                             high=0.1, size=(BATCH_SIZE, 1))\n",
    "        flipped_idx = np.random.choice(np.arange(len(gene_labels)),\n",
    "                                       size=int(noise_prop*len(gene_labels)))\n",
    "        gene_labels[flipped_idx] = 1 - gene_labels[flipped_idx]\n",
    "        \n",
    "        # train discriminator on generated data\n",
    "        d_loss_gene = discriminator.train_on_batch([generated_images,\n",
    "                                                    rand_codes],\n",
    "                                                   gene_labels)\n",
    "        \n",
    "        # store a random point for experience replay\n",
    "        r_idx = np.random.randint(BATCH_SIZE)\n",
    "        exp_replay.append([generated_images[r_idx], rand_codes[r_idx],\n",
    "                           gene_labels[r_idx]])\n",
    "        \n",
    "        # if we have enough points, do experience replay\n",
    "        if len(exp_replay) == BATCH_SIZE:\n",
    "            generated_images = np.array([p[0] for p in exp_replay])\n",
    "            codes = np.array([p[1] for p in exp_replay])\n",
    "            gene_labels = np.array([p[2] for p in exp_replay])\n",
    "            exp_loss = discriminator.train_on_batch([generated_images, codes],\n",
    "                                                    gene_labels)\n",
    "            exp_replay = []\n",
    "        \n",
    "        d_loss = 0.5 * np.add(d_loss_true, d_loss_gene)\n",
    "        cum_d_loss += d_loss\n",
    "        \n",
    "        # train generator\n",
    "        noise = generate_noise(BATCH_SIZE, RANDOM_DIM)\n",
    "        random_codes = generate_random_code(BATCH_SIZE)\n",
    "        discriminator.trainable = False\n",
    "        g_loss = gan.train_on_batch([noise, random_codes, random_codes],\n",
    "                                    np.zeros((BATCH_SIZE, 1)))\n",
    "        cum_g_loss += g_loss\n",
    "    \n",
    "    # store losses and periodically save models\n",
    "    dLosses.append(cum_d_loss / num_batches)\n",
    "    gLosses.append(cum_g_loss / num_batches)\n",
    "    epoch_plus = epoch+1\n",
    "    if epoch_plus % 20 == 0:\n",
    "        print('Model saved !')\n",
    "        generator.save('cGAN_checkpoints/G_%d.h5' % epoch_plus)\n",
    "    "
   ]
  },
  {
   "cell_type": "code",
   "execution_count": null,
   "id": "837d6ee2",
   "metadata": {},
   "outputs": [],
   "source": [
    "# import keras.models"
   ]
  },
  {
   "cell_type": "code",
   "execution_count": null,
   "id": "94016787",
   "metadata": {},
   "outputs": [],
   "source": [
    "# generator = keras.models.load_model('cGAN_checkpoints/G_20.h5')"
   ]
  },
  {
   "cell_type": "markdown",
   "id": "117628cb",
   "metadata": {},
   "source": [
    "# Predictive"
   ]
  },
  {
   "cell_type": "code",
   "execution_count": 20,
   "id": "4ad50973",
   "metadata": {},
   "outputs": [],
   "source": [
    "import numpy as np\n",
    "from sklearn import linear_model\n"
   ]
  },
  {
   "cell_type": "code",
   "execution_count": 21,
   "id": "cf55c76c",
   "metadata": {},
   "outputs": [],
   "source": [
    "y = np.unique(np.load('y.npy'))"
   ]
  },
  {
   "cell_type": "code",
   "execution_count": 22,
   "id": "06e8d364",
   "metadata": {},
   "outputs": [],
   "source": [
    "y = np.load('idx.npy')"
   ]
  },
  {
   "cell_type": "code",
   "execution_count": 23,
   "id": "e1c815d3",
   "metadata": {},
   "outputs": [
    {
     "data": {
      "text/plain": [
       "array([ 0,  0,  0, ..., 13, 13, 13])"
      ]
     },
     "execution_count": 23,
     "metadata": {},
     "output_type": "execute_result"
    }
   ],
   "source": [
    "y"
   ]
  },
  {
   "cell_type": "code",
   "execution_count": 24,
   "id": "00de37ae",
   "metadata": {},
   "outputs": [
    {
     "data": {
      "text/plain": [
       "8521"
      ]
     },
     "execution_count": 24,
     "metadata": {},
     "output_type": "execute_result"
    }
   ],
   "source": [
    "len(y)"
   ]
  },
  {
   "cell_type": "code",
   "execution_count": 25,
   "id": "13392047",
   "metadata": {},
   "outputs": [],
   "source": [
    "c = c_train"
   ]
  },
  {
   "cell_type": "code",
   "execution_count": 26,
   "id": "1be39e4a",
   "metadata": {},
   "outputs": [],
   "source": [
    "# normalise latent codes\n",
    "for i in range(8):\n",
    "    c[:,i] = (c[:,i] - c[:,i].mean())/np.sqrt(c[:,i].var())"
   ]
  },
  {
   "cell_type": "code",
   "execution_count": 27,
   "id": "1392e906",
   "metadata": {},
   "outputs": [],
   "source": [
    "# compute mean of each of the 20 latent movements\n",
    "mu_future = np.zeros((8,))\n",
    "mus = np.zeros((14,8))"
   ]
  },
  {
   "cell_type": "code",
   "execution_count": 28,
   "id": "12c648af",
   "metadata": {},
   "outputs": [],
   "source": [
    "mvmts = np.array([0,1,2,3,4,5,6,7,8,9,10,11,12,13])*1.0"
   ]
  },
  {
   "cell_type": "code",
   "execution_count": 29,
   "id": "042dbdbe",
   "metadata": {},
   "outputs": [],
   "source": [
    "for j in range(14):\n",
    "    mus[j,:] = c[y==j,:].mean(axis=0)"
   ]
  },
  {
   "cell_type": "code",
   "execution_count": 30,
   "id": "56cfa649",
   "metadata": {},
   "outputs": [],
   "source": [
    "# regress each latent means dimension on the vector of K=20 movement labels\n",
    "for i in range(8):\n",
    "    y_i = mus[:,i]\n",
    "    x_i = mvmts.reshape((14,1))\n",
    "    x_new = np.array([14.]).reshape((1,1))\n",
    "    regr = linear_model.LinearRegression()\n",
    "    regr.fit(x_i, y_i)\n",
    "    # predict dimension i of the future latent mean\n",
    "    mu_future[i] = regr.predict(x_new)"
   ]
  },
  {
   "cell_type": "code",
   "execution_count": 31,
   "id": "b040f4f0",
   "metadata": {},
   "outputs": [],
   "source": [
    "# save all latent movement means, including the future prediction\n",
    "mu_all = np.concatenate([mus, mu_future.reshape((1,8))])\n",
    "mv_all = np.array([0,1,2,3,4,5,6,7,8,9,10,11,12,13])*1.0\n",
    "np.save(\"mus.npy\", mu_all)\n"
   ]
  },
  {
   "cell_type": "code",
   "execution_count": 32,
   "id": "47338398",
   "metadata": {},
   "outputs": [],
   "source": [
    "n = 4"
   ]
  },
  {
   "cell_type": "code",
   "execution_count": 33,
   "id": "de28ca47",
   "metadata": {},
   "outputs": [],
   "source": [
    "random_dim = 128"
   ]
  },
  {
   "cell_type": "code",
   "execution_count": 34,
   "id": "39c89607",
   "metadata": {},
   "outputs": [],
   "source": [
    "# select future mean and covariance, generate random noise and codes\n",
    "noise = generate_noise(8521, random_dim) # function from CGAN_128.py\n",
    "mu_i = mu_future"
   ]
  },
  {
   "cell_type": "code",
   "execution_count": 35,
   "id": "40b159ab",
   "metadata": {},
   "outputs": [],
   "source": [
    "n = generate_noise(128,128)"
   ]
  },
  {
   "cell_type": "code",
   "execution_count": 36,
   "id": "5b106519",
   "metadata": {},
   "outputs": [
    {
     "data": {
      "text/plain": [
       "(8521, 128)"
      ]
     },
     "execution_count": 36,
     "metadata": {},
     "output_type": "execute_result"
    }
   ],
   "source": [
    "np.shape(noise)"
   ]
  },
  {
   "cell_type": "code",
   "execution_count": 65,
   "id": "37a49392",
   "metadata": {},
   "outputs": [
    {
     "data": {
      "text/plain": [
       "(1957, 128)"
      ]
     },
     "execution_count": 65,
     "metadata": {},
     "output_type": "execute_result"
    }
   ],
   "source": [
    "# np.shape(noise[y==0,:])"
   ]
  },
  {
   "cell_type": "code",
   "execution_count": 291,
   "id": "84b4de64",
   "metadata": {},
   "outputs": [],
   "source": [
    "mvt = 14"
   ]
  },
  {
   "cell_type": "code",
   "execution_count": 292,
   "id": "a2daf96e",
   "metadata": {},
   "outputs": [],
   "source": [
    "input_reshape = np.shape(noise[y==mvt,:])[0]"
   ]
  },
  {
   "cell_type": "code",
   "execution_count": 293,
   "id": "576d4a99",
   "metadata": {},
   "outputs": [],
   "source": [
    "noise_p = noise[y==mvt,:].reshape(input_reshape*16,8)"
   ]
  },
  {
   "cell_type": "code",
   "execution_count": 294,
   "id": "44267c56",
   "metadata": {},
   "outputs": [
    {
     "data": {
      "text/plain": [
       "(0, 8)"
      ]
     },
     "execution_count": 294,
     "metadata": {},
     "output_type": "execute_result"
    }
   ],
   "source": [
    "np.shape(noise_p)"
   ]
  },
  {
   "cell_type": "code",
   "execution_count": 295,
   "id": "c5c9a1c2",
   "metadata": {},
   "outputs": [
    {
     "name": "stderr",
     "output_type": "stream",
     "text": [
      "/home/ec2-user/anaconda3/envs/tensorflow_p36/lib/python3.6/site-packages/ipykernel/__main__.py:1: RuntimeWarning: Degrees of freedom <= 0 for slice\n",
      "  if __name__ == '__main__':\n"
     ]
    }
   ],
   "source": [
    "Sigma_i = np.cov(noise_p.transpose())\n",
    "# Sigma_i = Sigma"
   ]
  },
  {
   "cell_type": "code",
   "execution_count": 296,
   "id": "0742f661",
   "metadata": {},
   "outputs": [
    {
     "data": {
      "text/plain": [
       "(8,)"
      ]
     },
     "execution_count": 296,
     "metadata": {},
     "output_type": "execute_result"
    }
   ],
   "source": [
    "np.shape(mu_i)"
   ]
  },
  {
   "cell_type": "code",
   "execution_count": 297,
   "id": "7acb61d7",
   "metadata": {},
   "outputs": [
    {
     "data": {
      "text/plain": [
       "(8, 8)"
      ]
     },
     "execution_count": 297,
     "metadata": {},
     "output_type": "execute_result"
    }
   ],
   "source": [
    "np.shape(Sigma_i)"
   ]
  },
  {
   "cell_type": "code",
   "execution_count": 298,
   "id": "3b3f9b38",
   "metadata": {},
   "outputs": [],
   "source": [
    "# np.shape(X_train)\n",
    "# X_train=np.transpose(X_train,(0,3, 2, 1))\n",
    "# np.shape(X_train)\n",
    "# new = c_train.reshape(8521*8*8,8)\n",
    "# np.shape(new)\n",
    "# c_train =new\n",
    "# Sigma = np.cov(new.transpose())"
   ]
  },
  {
   "cell_type": "code",
   "execution_count": 299,
   "id": "a9f41dfa",
   "metadata": {},
   "outputs": [
    {
     "ename": "LinAlgError",
     "evalue": "SVD did not converge",
     "output_type": "error",
     "traceback": [
      "\u001b[0;31m---------------------------------------------------------------------------\u001b[0m",
      "\u001b[0;31mLinAlgError\u001b[0m                               Traceback (most recent call last)",
      "\u001b[0;32m<ipython-input-299-938188f64eaa>\u001b[0m in \u001b[0;36m<module>\u001b[0;34m\u001b[0m\n\u001b[0;32m----> 1\u001b[0;31m \u001b[0mrandom_codes_i\u001b[0m \u001b[0;34m=\u001b[0m \u001b[0mnp\u001b[0m\u001b[0;34m.\u001b[0m\u001b[0mrandom\u001b[0m\u001b[0;34m.\u001b[0m\u001b[0mmultivariate_normal\u001b[0m\u001b[0;34m(\u001b[0m\u001b[0mmu_i\u001b[0m\u001b[0;34m,\u001b[0m \u001b[0mSigma_i\u001b[0m\u001b[0;34m,\u001b[0m\u001b[0;36m8521\u001b[0m\u001b[0;34m)\u001b[0m\u001b[0;34m\u001b[0m\u001b[0;34m\u001b[0m\u001b[0m\n\u001b[0m",
      "\u001b[0;32mmtrand.pyx\u001b[0m in \u001b[0;36mnumpy.random.mtrand.RandomState.multivariate_normal\u001b[0;34m()\u001b[0m\n",
      "\u001b[0;32m<__array_function__ internals>\u001b[0m in \u001b[0;36msvd\u001b[0;34m(*args, **kwargs)\u001b[0m\n",
      "\u001b[0;32m~/anaconda3/envs/tensorflow_p36/lib/python3.6/site-packages/numpy/linalg/linalg.py\u001b[0m in \u001b[0;36msvd\u001b[0;34m(a, full_matrices, compute_uv, hermitian)\u001b[0m\n\u001b[1;32m   1624\u001b[0m \u001b[0;34m\u001b[0m\u001b[0m\n\u001b[1;32m   1625\u001b[0m         \u001b[0msignature\u001b[0m \u001b[0;34m=\u001b[0m \u001b[0;34m'D->DdD'\u001b[0m \u001b[0;32mif\u001b[0m \u001b[0misComplexType\u001b[0m\u001b[0;34m(\u001b[0m\u001b[0mt\u001b[0m\u001b[0;34m)\u001b[0m \u001b[0;32melse\u001b[0m \u001b[0;34m'd->ddd'\u001b[0m\u001b[0;34m\u001b[0m\u001b[0;34m\u001b[0m\u001b[0m\n\u001b[0;32m-> 1626\u001b[0;31m         \u001b[0mu\u001b[0m\u001b[0;34m,\u001b[0m \u001b[0ms\u001b[0m\u001b[0;34m,\u001b[0m \u001b[0mvh\u001b[0m \u001b[0;34m=\u001b[0m \u001b[0mgufunc\u001b[0m\u001b[0;34m(\u001b[0m\u001b[0ma\u001b[0m\u001b[0;34m,\u001b[0m \u001b[0msignature\u001b[0m\u001b[0;34m=\u001b[0m\u001b[0msignature\u001b[0m\u001b[0;34m,\u001b[0m \u001b[0mextobj\u001b[0m\u001b[0;34m=\u001b[0m\u001b[0mextobj\u001b[0m\u001b[0;34m)\u001b[0m\u001b[0;34m\u001b[0m\u001b[0;34m\u001b[0m\u001b[0m\n\u001b[0m\u001b[1;32m   1627\u001b[0m         \u001b[0mu\u001b[0m \u001b[0;34m=\u001b[0m \u001b[0mu\u001b[0m\u001b[0;34m.\u001b[0m\u001b[0mastype\u001b[0m\u001b[0;34m(\u001b[0m\u001b[0mresult_t\u001b[0m\u001b[0;34m,\u001b[0m \u001b[0mcopy\u001b[0m\u001b[0;34m=\u001b[0m\u001b[0;32mFalse\u001b[0m\u001b[0;34m)\u001b[0m\u001b[0;34m\u001b[0m\u001b[0;34m\u001b[0m\u001b[0m\n\u001b[1;32m   1628\u001b[0m         \u001b[0ms\u001b[0m \u001b[0;34m=\u001b[0m \u001b[0ms\u001b[0m\u001b[0;34m.\u001b[0m\u001b[0mastype\u001b[0m\u001b[0;34m(\u001b[0m\u001b[0m_realType\u001b[0m\u001b[0;34m(\u001b[0m\u001b[0mresult_t\u001b[0m\u001b[0;34m)\u001b[0m\u001b[0;34m,\u001b[0m \u001b[0mcopy\u001b[0m\u001b[0;34m=\u001b[0m\u001b[0;32mFalse\u001b[0m\u001b[0;34m)\u001b[0m\u001b[0;34m\u001b[0m\u001b[0;34m\u001b[0m\u001b[0m\n",
      "\u001b[0;32m~/anaconda3/envs/tensorflow_p36/lib/python3.6/site-packages/numpy/linalg/linalg.py\u001b[0m in \u001b[0;36m_raise_linalgerror_svd_nonconvergence\u001b[0;34m(err, flag)\u001b[0m\n\u001b[1;32m    104\u001b[0m \u001b[0;34m\u001b[0m\u001b[0m\n\u001b[1;32m    105\u001b[0m \u001b[0;32mdef\u001b[0m \u001b[0m_raise_linalgerror_svd_nonconvergence\u001b[0m\u001b[0;34m(\u001b[0m\u001b[0merr\u001b[0m\u001b[0;34m,\u001b[0m \u001b[0mflag\u001b[0m\u001b[0;34m)\u001b[0m\u001b[0;34m:\u001b[0m\u001b[0;34m\u001b[0m\u001b[0;34m\u001b[0m\u001b[0m\n\u001b[0;32m--> 106\u001b[0;31m     \u001b[0;32mraise\u001b[0m \u001b[0mLinAlgError\u001b[0m\u001b[0;34m(\u001b[0m\u001b[0;34m\"SVD did not converge\"\u001b[0m\u001b[0;34m)\u001b[0m\u001b[0;34m\u001b[0m\u001b[0;34m\u001b[0m\u001b[0m\n\u001b[0m\u001b[1;32m    107\u001b[0m \u001b[0;34m\u001b[0m\u001b[0m\n\u001b[1;32m    108\u001b[0m \u001b[0;32mdef\u001b[0m \u001b[0m_raise_linalgerror_lstsq\u001b[0m\u001b[0;34m(\u001b[0m\u001b[0merr\u001b[0m\u001b[0;34m,\u001b[0m \u001b[0mflag\u001b[0m\u001b[0;34m)\u001b[0m\u001b[0;34m:\u001b[0m\u001b[0;34m\u001b[0m\u001b[0;34m\u001b[0m\u001b[0m\n",
      "\u001b[0;31mLinAlgError\u001b[0m: SVD did not converge"
     ]
    }
   ],
   "source": [
    "random_codes_i = np.random.multivariate_normal(mu_i, Sigma_i,8521)"
   ]
  },
  {
   "cell_type": "code",
   "execution_count": 288,
   "id": "8103fea8",
   "metadata": {},
   "outputs": [
    {
     "data": {
      "text/plain": [
       "(8521, 128)"
      ]
     },
     "execution_count": 288,
     "metadata": {},
     "output_type": "execute_result"
    }
   ],
   "source": [
    "np.shape(noise)"
   ]
  },
  {
   "cell_type": "code",
   "execution_count": 228,
   "id": "684412f7",
   "metadata": {},
   "outputs": [],
   "source": [
    "import matplotlib.pyplot as plt"
   ]
  },
  {
   "cell_type": "code",
   "execution_count": 289,
   "id": "897515be",
   "metadata": {},
   "outputs": [
    {
     "data": {
      "text/plain": [
       "<Figure size 504x504 with 0 Axes>"
      ]
     },
     "execution_count": 289,
     "metadata": {},
     "output_type": "execute_result"
    },
    {
     "data": {
      "text/plain": [
       "<Figure size 504x504 with 0 Axes>"
      ]
     },
     "metadata": {},
     "output_type": "display_data"
    }
   ],
   "source": [
    "generated_images = generator.predict([noise, random_codes_i])*0.5 + 0.5\n",
    "plt.figure(figsize=(7,7))"
   ]
  },
  {
   "cell_type": "code",
   "execution_count": 290,
   "id": "1787c06c",
   "metadata": {},
   "outputs": [
    {
     "data": {
      "image/png": "[encoded data removed]",
      "text/plain": [
       "<Figure size 432x288 with 15 Axes>"
      ]
     },
     "metadata": {
      "needs_background": "light"
     },
     "output_type": "display_data"
    }
   ],
   "source": [
    "for i in range(15):\n",
    "    plt.subplot(5, 3, i+1)\n",
    "    #plt.imshow(generated_images[i].transpose((1,2,0)))\n",
    "    plt.imshow(generated_images[i].transpose((1,2,0)))\n",
    "    plt.axis('off')\n",
    "plt.tight_layout(pad=-2, h_pad=-2, w_pad=-2)"
   ]
  },
  {
   "cell_type": "code",
   "execution_count": null,
   "id": "95ed701f",
   "metadata": {},
   "outputs": [],
   "source": []
  },
  {
   "cell_type": "code",
   "execution_count": null,
   "id": "4650e8d0",
   "metadata": {},
   "outputs": [],
   "source": []
  }
 ],
 "metadata": {
  "kernelspec": {
   "display_name": "conda_tensorflow_p36",
   "language": "python",
   "name": "conda_tensorflow_p36"
  },
  "language_info": {
   "codemirror_mode": {
    "name": "ipython",
    "version": 3
   },
   "file_extension": ".py",
   "mimetype": "text/x-python",
   "name": "python",
   "nbconvert_exporter": "python",
   "pygments_lexer": "ipython3",
   "version": "3.6.13"
  }
 },
 "nbformat": 4,
 "nbformat_minor": 5
}
